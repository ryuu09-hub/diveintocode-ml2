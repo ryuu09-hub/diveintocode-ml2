{
 "cells": [
  {
   "cell_type": "markdown",
   "metadata": {},
   "source": [
    "# Sprint5\n",
    "## 機械学習スクラッチSVM"
   ]
  },
  {
   "cell_type": "code",
   "execution_count": 1,
   "metadata": {},
   "outputs": [],
   "source": [
    "import numpy as np\n",
    "import pandas as pd\n",
    "import matplotlib.pyplot as plt\n",
    "%matplotlib inline\n",
    "import seaborn as sns\n",
    "from numpy.random import *\n",
    "from sklearn.datasets import load_iris"
   ]
  },
  {
   "cell_type": "markdown",
   "metadata": {},
   "source": [
    "## Irisデータ取得"
   ]
  },
  {
   "cell_type": "code",
   "execution_count": 2,
   "metadata": {},
   "outputs": [],
   "source": [
    "iris=load_iris()"
   ]
  },
  {
   "cell_type": "code",
   "execution_count": 623,
   "metadata": {},
   "outputs": [],
   "source": [
    "X=iris.data[50:,2:]\n",
    "y=iris.target[50:]-1\n",
    "y[:50]-=1\n",
    "#y=y.tolist()"
   ]
  },
  {
   "cell_type": "code",
   "execution_count": 624,
   "metadata": {},
   "outputs": [],
   "source": [
    "#シンプルデータセット1作成コード\n",
    "\n",
    "np.random.seed(seed=0)\n",
    "n_samples = 500\n",
    "f0 = [-1, 2]\n",
    "f1 = [2, -1]\n",
    "cov = [[1.0,0.8], [0.8, 1.0]]\n",
    "\n",
    "f0 = np.random.multivariate_normal(f0, cov, int(n_samples/2))\n",
    "f1 = np.random.multivariate_normal(f1, cov, int(n_samples/2))\n",
    "\n",
    "X1 = np.concatenate((f0, f1))\n",
    "y1 = np.concatenate((np.ones((int(n_samples/2))), np.ones((int(n_samples/2))) *(-1))).astype(np.int)\n",
    "\n",
    "random_index = np.random.permutation(np.arange(n_samples))\n",
    "X1= X1[random_index]\n",
    "y1 = y1[random_index]"
   ]
  },
  {
   "cell_type": "markdown",
   "metadata": {},
   "source": [
    "## 【問題1】SVM分類器のクラスを作成する"
   ]
  },
  {
   "cell_type": "code",
   "execution_count": 742,
   "metadata": {},
   "outputs": [],
   "source": [
    "class ScratchSVMClassifier():\n",
    "    \"\"\"\n",
    "    SVMのスクラッチ\n",
    "    \n",
    "    Parameters\n",
    "    ----------\n",
    "\n",
    "    num_iter : int\n",
    "      イテレーション数\n",
    "    lr : float\n",
    "      学習率\n",
    "    no_bias : bool\n",
    "      バイアス項を入れない場合はTrue\n",
    "    verbose : bool\n",
    "      学習過程を出力する場合はTrue\n",
    "    lam : lambda\n",
    "      正則化の値\n",
    "    Attributes\n",
    "    ----------\n",
    "    self.coef_ : 次の形のndarray, shape (n_features,)\n",
    "      パラメータ\n",
    "    self.loss : 次の形のndarray, shape (self.iter,)\n",
    "      学習用データに対する損失の記録\n",
    "    self.val_loss : 次の形のndarray, shape (self.iter,)\n",
    "      検証用データに対する損失の記録\n",
    "    \"\"\"\n",
    "    \n",
    "    def __init__(self, num_iter, lr, verbose, threshold=0.55):\n",
    "        self.iter=num_iter\n",
    "        self.lr=lr\n",
    "        self.verbose=verbose\n",
    "        self.ts=threshold\n",
    "        #サポートベクタ配列\n",
    "        self.lam_array=np.array([])\n",
    "        self.y_label =np.array([])\n",
    "        self.sv =np.array([])\n",
    "        \n",
    "    def fit(self,X,y,X_val=None,y_val=None):\n",
    "        \"\"\"\n",
    "        SVMを学習する。検証用データが入力された場合はそれに対する損失と精度もイテレーションごとに計算する。\n",
    "        Parameters\n",
    "        ----------\n",
    "        X : 次の形のndarray, shape (n_samples, n_features)\n",
    "            学習用データの特徴量\n",
    "        y : 次の形のndarray, shape (n_samples, )\n",
    "            学習用データの正解値\n",
    "        X_val : 次の形のndarray, shape (n_samples, n_features)\n",
    "            検証用データの特徴量\n",
    "        y_val : 次の形のndarray, shape (n_samples, )\n",
    "            検証用データの正解値\n",
    "        \"\"\"\n",
    "        #サンプル数定義\n",
    "        self.m=X.shape[0]\n",
    "        \n",
    "        #ラグランジュ関数の初期値設定\n",
    "        self.lam=np.random.rand(self.m,1)\n",
    "        \n",
    "        #サポートベクトルを探す\n",
    "        for n in rand(self.iter):\n",
    "            y=y.reshape(-1,1)\n",
    "            y_mat=np.dot(y,y.T)\n",
    "            X_mat=np.dot(X,X.T)\n",
    "            Xy_mat=y_mat*X_mat\n",
    "            temp=np.dot(Xy_mat,self.lam)\n",
    "            \n",
    "            #ラグランジュ関数（ラムダ）更新式\n",
    "            #print(self.lam)\n",
    "            self.lam = self.lam + self.lr * (1-temp)\n",
    "            #ラグランジュがマイナスの場合\n",
    "            self.lam[np.where(self.lam<0,True,False)]=0\n",
    "            \n",
    "        # サポートベクター選定(閾値以上のラムダ格納) \n",
    "        self.lam_array =(self.lam[self.lam >= self.ts])\n",
    "        #lam_arrayのshape\n",
    "        #print(self.lam_array.shape,\"ramuda\")\n",
    "        # 閾値以上のラムダのインデックスを取得\n",
    "        self.sv_index =np.where(self.lam >= self.ts)[0]\n",
    "        #sv_indexのshape\n",
    "        #print(self.sv_index.shape,\"svi\")\n",
    "        # ラベル取得\n",
    "        self.y_label =y[self.sv_index]\n",
    "        #self.y_labelのshape\n",
    "        #print(self.y_label.shape,\"yラベル\")\n",
    "        # サポートベクター取得\n",
    "        self.sv =X[self.sv_index]    \n",
    "        #self.cvのshape\n",
    "        #print(self.sv.shape,\"SV\")\n",
    "        \n",
    "        self.X=X\n",
    "        self.y=y\n",
    "    def predict(self,X):\n",
    "        \"\"\"\n",
    "        SVMを使いラベルを推定する。\n",
    "\n",
    "        Parameters\n",
    "        ----------\n",
    "        X : 次の形のndarray, shape (n_samples, n_features)\n",
    "            サンプル\n",
    "       thetashould : 閾値　def＝０.５\n",
    "        Returns\n",
    "        -------\n",
    "            次の形のndarray, shape (n_samples, 1)\n",
    "            ロジスティック回帰による推定結果\n",
    "        \"\"\"\n",
    "        \n",
    "        pred = np.dot(self.lam_array,self.y_label*np.dot(self.sv,X.T))\n",
    "        #pred = np.dot(self.lam.reshape(1,-1),self.y*np.dot(self.X,X.T))\n",
    "        return np.where(pred<0,-1,1)\n",
    "    \n",
    "\n",
    "                    "
   ]
  },
  {
   "cell_type": "code",
   "execution_count": 703,
   "metadata": {},
   "outputs": [],
   "source": [
    "model_s1=ScratchSVMClassifier(10000, 0.0001, True, 0.01)"
   ]
  },
  {
   "cell_type": "code",
   "execution_count": 621,
   "metadata": {},
   "outputs": [],
   "source": [
    "model_s1.fit(X1,y1)"
   ]
  },
  {
   "cell_type": "code",
   "execution_count": 603,
   "metadata": {},
   "outputs": [
    {
     "data": {
      "text/plain": [
       "array([0.29558125, 0.06836483, 0.1269957 , 0.16529264, 0.27263621,\n",
       "       0.03978033, 0.07762432, 0.019916  ])"
      ]
     },
     "execution_count": 603,
     "metadata": {},
     "output_type": "execute_result"
    }
   ],
   "source": [
    "model_s1.lam_array"
   ]
  },
  {
   "cell_type": "code",
   "execution_count": 604,
   "metadata": {},
   "outputs": [
    {
     "data": {
      "image/png": "[encoded data removed]",
      "text/plain": [
       "<Figure size 432x288 with 1 Axes>"
      ]
     },
     "metadata": {
      "needs_background": "light"
     },
     "output_type": "display_data"
    }
   ],
   "source": [
    "plt.scatter(X1[:,0],X1[:,1])\n",
    "plt.scatter(model_s1.sv[:,0],model_s1.sv[:,1])\n",
    "plt.show()"
   ]
  },
  {
   "cell_type": "code",
   "execution_count": 743,
   "metadata": {},
   "outputs": [],
   "source": [
    "model=ScratchSVMClassifier(1000, 0.00001, True, 0)"
   ]
  },
  {
   "cell_type": "code",
   "execution_count": 744,
   "metadata": {},
   "outputs": [],
   "source": [
    "model.fit(X_train,y_train)"
   ]
  },
  {
   "cell_type": "code",
   "execution_count": 745,
   "metadata": {},
   "outputs": [
    {
     "data": {
      "text/plain": [
       "array([0.83098477, 0.55558671, 0.00405424, 0.73170008, 0.95318075,\n",
       "       0.03284308, 0.67640503, 0.81581204, 0.30533327, 0.38088092,\n",
       "       0.23048531, 0.34617902, 1.01602744, 0.05366275, 0.30794812,\n",
       "       0.65850135, 0.82303175, 0.05119007, 0.00952708, 0.91158838,\n",
       "       0.57181801, 0.87086733, 0.90874954, 0.90202711, 0.52822162,\n",
       "       0.22658256, 0.70293204, 0.27858797, 0.81387719, 0.79629442,\n",
       "       0.53846286, 0.12596394, 0.85985903, 0.87991029, 0.81914861,\n",
       "       0.83089317, 0.13165404, 0.06812428, 0.47743758, 0.44766406,\n",
       "       0.21176705, 0.97187831, 0.42318583, 0.96798865, 0.03189875,\n",
       "       0.26029921, 0.95762776, 0.98628522, 0.27181727, 0.25802986,\n",
       "       0.73831695, 0.18928503, 0.72466288, 1.01599422, 0.24229651,\n",
       "       0.73758246, 0.78973145, 0.        , 0.27004248, 0.22327151,\n",
       "       0.52475814, 0.42302608, 0.1774486 , 0.67563256, 0.26839243,\n",
       "       1.00096475, 0.66754723, 0.91001946, 0.53787059, 0.40922375,\n",
       "       0.89030126, 0.60239485, 0.20458854, 0.59177826, 0.57971485])"
      ]
     },
     "execution_count": 745,
     "metadata": {},
     "output_type": "execute_result"
    }
   ],
   "source": [
    "model.lam_array"
   ]
  },
  {
   "cell_type": "code",
   "execution_count": 746,
   "metadata": {},
   "outputs": [
    {
     "data": {
      "image/png": "[encoded data removed]",
      "text/plain": [
       "<Figure size 432x288 with 1 Axes>"
      ]
     },
     "metadata": {
      "needs_background": "light"
     },
     "output_type": "display_data"
    }
   ],
   "source": [
    "plt.scatter(X[:,0],X[:,1])\n",
    "plt.scatter(model.sv[:,0],model.sv[:,1])\n",
    "plt.show()"
   ]
  },
  {
   "cell_type": "code",
   "execution_count": 747,
   "metadata": {},
   "outputs": [
    {
     "data": {
      "text/plain": [
       "array([-1, -1, -1, -1, -1, -1,  1, -1,  1,  1,  1, -1,  1, -1, -1, -1, -1,\n",
       "        1,  1, -1, -1, -1, -1, -1,  1])"
      ]
     },
     "execution_count": 747,
     "metadata": {},
     "output_type": "execute_result"
    }
   ],
   "source": [
    "model.predict(X_test)"
   ]
  },
  {
   "cell_type": "code",
   "execution_count": 711,
   "metadata": {},
   "outputs": [],
   "source": [
    "from sklearn.model_selection import train_test_split\n",
    "X_train, X_test, y_train, y_test=train_test_split(X, y, test_size=0.25,random_state=9999)"
   ]
  },
  {
   "cell_type": "code",
   "execution_count": 407,
   "metadata": {},
   "outputs": [],
   "source": [
    "class ScratchSVMClassifier2:\n",
    "    def __init__(self, num_iter, lr, threshold=1e-5):\n",
    "        self.iter = num_iter\n",
    "        self.lr = lr\n",
    "        self.ts = threshold\n",
    "        self.y_label = []\n",
    "        self.sv = []\n",
    "        self.lam_array = [] \n",
    "        \n",
    "    def fit(self, X, y):\n",
    "        # ラムダ配列初期値\n",
    "        lam = np.random.rand(len(X), 1)\n",
    "        \n",
    "        # サポートベクトル探索\n",
    "        for n in range(self.iter):\n",
    "            for i in range(len(X)):\n",
    "                temp = 0\n",
    "                for j in range(len(X)):\n",
    "                    temp += lam[j]*y[i]*y[j]*np.dot(X[i].T, X[j])\n",
    "                # ラムダの更新\n",
    "                lam[i] = lam[i] + self.lr * (1 - temp)\n",
    "                if(lam[i] < 0):\n",
    "                    lam[i] = 0\n",
    "                    \n",
    "        # 閾値以上のラムダ選出\n",
    "        self.lam_array = lam[lam >= self.ts]\n",
    "        # 閾値以上のラムダのインデックスを取得\n",
    "        index = np.where(lam >= self.ts)[0]\n",
    "        # yラベルを取得\n",
    "        self.y_label = y[index]\n",
    "        # サポートベクター配列\n",
    "        self.sv = X[index]       \n",
    "        \n",
    "    def predict(self, X):\n",
    "        \n",
    "        pred = 0\n",
    "        for i in range(len(self.sv)):\n",
    "                pred = pred +self.lam_array[i] * self.y_label[i] * np.dot(X, self.sv[i].T)\n",
    "                \n",
    "        return pred"
   ]
  },
  {
   "cell_type": "code",
   "execution_count": 404,
   "metadata": {},
   "outputs": [],
   "source": [
    "model2=ScratchSVMClassifier2(200,0.01)"
   ]
  },
  {
   "cell_type": "code",
   "execution_count": 403,
   "metadata": {},
   "outputs": [],
   "source": [
    "model2.fit(X_train,y_train)"
   ]
  },
  {
   "cell_type": "code",
   "execution_count": 409,
   "metadata": {},
   "outputs": [
    {
     "data": {
      "text/plain": [
       "array(1)"
      ]
     },
     "execution_count": 409,
     "metadata": {},
     "output_type": "execute_result"
    }
   ],
   "source": [
    "model2.predict(X_test)"
   ]
  },
  {
   "cell_type": "code",
   "execution_count": 630,
   "metadata": {},
   "outputs": [],
   "source": [
    "from matplotlib.colors import ListedColormap\n",
    "import matplotlib.patches as mpatches\n",
    "\n",
    "def SVM(X, y, model, step=0.01, title='logistic region', xlabel='petal_length', ylabel='petal_width', target_names=['versicolor', 'virginica']):\n",
    "    \"\"\"\n",
    "    2値分類を2次元の特徴量で学習したモデルの決定領域を描く。\n",
    "    背景の色が学習したモデルによる推定値から描画される。\n",
    "    散布図の点は訓練データまたは検証データである。\n",
    "\n",
    "    Parameters\n",
    "    ----------------\n",
    "    X : ndarray, shape(n_samples, 2)\n",
    "        特徴量\n",
    "    y : ndarray, shape(n_samples,)\n",
    "        ラベル\n",
    "    model : object\n",
    "        学習したモデルのインスンタスを入れる\n",
    "    step : float, (default : 0.1)\n",
    "        推定値を計算する間隔を設定する\n",
    "    title : str\n",
    "        グラフのタイトルの文章を与える\n",
    "    xlabel, ylabel : str\n",
    "        軸ラベルの文章を与える\n",
    "    target_names= : list of str\n",
    "        凡例の一覧を与える\n",
    "    \"\"\"\n",
    " \n",
    "    # setting\n",
    "    scatter_color = ['red', 'blue']\n",
    "    contourf_color = ['pink', 'skyblue']\n",
    "    n_class = 2\n",
    "\n",
    "    # pred\n",
    "    mesh_f0, mesh_f1  = np.meshgrid(np.arange(np.min(X[:,0])-0.5, np.max(X[:,0])+0.5, step), np.arange(np.min(X[:,1])-0.5, np.max(X[:,1])+0.5, step))\n",
    "    mesh = np.c_[np.ravel(mesh_f0),np.ravel(mesh_f1)]\n",
    "    y_pred = model.predict(mesh).reshape(mesh_f0.shape)\n",
    "\n",
    "    # plot\n",
    "    plt.title(title)\n",
    "    plt.xlabel(xlabel)\n",
    "    plt.ylabel(ylabel)\n",
    "    plt.contourf(mesh_f0, mesh_f1, y_pred, n_class-1, cmap=ListedColormap(contourf_color))\n",
    "    plt.contour(mesh_f0, mesh_f1, y_pred, n_class-1, colors='y', linewidths=3, alpha=0.5)\n",
    "    for i, target in enumerate(set(y)):\n",
    "        plt.scatter(X[y==target][:, 0], X[y==target][:, 1], s=80, color=scatter_color[i], label=target_names[i], marker='o')\n",
    "    patches = [mpatches.Patch(color=scatter_color[i], label=target_names[i]) for i in range(n_class)]\n",
    "    plt.legend(handles=patches)\n",
    "    plt.legend()\n",
    "    plt.show()"
   ]
  },
  {
   "cell_type": "code",
   "execution_count": 605,
   "metadata": {},
   "outputs": [
    {
     "data": {
      "image/png": "[encoded data removed]",
      "text/plain": [
       "<Figure size 432x288 with 1 Axes>"
      ]
     },
     "metadata": {
      "needs_background": "light"
     },
     "output_type": "display_data"
    }
   ],
   "source": [
    "SVM(X1,y1,model)"
   ]
  },
  {
   "cell_type": "code",
   "execution_count": 748,
   "metadata": {},
   "outputs": [
    {
     "data": {
      "image/png": "[encoded data removed]",
      "text/plain": [
       "<Figure size 432x288 with 1 Axes>"
      ]
     },
     "metadata": {
      "needs_background": "light"
     },
     "output_type": "display_data"
    }
   ],
   "source": [
    "SVM(X,y,model)"
   ]
  },
  {
   "cell_type": "code",
   "execution_count": null,
   "metadata": {},
   "outputs": [],
   "source": []
  },
  {
   "cell_type": "code",
   "execution_count": null,
   "metadata": {},
   "outputs": [],
   "source": []
  }
 ],
 "metadata": {
  "kernelspec": {
   "display_name": "Python 3",
   "language": "python",
   "name": "python3"
  },
  "language_info": {
   "codemirror_mode": {
    "name": "ipython",
    "version": 3
   },
   "file_extension": ".py",
   "mimetype": "text/x-python",
   "name": "python",
   "nbconvert_exporter": "python",
   "pygments_lexer": "ipython3",
   "version": "3.7.3"
  }
 },
 "nbformat": 4,
 "nbformat_minor": 2
}
