{
 "cells": [
  {
   "cell_type": "markdown",
   "metadata": {},
   "source": [
    "# Sprint5\n",
    "## 機械学習スクラッチSVM"
   ]
  },
  {
   "cell_type": "code",
   "execution_count": 1,
   "metadata": {},
   "outputs": [],
   "source": [
    "import numpy as np\n",
    "import pandas as pd\n",
    "import matplotlib.pyplot as plt\n",
    "%matplotlib inline\n",
    "import seaborn as sns\n",
    "from numpy.random import *\n",
    "from sklearn.datasets import load_iris"
   ]
  },
  {
   "cell_type": "markdown",
   "metadata": {},
   "source": [
    "## Irisデータ取得"
   ]
  },
  {
   "cell_type": "code",
   "execution_count": 2,
   "metadata": {},
   "outputs": [],
   "source": [
    "iris=load_iris()"
   ]
  },
  {
   "cell_type": "code",
   "execution_count": 3,
   "metadata": {},
   "outputs": [],
   "source": [
    "X=iris.data[50:,2:]\n",
    "y=iris.target[50:]-1\n",
    "y[:50]-=1\n",
    "#y=y.tolist()"
   ]
  },
  {
   "cell_type": "code",
   "execution_count": 4,
   "metadata": {},
   "outputs": [],
   "source": [
    "#シンプルデータセット1作成コード\n",
    "\n",
    "np.random.seed(seed=0)\n",
    "n_samples = 500\n",
    "f0 = [-1, 2]\n",
    "f1 = [2, -1]\n",
    "cov = [[1.0,0.8], [0.8, 1.0]]\n",
    "\n",
    "f0 = np.random.multivariate_normal(f0, cov, int(n_samples/2))\n",
    "f1 = np.random.multivariate_normal(f1, cov, int(n_samples/2))\n",
    "\n",
    "X1 = np.concatenate((f0, f1))\n",
    "y1 = np.concatenate((np.ones((int(n_samples/2))), np.ones((int(n_samples/2))) *(-1))).astype(np.int)\n",
    "\n",
    "random_index = np.random.permutation(np.arange(n_samples))\n",
    "X1= X1[random_index]\n",
    "y1 = y1[random_index]"
   ]
  },
  {
   "cell_type": "markdown",
   "metadata": {},
   "source": [
    "## 【問題1】SVM分類器のクラスを作成する"
   ]
  },
  {
   "cell_type": "code",
   "execution_count": 5,
   "metadata": {},
   "outputs": [],
   "source": [
    "class ScratchSVMClassifier():\n",
    "    \"\"\"\n",
    "    SVMのスクラッチ\n",
    "    \n",
    "    Parameters\n",
    "    ----------\n",
    "\n",
    "    num_iter : int\n",
    "      イテレーション数\n",
    "    lr : float\n",
    "      学習率\n",
    "    no_bias : bool\n",
    "      バイアス項を入れない場合はTrue\n",
    "    verbose : bool\n",
    "      学習過程を出力する場合はTrue\n",
    "    lam : lambda\n",
    "      正則化の値\n",
    "    Attributes\n",
    "    ----------\n",
    "    self.coef_ : 次の形のndarray, shape (n_features,)\n",
    "      パラメータ\n",
    "    self.loss : 次の形のndarray, shape (self.iter,)\n",
    "      学習用データに対する損失の記録\n",
    "    self.val_loss : 次の形のndarray, shape (self.iter,)\n",
    "      検証用データに対する損失の記録\n",
    "    \"\"\"\n",
    "    \n",
    "    def __init__(self, num_iter, lr, verbose, threshold=0.55):\n",
    "        self.iter=num_iter\n",
    "        self.lr=lr\n",
    "        self.verbose=verbose\n",
    "        self.ts=threshold\n",
    "        #サポートベクタ配列\n",
    "        self.lam_array=np.array([])\n",
    "        self.y_label =np.array([])\n",
    "        self.sv =np.array([])\n",
    "        \n",
    "    def fit(self,X,y,X_val=None,y_val=None):\n",
    "        \"\"\"\n",
    "        SVMを学習する。検証用データが入力された場合はそれに対する損失と精度もイテレーションごとに計算する。\n",
    "        Parameters\n",
    "        ----------\n",
    "        X : 次の形のndarray, shape (n_samples, n_features)\n",
    "            学習用データの特徴量\n",
    "        y : 次の形のndarray, shape (n_samples, )\n",
    "            学習用データの正解値\n",
    "        X_val : 次の形のndarray, shape (n_samples, n_features)\n",
    "            検証用データの特徴量\n",
    "        y_val : 次の形のndarray, shape (n_samples, )\n",
    "            検証用データの正解値\n",
    "        \"\"\"\n",
    "        #サンプル数定義\n",
    "        self.m=X.shape[0]\n",
    "        \n",
    "        #ラグランジュ関数の初期値設定\n",
    "        self.lam=np.random.rand(self.m,1)\n",
    "        \n",
    "        #サポートベクトルを探す\n",
    "        for n in rand(self.iter):\n",
    "            y=y.reshape(-1,1)\n",
    "            y_mat=np.dot(y,y.T)\n",
    "            X_mat=np.dot(X,X.T)\n",
    "            Xy_mat=y_mat*X_mat\n",
    "            temp=np.dot(Xy_mat,self.lam)\n",
    "            \n",
    "            #ラグランジュ関数（ラムダ）更新式\n",
    "            #print(self.lam)\n",
    "            self.lam = self.lam + self.lr * (1-temp)\n",
    "            #ラグランジュがマイナスの場合\n",
    "            self.lam[np.where(self.lam<0,True,False)]=0\n",
    "            \n",
    "        # サポートベクター選定(閾値以上のラムダ格納) \n",
    "        self.lam_array =(self.lam[self.lam >= self.ts])\n",
    "        #lam_arrayのshape\n",
    "        #print(self.lam_array.shape,\"ramuda\")\n",
    "        # 閾値以上のラムダのインデックスを取得\n",
    "        self.sv_index =np.where(self.lam >= self.ts)[0]\n",
    "        #sv_indexのshape\n",
    "        #print(self.sv_index.shape,\"svi\")\n",
    "        # ラベル取得\n",
    "        self.y_label =y[self.sv_index]\n",
    "        #self.y_labelのshape\n",
    "        #print(self.y_label.shape,\"yラベル\")\n",
    "        # サポートベクター取得\n",
    "        self.sv =X[self.sv_index]    \n",
    "        #self.cvのshape\n",
    "        #print(self.sv.shape,\"SV\")\n",
    "        \n",
    "        self.X=X\n",
    "        self.y=y\n",
    "    def predict(self,X):\n",
    "        \"\"\"\n",
    "        SVMを使いラベルを推定する。\n",
    "\n",
    "        Parameters\n",
    "        ----------\n",
    "        X : 次の形のndarray, shape (n_samples, n_features)\n",
    "            サンプル\n",
    "       thetashould : 閾値　def＝０.５\n",
    "        Returns\n",
    "        -------\n",
    "            次の形のndarray, shape (n_samples, 1)\n",
    "            ロジスティック回帰による推定結果\n",
    "        \"\"\"\n",
    "        \n",
    "        pred = np.dot(self.lam_array,self.y_label*np.dot(self.sv,X.T))\n",
    "        #pred = np.dot(self.lam.reshape(1,-1),self.y*np.dot(self.X,X.T))\n",
    "        return np.where(pred<0,-1,1)\n",
    "          "
   ]
  },
  {
   "cell_type": "code",
   "execution_count": 6,
   "metadata": {},
   "outputs": [],
   "source": [
    "model_s1=ScratchSVMClassifier(10000, 0.0001, True, 0.01)"
   ]
  },
  {
   "cell_type": "code",
   "execution_count": 7,
   "metadata": {},
   "outputs": [],
   "source": [
    "model_s1.fit(X1,y1)"
   ]
  },
  {
   "cell_type": "code",
   "execution_count": 8,
   "metadata": {},
   "outputs": [
    {
     "data": {
      "text/plain": [
       "array([0.25957362, 0.13194804, 0.16143248, 0.03419275, 0.01625297,\n",
       "       0.16199285, 0.20612827, 0.02512942, 0.01030812])"
      ]
     },
     "execution_count": 8,
     "metadata": {},
     "output_type": "execute_result"
    }
   ],
   "source": [
    "model_s1.lam_array"
   ]
  },
  {
   "cell_type": "code",
   "execution_count": 9,
   "metadata": {},
   "outputs": [
    {
     "data": {
      "image/png": "[encoded data removed]",
      "text/plain": [
       "<Figure size 432x288 with 1 Axes>"
      ]
     },
     "metadata": {
      "needs_background": "light"
     },
     "output_type": "display_data"
    }
   ],
   "source": [
    "plt.scatter(X1[:,0],X1[:,1])\n",
    "plt.scatter(model_s1.sv[:,0],model_s1.sv[:,1])\n",
    "plt.show()"
   ]
  },
  {
   "cell_type": "code",
   "execution_count": 10,
   "metadata": {},
   "outputs": [],
   "source": [
    "model=ScratchSVMClassifier(1000, 0.00001, True, 0)"
   ]
  },
  {
   "cell_type": "code",
   "execution_count": 11,
   "metadata": {},
   "outputs": [],
   "source": [
    "model.fit(X,y)"
   ]
  },
  {
   "cell_type": "code",
   "execution_count": 12,
   "metadata": {},
   "outputs": [
    {
     "data": {
      "text/plain": [
       "array([0.4374167 , 0.39742017, 0.19809589, 0.64739262, 0.89571843,\n",
       "       0.95445185, 0.74922863, 0.53537297, 0.76466586, 0.90796172,\n",
       "       0.19281658, 0.77832199, 1.00724869, 0.40921142, 1.01947078,\n",
       "       0.24753475, 0.30782389, 0.29238265, 0.63877588, 0.85467487,\n",
       "       1.04312582, 0.83664112, 0.40190496, 0.1776693 , 0.91732661,\n",
       "       0.70770249, 0.16882973, 0.37203227, 0.65206512, 0.47806614,\n",
       "       0.36210614, 0.50349775, 0.790867  , 0.8670214 , 0.56284091,\n",
       "       0.18040238, 0.86638623, 0.48642307, 0.92852922, 0.90360598,\n",
       "       0.17116587, 0.38399098, 0.33220369, 0.97668939, 0.59408132,\n",
       "       1.00540072, 0.39298833, 0.91190314, 0.94338611, 0.96071061,\n",
       "       0.31238448, 0.27894052, 0.04293266, 0.6045471 , 0.03481382,\n",
       "       0.53997451, 0.29864351, 0.04649056, 0.92906291, 0.7954669 ,\n",
       "       0.73459951, 0.80517245, 0.37832644, 0.20480531, 0.11626265,\n",
       "       0.65211752, 0.76564509, 0.09992627, 0.9284526 , 0.59038158,\n",
       "       0.70088076, 0.16739639, 0.70647424, 0.00238426, 0.56339707,\n",
       "       0.79483138, 0.02239754, 0.34425353, 0.11408512, 0.68683784,\n",
       "       0.65954401, 0.36900452, 0.35578111, 0.42380133, 0.96021694,\n",
       "       0.24874881, 0.71005512, 0.78826806, 0.43313705, 0.63079299,\n",
       "       0.66485306, 0.51918163, 0.27581777, 0.49277746, 0.12868197,\n",
       "       0.52713378, 0.81434296, 0.11138797, 0.36822326, 0.2603565 ])"
      ]
     },
     "execution_count": 12,
     "metadata": {},
     "output_type": "execute_result"
    }
   ],
   "source": [
    "model.lam_array"
   ]
  },
  {
   "cell_type": "code",
   "execution_count": 14,
   "metadata": {},
   "outputs": [
    {
     "data": {
      "text/plain": [
       "array([-1, -1, -1, -1, -1, -1,  1, -1, -1,  1, -1,  1, -1, -1,  1, -1, -1,\n",
       "       -1, -1, -1,  1, -1, -1, -1, -1, -1, -1,  1, -1, -1, -1, -1, -1, -1,\n",
       "       -1,  1, -1, -1, -1, -1, -1, -1, -1, -1, -1, -1, -1, -1,  1, -1,  1,\n",
       "        1,  1, -1,  1, -1,  1, -1, -1,  1,  1,  1,  1,  1,  1,  1, -1, -1,\n",
       "       -1, -1,  1,  1, -1,  1,  1, -1,  1,  1,  1, -1, -1, -1,  1, -1, -1,\n",
       "        1,  1, -1,  1,  1,  1,  1,  1,  1,  1,  1,  1,  1,  1,  1])"
      ]
     },
     "execution_count": 14,
     "metadata": {},
     "output_type": "execute_result"
    }
   ],
   "source": [
    "model.predict(X)"
   ]
  },
  {
   "cell_type": "code",
   "execution_count": 15,
   "metadata": {},
   "outputs": [],
   "source": [
    "from sklearn.model_selection import train_test_split\n",
    "X_train, X_test, y_train, y_test=train_test_split(X, y, test_size=0.25,random_state=9999)"
   ]
  },
  {
   "cell_type": "code",
   "execution_count": 16,
   "metadata": {},
   "outputs": [],
   "source": [
    "class ScratchSVMClassifier2:\n",
    "    def __init__(self, num_iter, lr, threshold=1e-5):\n",
    "        self.iter = num_iter\n",
    "        self.lr = lr\n",
    "        self.ts = threshold\n",
    "        self.y_label = []\n",
    "        self.sv = []\n",
    "        self.lam_array = [] \n",
    "        \n",
    "    def fit(self, X, y):\n",
    "        # ラムダ配列初期値\n",
    "        lam = np.random.rand(len(X), 1)\n",
    "        \n",
    "        # サポートベクトル探索\n",
    "        for n in range(self.iter):\n",
    "            for i in range(len(X)):\n",
    "                temp = 0\n",
    "                for j in range(len(X)):\n",
    "                    temp += lam[j]*y[i]*y[j]*np.dot(X[i].T, X[j])\n",
    "                # ラムダの更新\n",
    "                lam[i] = lam[i] + self.lr * (1 - temp)\n",
    "                if(lam[i] < 0):\n",
    "                    lam[i] = 0\n",
    "                    \n",
    "        # 閾値以上のラムダ選出\n",
    "        self.lam_array = lam[lam >= self.ts]\n",
    "        # 閾値以上のラムダのインデックスを取得\n",
    "        index = np.where(lam >= self.ts)[0]\n",
    "        # yラベルを取得\n",
    "        self.y_label = y[index]\n",
    "        # サポートベクター配列\n",
    "        self.sv = X[index]       \n",
    "        \n",
    "    def predict(self, X):\n",
    "        \n",
    "        pred = 0\n",
    "        for i in range(len(self.sv)):\n",
    "                pred = pred +self.lam_array[i] * self.y_label[i] * np.dot(X, self.sv[i].T)\n",
    "                \n",
    "        return pred"
   ]
  },
  {
   "cell_type": "code",
   "execution_count": 17,
   "metadata": {},
   "outputs": [],
   "source": [
    "model2=ScratchSVMClassifier2(200,0.01)"
   ]
  },
  {
   "cell_type": "code",
   "execution_count": 18,
   "metadata": {},
   "outputs": [],
   "source": [
    "model2.fit(X_train,y_train)"
   ]
  },
  {
   "cell_type": "code",
   "execution_count": 19,
   "metadata": {},
   "outputs": [
    {
     "data": {
      "text/plain": [
       "array([-0.49842792, -0.4248118 , -0.71927626, -0.48582097, -0.53422321,\n",
       "       -0.28388305,  0.85210289, -0.33431081,  0.47344091,  0.27150298,\n",
       "        0.22310075, -0.09455206,  0.1010824 , -0.22287387, -0.81608072,\n",
       "       -0.09455206, -0.26497263,  0.93202247,  0.52814661, -0.2165704 ,\n",
       "       -0.4248118 , -0.1618647 , -0.18077511, -0.61414279,  0.41243174])"
      ]
     },
     "execution_count": 19,
     "metadata": {},
     "output_type": "execute_result"
    }
   ],
   "source": [
    "model2.predict(X_test)"
   ]
  },
  {
   "cell_type": "markdown",
   "metadata": {},
   "source": [
    "## 【問題3】指標値の算出"
   ]
  },
  {
   "cell_type": "markdown",
   "metadata": {},
   "source": [
    "## 【問題4】決定領域の可視化"
   ]
  },
  {
   "cell_type": "code",
   "execution_count": 20,
   "metadata": {},
   "outputs": [],
   "source": [
    "from matplotlib.colors import ListedColormap\n",
    "import matplotlib.patches as mpatches\n",
    "\n",
    "def SVM(X, y, model, step=0.01, title='logistic region', xlabel='petal_length', ylabel='petal_width', target_names=['versicolor', 'virginica']):\n",
    "    \"\"\"\n",
    "    2値分類を2次元の特徴量で学習したモデルの決定領域を描く。\n",
    "    背景の色が学習したモデルによる推定値から描画される。\n",
    "    散布図の点は訓練データまたは検証データである。\n",
    "\n",
    "    Parameters\n",
    "    ----------------\n",
    "    X : ndarray, shape(n_samples, 2)\n",
    "        特徴量\n",
    "    y : ndarray, shape(n_samples,)\n",
    "        ラベル\n",
    "    model : object\n",
    "        学習したモデルのインスンタスを入れる\n",
    "    step : float, (default : 0.1)\n",
    "        推定値を計算する間隔を設定する\n",
    "    title : str\n",
    "        グラフのタイトルの文章を与える\n",
    "    xlabel, ylabel : str\n",
    "        軸ラベルの文章を与える\n",
    "    target_names= : list of str\n",
    "        凡例の一覧を与える\n",
    "    \"\"\"\n",
    " \n",
    "    # setting\n",
    "    scatter_color = ['red', 'blue']\n",
    "    contourf_color = ['pink', 'skyblue']\n",
    "    n_class = 2\n",
    "\n",
    "    # pred\n",
    "    mesh_f0, mesh_f1  = np.meshgrid(np.arange(np.min(X[:,0])-0.5, np.max(X[:,0])+0.5, step), np.arange(np.min(X[:,1])-0.5, np.max(X[:,1])+0.5, step))\n",
    "    mesh = np.c_[np.ravel(mesh_f0),np.ravel(mesh_f1)]\n",
    "    y_pred = model.predict(mesh).reshape(mesh_f0.shape)\n",
    "\n",
    "    # plot\n",
    "    plt.title(title)\n",
    "    plt.xlabel(xlabel)\n",
    "    plt.ylabel(ylabel)\n",
    "    plt.contourf(mesh_f0, mesh_f1, y_pred, n_class-1, cmap=ListedColormap(contourf_color))\n",
    "    plt.contour(mesh_f0, mesh_f1, y_pred, n_class-1, colors='y', linewidths=3, alpha=0.5)\n",
    "    for i, target in enumerate(set(y)):\n",
    "        plt.scatter(X[y==target][:, 0], X[y==target][:, 1], s=80, color=scatter_color[i], label=target_names[i], marker='o')\n",
    "    patches = [mpatches.Patch(color=scatter_color[i], label=target_names[i]) for i in range(n_class)]\n",
    "    plt.legend(handles=patches)\n",
    "    plt.legend()\n",
    "    plt.show()"
   ]
  },
  {
   "cell_type": "code",
   "execution_count": 22,
   "metadata": {},
   "outputs": [
    {
     "data": {
      "image/png": "[encoded data removed]",
      "text/plain": [
       "<Figure size 432x288 with 1 Axes>"
      ]
     },
     "metadata": {
      "needs_background": "light"
     },
     "output_type": "display_data"
    }
   ],
   "source": [
    "SVM(X1,y1,model_s1)"
   ]
  },
  {
   "cell_type": "markdown",
   "metadata": {},
   "source": [
    "## 【問題５】時間の計測"
   ]
  },
  {
   "cell_type": "raw",
   "metadata": {},
   "source": [
    "SVMの学習には時間がかかるため、効率的な実装が望まれます。事前学習期間に行なったように、時間を計測して改善していきましょう。特に λの更新部分は繰り返し処理が多いため、効率的なコードを目指してください。"
   ]
  },
  {
   "cell_type": "code",
   "execution_count": 25,
   "metadata": {},
   "outputs": [
    {
     "name": "stdout",
     "output_type": "stream",
     "text": [
      "time : 0.14194393157958984s\n"
     ]
    }
   ],
   "source": [
    "import time\n",
    "t0 = time.time()\n",
    "model=ScratchSVMClassifier(1000, 0.00001, True, 0)\n",
    "model.fit(X,y)\n",
    "t1 = time.time()\n",
    "print('time : {}s'.format(t1-t0))"
   ]
  }
 ],
 "metadata": {
  "kernelspec": {
   "display_name": "Python 3",
   "language": "python",
   "name": "python3"
  },
  "language_info": {
   "codemirror_mode": {
    "name": "ipython",
    "version": 3
   },
   "file_extension": ".py",
   "mimetype": "text/x-python",
   "name": "python",
   "nbconvert_exporter": "python",
   "pygments_lexer": "ipython3",
   "version": "3.7.3"
  }
 },
 "nbformat": 4,
 "nbformat_minor": 2
}
