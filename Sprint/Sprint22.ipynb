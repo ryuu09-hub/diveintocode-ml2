{
 "cells": [
  {
   "cell_type": "markdown",
   "metadata": {},
   "source": [
    "# Sprint22\n",
    "## RNNスクラッチ"
   ]
  },
  {
   "cell_type": "code",
   "execution_count": 1,
   "metadata": {},
   "outputs": [],
   "source": [
    "import numpy as np\n"
   ]
  },
  {
   "cell_type": "markdown",
   "metadata": {},
   "source": [
    "## 【問題1】SimpleRNNのフォワードプロパゲーション実装"
   ]
  },
  {
   "cell_type": "markdown",
   "metadata": {},
   "source": [
    "## 【問題2】小さな配列でのフォワードプロパゲーションの実験"
   ]
  },
  {
   "cell_type": "code",
   "execution_count": 21,
   "metadata": {},
   "outputs": [],
   "source": [
    "x = np.array([[[1, 2], [2, 3], [3, 4]]])/100 # (batch_size, n_sequences, n_features)\n",
    "w_x = np.array([[1, 3, 5, 7], [3, 5, 7, 8]])/100 # (n_features, n_nodes)\n",
    "w_h = np.array([[1, 3, 5, 7], [2, 4, 6, 8], [3, 5, 7, 8], [4, 6, 8, 10]])/100 # (n_nodes, n_nodes)\n",
    "# batch_size = x.shape[0] # 1\n",
    "# n_sequences = x.shape[1] # 3\n",
    "# n_features = x.shape[2] # 2\n",
    "# n_nodes = w_x.shape[1] # 4\n",
    "#h = np.zeros((batch_size, n_nodes)) # (batch_size, n_nodes)\n",
    "b = np.array([1, 1, 1, 1]) # (n_nodes,)"
   ]
  },
  {
   "cell_type": "code",
   "execution_count": 29,
   "metadata": {},
   "outputs": [],
   "source": [
    "def tanh(x):\n",
    "    tanh=(np.exp(x)-np.exp(-x))/(np.exp(x)+np.exp(-x))\n",
    "    return tanh\n",
    "    \n",
    "def RNN_FP(x,w_x=w_x,w_h=w_h,b=b):\n",
    "    \"\"\"\n",
    "    RNNのフォワードプロパゲーションを行う関数\n",
    "    \n",
    "    Parameter:\n",
    "    ----------------------------------------\n",
    "    x:入力 np.array shape:(batch_size, n_sequences, n_features)\n",
    "    w_x:初期の重み行列 np.array shape:(n_features, n_nodes)\n",
    "    w_h:出力時の重み行列 np.array shape:(n_nodes, n_nodes)\n",
    "    b:バイアス np.array shape:(n_nodes,)\n",
    "    \n",
    "    Return:\n",
    "    ----------------------------------------\n",
    "    \n",
    "    \"\"\"\n",
    "    #変数定義\n",
    "    batch_size=x.shape[0]#1\n",
    "    n_sequences=x.shape[1]#3\n",
    "    n_features=x.shape[2]#2\n",
    "    n_nodes=w_x.shape[1]#4\n",
    "    h=np.zeros((batch_size,n_nodes))# (batch_size, n_nodes)\n",
    "\n",
    "    z = x[:,0,:]@w_x + h@w_h +b\n",
    "    h_0 = tanh(z)\n",
    "    z_1 = x[:, 1, :]@w_x +  h_0@w_h + b\n",
    "    h_1 = tanh(z_1)\n",
    "    z_2 = x[:, 2, :]@w_x +  h_1@w_h + b\n",
    "    y = tanh(z_2)\n",
    "    \n",
    "    return y\n",
    " "
   ]
  },
  {
   "cell_type": "code",
   "execution_count": 30,
   "metadata": {},
   "outputs": [
    {
     "data": {
      "text/plain": [
       "array([[0.79494228, 0.81839002, 0.83939649, 0.85584174]])"
      ]
     },
     "execution_count": 30,
     "metadata": {},
     "output_type": "execute_result"
    }
   ],
   "source": [
    "RNN_FP(x)"
   ]
  },
  {
   "cell_type": "markdown",
   "metadata": {},
   "source": [
    "## 【問題3】（アドバンス課題）バックプロパゲーションの実装"
   ]
  },
  {
   "cell_type": "code",
   "execution_count": null,
   "metadata": {},
   "outputs": [],
   "source": []
  }
 ],
 "metadata": {
  "kernelspec": {
   "display_name": "Python 3",
   "language": "python",
   "name": "python3"
  },
  "language_info": {
   "codemirror_mode": {
    "name": "ipython",
    "version": 3
   },
   "file_extension": ".py",
   "mimetype": "text/x-python",
   "name": "python",
   "nbconvert_exporter": "python",
   "pygments_lexer": "ipython3",
   "version": "3.7.3"
  }
 },
 "nbformat": 4,
 "nbformat_minor": 2
}
