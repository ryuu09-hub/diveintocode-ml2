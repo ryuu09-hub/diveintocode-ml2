{
 "cells": [
  {
   "cell_type": "markdown",
   "metadata": {},
   "source": [
    "# Sprint8\n",
    "## アンサンブル学習"
   ]
  },
  {
   "cell_type": "markdown",
   "metadata": {},
   "source": [
    "**主要ライブラリインポート**"
   ]
  },
  {
   "cell_type": "code",
   "execution_count": 49,
   "metadata": {},
   "outputs": [],
   "source": [
    "import numpy as np\n",
    "import pandas as pd\n",
    "import matplotlib.pyplot as plt\n",
    "import itertools as itr\n",
    "import random\n",
    "\n",
    "from sklearn.preprocessing import StandardScaler,MinMaxScaler\n",
    "from sklearn.model_selection import train_test_split \n",
    "from sklearn.linear_model import LinearRegression\n",
    "from sklearn.tree import DecisionTreeRegressor\n",
    "from sklearn.svm import SVR\n",
    "import lightgbm as lgb\n",
    "from sklearn.ensemble import RandomForestClassifier\n",
    "\n",
    "from sklearn.metrics import mean_squared_error\n",
    "from sklearn.metrics import mean_squared_error\n"
   ]
  },
  {
   "cell_type": "markdown",
   "metadata": {},
   "source": [
    "**データセット用意**"
   ]
  },
  {
   "cell_type": "code",
   "execution_count": 2,
   "metadata": {},
   "outputs": [],
   "source": [
    "data_set=pd.read_csv(\"/Users/wakaichiaki/diveintocode-ml/diveintocode-ml/Week03/house-prices-advanced-regression-techniques/train.csv\")"
   ]
  },
  {
   "cell_type": "code",
   "execution_count": 3,
   "metadata": {},
   "outputs": [
    {
     "name": "stderr",
     "output_type": "stream",
     "text": [
      "/Users/wakaichiaki/.pyenv/versions/anaconda3-2019.03/lib/python3.7/site-packages/sklearn/preprocessing/data.py:645: DataConversionWarning: Data with input dtype int64 were all converted to float64 by StandardScaler.\n",
      "  return self.partial_fit(X, y)\n",
      "/Users/wakaichiaki/.pyenv/versions/anaconda3-2019.03/lib/python3.7/site-packages/sklearn/base.py:464: DataConversionWarning: Data with input dtype int64 were all converted to float64 by StandardScaler.\n",
      "  return self.fit(X, **fit_params).transform(X)\n"
     ]
    }
   ],
   "source": [
    "#説明変数として、GrLivAreaとYearBuilt,目的変数としてSalePrice\n",
    "X,y=data_set[[\"GrLivArea\",\"YearBuilt\"]],data_set[[\"SalePrice\"]]\n",
    "\n",
    "#data_split(8:2)\n",
    "X_train,X_test,y_train,y_test=train_test_split(X,y,test_size=0.2)\n",
    "\n",
    "#標準化データ\n",
    "sc = StandardScaler()\n",
    "X_train_sc = sc.fit_transform(X_train)"
   ]
  },
  {
   "cell_type": "markdown",
   "metadata": {},
   "source": [
    "## 【問題1】ブレンディングのスクラッチ実装"
   ]
  },
  {
   "cell_type": "markdown",
   "metadata": {},
   "source": [
    "**１つ目(重みをづけ)**"
   ]
  },
  {
   "cell_type": "code",
   "execution_count": 4,
   "metadata": {},
   "outputs": [],
   "source": [
    "#モデル定義\n",
    "Lr=LinearRegression()\n",
    "Sr=SVR()\n",
    "Dt=DecisionTreeRegressor()"
   ]
  },
  {
   "cell_type": "code",
   "execution_count": 5,
   "metadata": {},
   "outputs": [
    {
     "name": "stderr",
     "output_type": "stream",
     "text": [
      "/Users/wakaichiaki/.pyenv/versions/anaconda3-2019.03/lib/python3.7/site-packages/sklearn/utils/validation.py:761: DataConversionWarning: A column-vector y was passed when a 1d array was expected. Please change the shape of y to (n_samples, ), for example using ravel().\n",
      "  y = column_or_1d(y, warn=True)\n",
      "/Users/wakaichiaki/.pyenv/versions/anaconda3-2019.03/lib/python3.7/site-packages/sklearn/svm/base.py:196: FutureWarning: The default value of gamma will change from 'auto' to 'scale' in version 0.22 to account better for unscaled features. Set gamma explicitly to 'auto' or 'scale' to avoid this warning.\n",
      "  \"avoid this warning.\", FutureWarning)\n"
     ]
    }
   ],
   "source": [
    "#fit\n",
    "Lr.fit(X_train,y_train)\n",
    "Sr.fit(X_train,y_train)\n",
    "Dt.fit(X_train,y_train)\n",
    "#pred\n",
    "y_Lr=Lr.predict(X_test)\n",
    "y_Sr=Sr.predict(X_test).reshape(-1,1)\n",
    "y_Dt=Dt.predict(X_test).reshape(-1,1)\n",
    "blend_1 = (y_Lr + y_Sr + y_Dt) / 3"
   ]
  },
  {
   "cell_type": "code",
   "execution_count": 6,
   "metadata": {},
   "outputs": [
    {
     "name": "stdout",
     "output_type": "stream",
     "text": [
      "MSE:\n",
      " LinearRegression: 2035284873.0553393 \n",
      " SVR: 6403704560.755616 \n",
      " DecisionTreeRegressor 2959090711.952435 \n",
      " blend: 2558785215.962858\n"
     ]
    }
   ],
   "source": [
    "#MSE\n",
    "Lr_MSE_1=mean_squared_error(y_test,y_Lr)\n",
    "Sr_MSE_1=mean_squared_error(y_test,y_Sr)\n",
    "Dt_MSE_1=mean_squared_error(y_test,y_Dt)\n",
    "blend_MSE_1=mean_squared_error(y_test,blend_1)\n",
    "print(\n",
    "    \"MSE:\\n\",\n",
    "    \"LinearRegression:\",Lr_MSE_1,\"\\n\",\n",
    "    \"SVR:\",Sr_MSE_1,\"\\n\",\n",
    "    \"DecisionTreeRegressor\",Dt_MSE_1,\"\\n\",\n",
    "    \"blend:\",blend_MSE_1\n",
    "     )"
   ]
  },
  {
   "cell_type": "markdown",
   "metadata": {},
   "source": [
    "各モデルによる教師データと予測データのMSEから、SVRの予測精度が低いことがわかる。\n",
    "２つ目では、SVRの影響を弱めるため重みを小さくしてみる。"
   ]
  },
  {
   "cell_type": "code",
   "execution_count": 7,
   "metadata": {},
   "outputs": [
    {
     "data": {
      "text/plain": [
       "[0.1785638324197821, 0.5618230858936223, 0.25961308168659564]"
      ]
     },
     "execution_count": 7,
     "metadata": {},
     "output_type": "execute_result"
    }
   ],
   "source": [
    "#MSE割合\n",
    "all_MSE=Lr_MSE_1+Sr_MSE_1+Dt_MSE_1\n",
    "weight=[Lr_MSE_1/all_MSE, Sr_MSE_1/all_MSE, Dt_MSE_1/all_MSE]\n",
    "weight"
   ]
  },
  {
   "cell_type": "code",
   "execution_count": 8,
   "metadata": {},
   "outputs": [
    {
     "name": "stdout",
     "output_type": "stream",
     "text": [
      "重み\n",
      "Lr:0.001\n",
      "Sr:0.09949999999999998\n",
      "Dt:0.8995\n"
     ]
    }
   ],
   "source": [
    "#重み定義\n",
    "w_1=0.001 #SVR\n",
    "w_2_3=0.4\n",
    "w_2,w_3=(1-w_1)/2-w_2_3,(1-w_1)/2+w_2_3 #LogisticRegression,DecisionTreeRegressor\n",
    "#Blending\n",
    "blend_1w=(y_Lr*w_2+y_Sr*w_1+y_Dt*w_3)/3\n",
    "print(\"重み\\nLr:{}\\nSr:{}\\nDt:{}\".format(w_1,w_2,w_3))"
   ]
  },
  {
   "cell_type": "code",
   "execution_count": 9,
   "metadata": {},
   "outputs": [
    {
     "name": "stdout",
     "output_type": "stream",
     "text": [
      "MSE\n",
      " blend: 18802548016.135845\n"
     ]
    }
   ],
   "source": [
    "#MSE\n",
    "blend_MSE_1w=mean_squared_error(y_test,blend_1w)\n",
    "print(\"MSE\\n\",\"blend:\",blend_MSE_1w)"
   ]
  },
  {
   "cell_type": "markdown",
   "metadata": {},
   "source": [
    "**２つ目(パラメータを調整してみる)**"
   ]
  },
  {
   "cell_type": "code",
   "execution_count": 10,
   "metadata": {},
   "outputs": [],
   "source": [
    "#モデル定義\n",
    "Lr=LinearRegression(normalize = True)\n",
    "Sr=SVR(gamma=\"scale\", kernel=\"linear\")\n",
    "Dt=DecisionTreeRegressor(max_depth=10)"
   ]
  },
  {
   "cell_type": "code",
   "execution_count": 11,
   "metadata": {},
   "outputs": [
    {
     "name": "stderr",
     "output_type": "stream",
     "text": [
      "/Users/wakaichiaki/.pyenv/versions/anaconda3-2019.03/lib/python3.7/site-packages/sklearn/utils/validation.py:761: DataConversionWarning: A column-vector y was passed when a 1d array was expected. Please change the shape of y to (n_samples, ), for example using ravel().\n",
      "  y = column_or_1d(y, warn=True)\n"
     ]
    }
   ],
   "source": [
    "#fit\n",
    "Lr.fit(X_train,y_train)\n",
    "Sr.fit(X_train,y_train)\n",
    "Dt.fit(X_train,y_train)\n",
    "#pred\n",
    "y_Sr_2=Lr.predict(X_test)\n",
    "y_Lr_2=Sr.predict(X_test).reshape(-1,1)\n",
    "y_Dt_2=Dt.predict(X_test).reshape(-1,1)\n",
    "#Blending\n",
    "blend_2=(y_Lr_2*w_1+y_Sr_2*w_2+y_Dt_2*w_3)/3"
   ]
  },
  {
   "cell_type": "code",
   "execution_count": 12,
   "metadata": {},
   "outputs": [
    {
     "name": "stdout",
     "output_type": "stream",
     "text": [
      "MSE\n",
      " LinearRegression: 2142630055.3327105 \n",
      " SVR: 2035284873.0553389 \n",
      " DecisionTreeRegressor 2298748786.1120825 \n",
      " blend: 18733596300.748272\n"
     ]
    }
   ],
   "source": [
    "#MSE\n",
    "Lr_MSE_2=mean_squared_error(y_test,y_Lr_2)\n",
    "Sr_MSE_2=mean_squared_error(y_test,y_Sr_2)\n",
    "Dr_MSE_2=mean_squared_error(y_test,y_Dt_2)\n",
    "blend_MSE_2=mean_squared_error(y_test,blend_2)\n",
    "print(\n",
    "    \"MSE\\n\",\n",
    "    \"LinearRegression:\",Lr_MSE_2,\"\\n\",\n",
    "    \"SVR:\",Sr_MSE_2,\"\\n\",\n",
    "    \"DecisionTreeRegressor\",Dr_MSE_2,\"\\n\",\n",
    "    \"blend:\",blend_MSE_2\n",
    "     )"
   ]
  },
  {
   "cell_type": "markdown",
   "metadata": {},
   "source": [
    "**3つ目(データセットを標準化してみる)**"
   ]
  },
  {
   "cell_type": "code",
   "execution_count": 13,
   "metadata": {},
   "outputs": [],
   "source": [
    "#標準化したデータでのモデル定義\n",
    "Lr_sc=LinearRegression()\n",
    "Sr_sc=SVR(gamma=\"scale\", kernel=\"linear\")\n",
    "Dr_sc=DecisionTreeRegressor(max_depth=10)"
   ]
  },
  {
   "cell_type": "code",
   "execution_count": 14,
   "metadata": {},
   "outputs": [
    {
     "name": "stderr",
     "output_type": "stream",
     "text": [
      "/Users/wakaichiaki/.pyenv/versions/anaconda3-2019.03/lib/python3.7/site-packages/sklearn/utils/validation.py:761: DataConversionWarning: A column-vector y was passed when a 1d array was expected. Please change the shape of y to (n_samples, ), for example using ravel().\n",
      "  y = column_or_1d(y, warn=True)\n"
     ]
    }
   ],
   "source": [
    "#fit\n",
    "Lr.fit(X_train_sc,y_train)\n",
    "Sr.fit(X_train_sc,y_train)\n",
    "Dt.fit(X_train_sc,y_train)\n",
    "#pred\n",
    "y_Lr_sc=Lr.predict(X_test)\n",
    "y_Sr_sc=Sr.predict(X_test).reshape(-1,1)\n",
    "y_Dt_sc=Dt.predict(X_test).reshape(-1,1)\n",
    "#Blending\n",
    "blend_3=(y_Lr_sc*w_1+y_Sr_sc*w_2+y_Dt_sc*w_3)/3"
   ]
  },
  {
   "cell_type": "code",
   "execution_count": 15,
   "metadata": {},
   "outputs": [
    {
     "name": "stdout",
     "output_type": "stream",
     "text": [
      "MSE\n",
      " SGDRegressor: 1.9878993520104776e+16 \n",
      " LogisticRegression: 5352808693124.996 \n",
      " DecisionTreeRegressor 6500396215.897261 \n",
      " blend: 4166578716.0769796\n"
     ]
    }
   ],
   "source": [
    "#MSE\n",
    "Lr_MSE_3=mean_squared_error(y_test,y_Lr_sc)\n",
    "Sr_MSE_3=mean_squared_error(y_test,y_Sr_sc)\n",
    "Dt_MSE_3=mean_squared_error(y_test,y_Dt_sc)\n",
    "blend_MSE_3=mean_squared_error(y_test,blend_3)\n",
    "print(\n",
    "    \"MSE\\n\",\n",
    "    \"SGDRegressor:\",Lr_MSE_3,\"\\n\",\n",
    "    \"LogisticRegression:\",Sr_MSE_3,\"\\n\",\n",
    "    \"DecisionTreeRegressor\",Dt_MSE_3,\"\\n\",\n",
    "    \"blend:\",blend_MSE_3\n",
    "     )"
   ]
  },
  {
   "cell_type": "markdown",
   "metadata": {},
   "source": [
    "## 【問題2】バギングのスクラッチ実装"
   ]
  },
  {
   "cell_type": "code",
   "execution_count": 41,
   "metadata": {},
   "outputs": [
    {
     "name": "stderr",
     "output_type": "stream",
     "text": [
      "/Users/wakaichiaki/.pyenv/versions/anaconda3-2019.03/lib/python3.7/site-packages/sklearn/preprocessing/data.py:645: DataConversionWarning: Data with input dtype int64 were all converted to float64 by StandardScaler.\n",
      "  return self.partial_fit(X, y)\n",
      "/Users/wakaichiaki/.pyenv/versions/anaconda3-2019.03/lib/python3.7/site-packages/sklearn/base.py:464: DataConversionWarning: Data with input dtype int64 were all converted to float64 by StandardScaler.\n",
      "  return self.fit(X, **fit_params).transform(X)\n"
     ]
    }
   ],
   "source": [
    "df = pd.read_csv(\"train.csv\")\n",
    "X = df.loc[: , [\"GrLivArea\" , \"YearBuilt\"]]\n",
    "y = df.loc[: , \"SalePrice\"]\n",
    "std = StandardScaler()\n",
    "X_std = std.fit_transform(X)\n",
    "X_std = pd.DataFrame(data = X_std)\n",
    "X_train , X_test ,y_train ,  y_test = train_test_split(\n",
    "             X , y , test_size = 0.2)"
   ]
  },
  {
   "cell_type": "code",
   "execution_count": 21,
   "metadata": {},
   "outputs": [],
   "source": [
    "X_t = np.random.choice(X_train.index , X_train.shape[0] , replace=True)"
   ]
  },
  {
   "cell_type": "code",
   "execution_count": 26,
   "metadata": {},
   "outputs": [],
   "source": [
    "sme_list = []\n",
    "def bagging(model , X , y , n = 10):\n",
    "    for i in range(n):\n",
    "        X_train , X_test ,y_train ,  y_test = train_test_split(\n",
    "             X , y , test_size = 0.2)\n",
    "        X_index = np.random.choice(X_train.index , X_train.shape[0] , replace=True)\n",
    "        X_train_n = X_train.loc[X_index]\n",
    "        model.fit(X_train_n , y_train)\n",
    "        pred = model.predict(X_test)\n",
    "        sme = mean_squared_error(y_test , pred)\n",
    "        sme_list.append(sme)\n",
    "#     print(\"スコア{}\".format(model.score(X_test , y_test)))\n",
    "    return (np.mean(sme_list[-1]))"
   ]
  },
  {
   "cell_type": "code",
   "execution_count": 27,
   "metadata": {},
   "outputs": [
    {
     "data": {
      "text/plain": [
       "6285608637.674811"
      ]
     },
     "execution_count": 27,
     "metadata": {},
     "output_type": "execute_result"
    }
   ],
   "source": [
    "#baging\n",
    "bagging(Lr , X , y)"
   ]
  },
  {
   "cell_type": "markdown",
   "metadata": {},
   "source": [
    "## 【問題3】スタッキングのスクラッチ実装"
   ]
  },
  {
   "cell_type": "markdown",
   "metadata": {},
   "source": [
    "**ステージ0**"
   ]
  },
  {
   "cell_type": "code",
   "execution_count": 47,
   "metadata": {},
   "outputs": [],
   "source": [
    "#クロスバリデーション\n",
    "from sklearn.model_selection import KFold\n",
    "kf = KFold(n_splits = 4)"
   ]
  },
  {
   "cell_type": "code",
   "execution_count": 50,
   "metadata": {},
   "outputs": [],
   "source": [
    "svm = SVR()\n",
    "tree = DecisionTreeRegressor()\n",
    "lgb = lgb.LGBMClassifier()\n",
    "forest = RandomForestClassifier(max_depth = 2, min_samples_split = 2, n_estimators = 40, random_state =3)"
   ]
  },
  {
   "cell_type": "markdown",
   "metadata": {},
   "source": [
    "**学習フェーズ**"
   ]
  },
  {
   "cell_type": "code",
   "execution_count": 51,
   "metadata": {},
   "outputs": [],
   "source": [
    "models = [forest , lgb , SVR]\n",
    "def Stacking(models , X_train , X_test , y_train):\n",
    "    preds = np.array([])\n",
    "    preds_test = []\n",
    "    va_idxes = []\n",
    "    kf = KFold(n_splits = 3 , random_state = 5)\n",
    "\n",
    "    #クロスバリデーションで学習、予測を行い、予測値とインデックスを保存\n",
    "    for m, model in enumerate(models):\n",
    "        for i , (tr_idx , va_idx) in enumerate(kf.split(X_train)):\n",
    "            tr_X , va_X = X_train.iloc[tr_idx] , X_train.iloc[va_idx]\n",
    "            tr_y , va_y = y_train.iloc[tr_idx] , y_train.iloc[va_idx]\n",
    "            model.fit(tr_X , tr_y) #va_X , va_y)\n",
    "            model.fit(va_X , va_y)\n",
    "            pred = model.predict(va_X)\n",
    "            preds = np.append(preds , pred)\n",
    "            pred_test = model.predict(X_test)\n",
    "            preds_test = np.append(preds_test , pred_test)\n",
    "            va_idxes.append(va_idx)\n",
    "    #バリデーションデータに対する予測値を連結し、その後元の順序に並べ直す\n",
    "    preds = preds.reshape(1168 , len(models) )\n",
    "    preds_test = preds_test.reshape(292 , 9)\n",
    "    va_idxes = np.concatenate(va_idxes)\n",
    "    #preds = np.concatenate(preds , axis = 0)\n",
    "    order = np.argsort(va_idxes)\n",
    "#    pred_train = preds[order]\n",
    "    \n",
    "    #テストデータに対する予測値の平均をとる\n",
    "    preds_test_1 = np.mean(preds_test[: , :3] , axis = 1).reshape(-1,1)\n",
    "    preds_test_2 = np.mean(preds_test[: , 3:6] , axis = 1).reshape(-1,1)\n",
    "    preds_test_3 = np.mean(preds_test[: , 6:] , axis = 1).reshape(-1,1)\n",
    "    preds_test_sum = np.concatenate([preds_test_1 , preds_test_2 , preds_test_3] , axis=1)\n",
    "#     pred_train = pred_train.reshape(1168  , len(models))\n",
    "    return preds_test_sum , preds"
   ]
  },
  {
   "cell_type": "code",
   "execution_count": null,
   "metadata": {},
   "outputs": [],
   "source": [
    "preds_test , preds =Stacking(models , X_train ,X_test,y_train)"
   ]
  },
  {
   "cell_type": "code",
   "execution_count": 38,
   "metadata": {},
   "outputs": [],
   "source": [
    "def model(X_train , X_test , y_train , model):\n",
    "    model.fit(preds , y_train)\n",
    "    pred = model.predict(preds_test)\n",
    "    sme = mean_squared_error(y_test , pred)\n",
    "    return sme"
   ]
  },
  {
   "cell_type": "code",
   "execution_count": 39,
   "metadata": {},
   "outputs": [
    {
     "data": {
      "text/plain": [
       "5634119204.318373"
      ]
     },
     "execution_count": 39,
     "metadata": {},
     "output_type": "execute_result"
    }
   ],
   "source": [
    "model(preds , preds_test , y_train , lr)"
   ]
  }
 ],
 "metadata": {
  "kernelspec": {
   "display_name": "Python 3",
   "language": "python",
   "name": "python3"
  },
  "language_info": {
   "codemirror_mode": {
    "name": "ipython",
    "version": 3
   },
   "file_extension": ".py",
   "mimetype": "text/x-python",
   "name": "python",
   "nbconvert_exporter": "python",
   "pygments_lexer": "ipython3",
   "version": "3.7.3"
  }
 },
 "nbformat": 4,
 "nbformat_minor": 2
}
