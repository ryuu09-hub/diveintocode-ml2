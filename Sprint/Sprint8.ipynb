{
 "cells": [
  {
   "cell_type": "markdown",
   "metadata": {},
   "source": [
    "# Sprint8\n",
    "## アンサンブル学習"
   ]
  },
  {
   "cell_type": "markdown",
   "metadata": {},
   "source": [
    "**主要ライブラリインポート**"
   ]
  },
  {
   "cell_type": "code",
   "execution_count": 1,
   "metadata": {},
   "outputs": [],
   "source": [
    "import numpy as np\n",
    "import pandas as pd\n",
    "import matplotlib.pyplot as plt\n",
    "import itertools as itr\n",
    "import random\n",
    "\n",
    "from sklearn.preprocessing import StandardScaler,MinMaxScaler\n",
    "from sklearn.model_selection import train_test_split \n",
    "from sklearn.linear_model import LinearRegression\n",
    "from sklearn.tree import DecisionTreeRegressor\n",
    "from sklearn.svm import SVR\n",
    "\n",
    "from sklearn.metrics import mean_squared_error\n"
   ]
  },
  {
   "cell_type": "markdown",
   "metadata": {},
   "source": [
    "**データセット用意**"
   ]
  },
  {
   "cell_type": "code",
   "execution_count": 2,
   "metadata": {},
   "outputs": [],
   "source": [
    "data_set=pd.read_csv(\"/Users/wakaichiaki/diveintocode-ml/diveintocode-ml/Week03/house-prices-advanced-regression-techniques/train.csv\")"
   ]
  },
  {
   "cell_type": "code",
   "execution_count": 3,
   "metadata": {},
   "outputs": [
    {
     "name": "stderr",
     "output_type": "stream",
     "text": [
      "/Users/wakaichiaki/.pyenv/versions/anaconda3-2019.03/lib/python3.7/site-packages/sklearn/preprocessing/data.py:645: DataConversionWarning: Data with input dtype int64 were all converted to float64 by StandardScaler.\n",
      "  return self.partial_fit(X, y)\n",
      "/Users/wakaichiaki/.pyenv/versions/anaconda3-2019.03/lib/python3.7/site-packages/sklearn/base.py:464: DataConversionWarning: Data with input dtype int64 were all converted to float64 by StandardScaler.\n",
      "  return self.fit(X, **fit_params).transform(X)\n"
     ]
    }
   ],
   "source": [
    "#説明変数として、GrLivAreaとYearBuilt,目的変数としてSalePrice\n",
    "X,y=data_set[[\"GrLivArea\",\"YearBuilt\"]],data_set[[\"SalePrice\"]]\n",
    "\n",
    "#data_split(8:2)\n",
    "X_train,X_test,y_train,y_test=train_test_split(X,y,test_size=0.2)\n",
    "\n",
    "#標準化データ\n",
    "sc = StandardScaler()\n",
    "X_train_sc = sc.fit_transform(X_train)"
   ]
  },
  {
   "cell_type": "markdown",
   "metadata": {},
   "source": [
    "## 【問題1】ブレンディングのスクラッチ実装"
   ]
  },
  {
   "cell_type": "markdown",
   "metadata": {},
   "source": [
    "**１つ目(重みをづけ)**"
   ]
  },
  {
   "cell_type": "code",
   "execution_count": 4,
   "metadata": {},
   "outputs": [],
   "source": [
    "#モデル定義\n",
    "Lr=LinearRegression()\n",
    "Sr=SVR()\n",
    "Dt=DecisionTreeRegressor()"
   ]
  },
  {
   "cell_type": "code",
   "execution_count": 5,
   "metadata": {},
   "outputs": [
    {
     "name": "stderr",
     "output_type": "stream",
     "text": [
      "/Users/wakaichiaki/.pyenv/versions/anaconda3-2019.03/lib/python3.7/site-packages/sklearn/utils/validation.py:761: DataConversionWarning: A column-vector y was passed when a 1d array was expected. Please change the shape of y to (n_samples, ), for example using ravel().\n",
      "  y = column_or_1d(y, warn=True)\n",
      "/Users/wakaichiaki/.pyenv/versions/anaconda3-2019.03/lib/python3.7/site-packages/sklearn/svm/base.py:196: FutureWarning: The default value of gamma will change from 'auto' to 'scale' in version 0.22 to account better for unscaled features. Set gamma explicitly to 'auto' or 'scale' to avoid this warning.\n",
      "  \"avoid this warning.\", FutureWarning)\n"
     ]
    }
   ],
   "source": [
    "#fit\n",
    "Lr.fit(X_train,y_train)\n",
    "Sr.fit(X_train,y_train)\n",
    "Dt.fit(X_train,y_train)\n",
    "#pred\n",
    "y_Lr=Lr.predict(X_test)\n",
    "y_Sr=Sr.predict(X_test).reshape(-1,1)\n",
    "y_Dt=Dt.predict(X_test).reshape(-1,1)\n",
    "blend_1 = (y_Lr + y_Sr + y_Dt) / 3"
   ]
  },
  {
   "cell_type": "code",
   "execution_count": 6,
   "metadata": {},
   "outputs": [
    {
     "name": "stdout",
     "output_type": "stream",
     "text": [
      "MSE:\n",
      " LinearRegression: 2112604877.4575124 \n",
      " SVR: 7337001562.819469 \n",
      " DecisionTreeRegressor 2935567781.986682 \n",
      " blend: 2654042522.5426316\n"
     ]
    }
   ],
   "source": [
    "#MSE\n",
    "Lr_MSE_1=mean_squared_error(y_test,y_Lr)\n",
    "Sr_MSE_1=mean_squared_error(y_test,y_Sr)\n",
    "Dt_MSE_1=mean_squared_error(y_test,y_Dt)\n",
    "blend_MSE_1=mean_squared_error(y_test,blend_1)\n",
    "print(\n",
    "    \"MSE:\\n\",\n",
    "    \"LinearRegression:\",Lr_MSE_1,\"\\n\",\n",
    "    \"SVR:\",Sr_MSE_1,\"\\n\",\n",
    "    \"DecisionTreeRegressor\",Dt_MSE_1,\"\\n\",\n",
    "    \"blend:\",blend_MSE_1\n",
    "     )"
   ]
  },
  {
   "cell_type": "markdown",
   "metadata": {},
   "source": [
    "各モデルによる教師データと予測データのMSEから、SVRの予測精度が低いことがわかる。\n",
    "２つ目では、SVRの影響を弱めるため重みを小さくしてみる。"
   ]
  },
  {
   "cell_type": "code",
   "execution_count": 7,
   "metadata": {},
   "outputs": [
    {
     "data": {
      "text/plain": [
       "[0.17057530556654432, 0.5924019663470241, 0.23702272808643154]"
      ]
     },
     "execution_count": 7,
     "metadata": {},
     "output_type": "execute_result"
    }
   ],
   "source": [
    "#MSE割合\n",
    "all_MSE=Lr_MSE_1+Sr_MSE_1+Dt_MSE_1\n",
    "weight=[Lr_MSE_1/all_MSE, Sr_MSE_1/all_MSE, Dt_MSE_1/all_MSE]\n",
    "weight"
   ]
  },
  {
   "cell_type": "code",
   "execution_count": 8,
   "metadata": {},
   "outputs": [
    {
     "name": "stdout",
     "output_type": "stream",
     "text": [
      "重み\n",
      "Lr:0.001\n",
      "Sr:0.09949999999999998\n",
      "Dt:0.8995\n"
     ]
    }
   ],
   "source": [
    "#重み定義\n",
    "w_1=0.001 #SVR\n",
    "w_2_3=0.4\n",
    "w_2,w_3=(1-w_1)/2-w_2_3,(1-w_1)/2+w_2_3 #LogisticRegression,DecisionTreeRegressor\n",
    "#Blending\n",
    "blend_1w=(y_Lr*w_2+y_Sr*w_1+y_Dt*w_3)/3\n",
    "print(\"重み\\nLr:{}\\nSr:{}\\nDt:{}\".format(w_1,w_2,w_3))"
   ]
  },
  {
   "cell_type": "code",
   "execution_count": 9,
   "metadata": {},
   "outputs": [
    {
     "name": "stdout",
     "output_type": "stream",
     "text": [
      "MSE\n",
      " blend: 19189539718.078793\n"
     ]
    }
   ],
   "source": [
    "#MSE\n",
    "blend_MSE_1w=mean_squared_error(y_test,blend_1w)\n",
    "print(\"MSE\\n\",\"blend:\",blend_MSE_1w)"
   ]
  },
  {
   "cell_type": "markdown",
   "metadata": {},
   "source": [
    "**２つ目(パラメータを調整してみる)**"
   ]
  },
  {
   "cell_type": "code",
   "execution_count": 10,
   "metadata": {},
   "outputs": [],
   "source": [
    "#モデル定義\n",
    "Lr=LinearRegression(normalize = True)\n",
    "Sr=SVR(gamma=\"scale\", kernel=\"linear\")\n",
    "Dt=DecisionTreeRegressor(max_depth=10)"
   ]
  },
  {
   "cell_type": "code",
   "execution_count": 11,
   "metadata": {},
   "outputs": [
    {
     "name": "stderr",
     "output_type": "stream",
     "text": [
      "/Users/wakaichiaki/.pyenv/versions/anaconda3-2019.03/lib/python3.7/site-packages/sklearn/utils/validation.py:761: DataConversionWarning: A column-vector y was passed when a 1d array was expected. Please change the shape of y to (n_samples, ), for example using ravel().\n",
      "  y = column_or_1d(y, warn=True)\n"
     ]
    }
   ],
   "source": [
    "#fit\n",
    "Lr.fit(X_train,y_train)\n",
    "Sr.fit(X_train,y_train)\n",
    "Dt.fit(X_train,y_train)\n",
    "#pred\n",
    "y_Sr_2=Lr.predict(X_test)\n",
    "y_Lr_2=Sr.predict(X_test).reshape(-1,1)\n",
    "y_Dt_2=Dt.predict(X_test).reshape(-1,1)\n",
    "#Blending\n",
    "blend_2=(y_Lr_2*w_1+y_Sr_2*w_2+y_Dt_2*w_3)/3"
   ]
  },
  {
   "cell_type": "code",
   "execution_count": 12,
   "metadata": {},
   "outputs": [
    {
     "name": "stdout",
     "output_type": "stream",
     "text": [
      "MSE\n",
      " LinearRegression: 2336843021.583233 \n",
      " SVR: 2112604877.4575112 \n",
      " DecisionTreeRegressor 2754178981.067846 \n",
      " blend: 19284462704.87909\n"
     ]
    }
   ],
   "source": [
    "#MSE\n",
    "Lr_MSE_2=mean_squared_error(y_test,y_Lr_2)\n",
    "Sr_MSE_2=mean_squared_error(y_test,y_Sr_2)\n",
    "Dr_MSE_2=mean_squared_error(y_test,y_Dt_2)\n",
    "blend_MSE_2=mean_squared_error(y_test,blend_2)\n",
    "print(\n",
    "    \"MSE\\n\",\n",
    "    \"LinearRegression:\",Lr_MSE_2,\"\\n\",\n",
    "    \"SVR:\",Sr_MSE_2,\"\\n\",\n",
    "    \"DecisionTreeRegressor\",Dr_MSE_2,\"\\n\",\n",
    "    \"blend:\",blend_MSE_2\n",
    "     )"
   ]
  },
  {
   "cell_type": "markdown",
   "metadata": {},
   "source": [
    "**3つ目(データセットを標準化してみる)**"
   ]
  },
  {
   "cell_type": "code",
   "execution_count": 13,
   "metadata": {},
   "outputs": [],
   "source": [
    "#標準化したデータでのモデル定義\n",
    "Lr_sc=LinearRegression()\n",
    "Sr_sc=SVR(gamma=\"scale\", kernel=\"linear\")\n",
    "Dr_sc=DecisionTreeRegressor(max_depth=10)"
   ]
  },
  {
   "cell_type": "code",
   "execution_count": 14,
   "metadata": {},
   "outputs": [
    {
     "name": "stderr",
     "output_type": "stream",
     "text": [
      "/Users/wakaichiaki/.pyenv/versions/anaconda3-2019.03/lib/python3.7/site-packages/sklearn/utils/validation.py:761: DataConversionWarning: A column-vector y was passed when a 1d array was expected. Please change the shape of y to (n_samples, ), for example using ravel().\n",
      "  y = column_or_1d(y, warn=True)\n"
     ]
    }
   ],
   "source": [
    "#fit\n",
    "Lr.fit(X_train_sc,y_train)\n",
    "Sr.fit(X_train_sc,y_train)\n",
    "Dt.fit(X_train_sc,y_train)\n",
    "#pred\n",
    "y_Lr_sc=Lr.predict(X_test)\n",
    "y_Sr_sc=Sr.predict(X_test).reshape(-1,1)\n",
    "y_Dt_sc=Dt.predict(X_test).reshape(-1,1)\n",
    "#Blending\n",
    "blend_3=(y_Lr_sc*w_1+y_Sr_sc*w_2+y_Dt_sc*w_3)/3"
   ]
  },
  {
   "cell_type": "code",
   "execution_count": 15,
   "metadata": {},
   "outputs": [
    {
     "name": "stdout",
     "output_type": "stream",
     "text": [
      "MSE\n",
      " SGDRegressor: 1.906301356908743e+16 \n",
      " LogisticRegression: 5171338044215.514 \n",
      " DecisionTreeRegressor 7446242290.767123 \n",
      " blend: 4864358083.619314\n"
     ]
    }
   ],
   "source": [
    "#MSE\n",
    "Lr_MSE_3=mean_squared_error(y_test,y_Lr_sc)\n",
    "Sr_MSE_3=mean_squared_error(y_test,y_Sr_sc)\n",
    "Dt_MSE_3=mean_squared_error(y_test,y_Dt_sc)\n",
    "blend_MSE_3=mean_squared_error(y_test,blend_3)\n",
    "print(\n",
    "    \"MSE\\n\",\n",
    "    \"SGDRegressor:\",Lr_MSE_3,\"\\n\",\n",
    "    \"LogisticRegression:\",Sr_MSE_3,\"\\n\",\n",
    "    \"DecisionTreeRegressor\",Dt_MSE_3,\"\\n\",\n",
    "    \"blend:\",blend_MSE_3\n",
    "     )"
   ]
  },
  {
   "cell_type": "markdown",
   "metadata": {},
   "source": [
    "## 【問題2】バギングのスクラッチ実装"
   ]
  },
  {
   "cell_type": "code",
   "execution_count": 16,
   "metadata": {},
   "outputs": [],
   "source": [
    "X_train_b=X_train.values\n",
    "y_train=y_train.values\n",
    "X_train_b_list=[]\n",
    "y_train_b_list=[]\n",
    "for i in range(4):\n",
    "    idx=np.random.randint(0,len(X_train_b),size=292)\n",
    "    X_train_b_list.append(X_train_b[idx,:])\n",
    "    y_train_b_list.append(y_train[idx])"
   ]
  },
  {
   "cell_type": "code",
   "execution_count": 17,
   "metadata": {},
   "outputs": [],
   "source": [
    "#予測値配列\n",
    "y_pred_b=np.zeros((X_test.shape[0],4))\n",
    "#学習から予測\n",
    "for i in range(4):\n",
    "    model=DecisionTreeRegressor(max_depth=3)\n",
    "    model.fit(X_train_b_list[i],y_train_b_list[i])\n",
    "    y_pred_b[:,i]=model.predict(X_test)"
   ]
  },
  {
   "cell_type": "code",
   "execution_count": 18,
   "metadata": {},
   "outputs": [],
   "source": [
    "#baging\n",
    "baging = y_pred_b.sum(axis=1) / 4"
   ]
  },
  {
   "cell_type": "code",
   "execution_count": 19,
   "metadata": {},
   "outputs": [
    {
     "ename": "NameError",
     "evalue": "name 'y_test_b' is not defined",
     "output_type": "error",
     "traceback": [
      "\u001b[0;31m---------------------------------------------------------------------------\u001b[0m",
      "\u001b[0;31mNameError\u001b[0m                                 Traceback (most recent call last)",
      "\u001b[0;32m<ipython-input-19-d111333422e2>\u001b[0m in \u001b[0;36m<module>\u001b[0;34m\u001b[0m\n\u001b[1;32m      1\u001b[0m \u001b[0;32mfor\u001b[0m \u001b[0mi\u001b[0m \u001b[0;32min\u001b[0m \u001b[0mrange\u001b[0m\u001b[0;34m(\u001b[0m\u001b[0;36m4\u001b[0m\u001b[0;34m)\u001b[0m\u001b[0;34m:\u001b[0m\u001b[0;34m\u001b[0m\u001b[0;34m\u001b[0m\u001b[0m\n\u001b[0;32m----> 2\u001b[0;31m     \u001b[0mprint\u001b[0m\u001b[0;34m(\u001b[0m\u001b[0;34m\"モデル{}：{}\"\u001b[0m\u001b[0;34m.\u001b[0m\u001b[0mformat\u001b[0m\u001b[0;34m(\u001b[0m\u001b[0mi\u001b[0m\u001b[0;34m+\u001b[0m\u001b[0;36m1\u001b[0m\u001b[0;34m,\u001b[0m\u001b[0mmean_squared_error\u001b[0m\u001b[0;34m(\u001b[0m\u001b[0my_test_b\u001b[0m\u001b[0;34m,\u001b[0m \u001b[0my_pred_b\u001b[0m\u001b[0;34m[\u001b[0m\u001b[0;34m:\u001b[0m\u001b[0;34m,\u001b[0m\u001b[0mi\u001b[0m\u001b[0;34m]\u001b[0m\u001b[0;34m)\u001b[0m\u001b[0;34m)\u001b[0m\u001b[0;34m)\u001b[0m\u001b[0;34m\u001b[0m\u001b[0;34m\u001b[0m\u001b[0m\n\u001b[0m\u001b[1;32m      3\u001b[0m \u001b[0mprint\u001b[0m\u001b[0;34m(\u001b[0m\u001b[0;34m\"baging：{}\"\u001b[0m\u001b[0;34m.\u001b[0m\u001b[0mformat\u001b[0m\u001b[0;34m(\u001b[0m\u001b[0mmean_squared_error\u001b[0m\u001b[0;34m(\u001b[0m\u001b[0my_test_b\u001b[0m\u001b[0;34m,\u001b[0m \u001b[0mbaging\u001b[0m\u001b[0;34m)\u001b[0m\u001b[0;34m)\u001b[0m\u001b[0;34m)\u001b[0m\u001b[0;34m\u001b[0m\u001b[0;34m\u001b[0m\u001b[0m\n",
      "\u001b[0;31mNameError\u001b[0m: name 'y_test_b' is not defined"
     ]
    }
   ],
   "source": [
    "for i in range(4):\n",
    "    print(\"モデル{}：{}\".format(i+1,mean_squared_error(y_test_b, y_pred_b[:,i])))\n",
    "print(\"baging：{}\".format(mean_squared_error(y_test_b, baging)))"
   ]
  },
  {
   "cell_type": "markdown",
   "metadata": {},
   "source": [
    "## 【問題3】スタッキングのスクラッチ実装"
   ]
  },
  {
   "cell_type": "markdown",
   "metadata": {},
   "source": [
    "**ステージ0**"
   ]
  },
  {
   "cell_type": "code",
   "execution_count": 20,
   "metadata": {},
   "outputs": [],
   "source": [
    "#データの用意\n",
    "#データ分割(K=3)\n",
    "X_train_s1,y_train_s1=X_train_b[:389,:],y_train[:389,:]\n",
    "X_train_s2,y_train_s2=X_train_b[389:778,:],y_train[389:778,:]\n",
    "X_train_s3,y_train_s3=X_train_b[778:,:],y_train[778:,:]\n",
    "\n",
    "#クロスバリデーション\n",
    "train_X_1,train_y_1=np.vstack([X_train_s2,X_train_s3]),np.vstack([y_train_s2,y_train_s3])\n",
    "train_X_2,train_y_2=np.vstack([X_train_s1,X_train_s3]),np.vstack([y_train_s1,y_train_s3])\n",
    "train_X_3,train_y_3=np.vstack([X_train_s1,X_train_s2]),np.vstack([y_train_s1,y_train_s2])"
   ]
  },
  {
   "cell_type": "markdown",
   "metadata": {},
   "source": [
    "**学習フェーズ**"
   ]
  },
  {
   "cell_type": "code",
   "execution_count": 28,
   "metadata": {},
   "outputs": [
    {
     "ename": "NameError",
     "evalue": "name 'array' is not defined",
     "output_type": "error",
     "traceback": [
      "\u001b[0;31m---------------------------------------------------------------------------\u001b[0m",
      "\u001b[0;31mNameError\u001b[0m                                 Traceback (most recent call last)",
      "\u001b[0;32m<ipython-input-28-7ab202f29f1c>\u001b[0m in \u001b[0;36m<module>\u001b[0;34m\u001b[0m\n\u001b[1;32m     11\u001b[0m \u001b[0mpred_ley1\u001b[0m\u001b[0;34m=\u001b[0m\u001b[0mnp\u001b[0m\u001b[0;34m.\u001b[0m\u001b[0marray\u001b[0m\u001b[0;34m(\u001b[0m\u001b[0;34m[\u001b[0m\u001b[0;34m]\u001b[0m\u001b[0;34m)\u001b[0m\u001b[0;34m\u001b[0m\u001b[0;34m\u001b[0m\u001b[0m\n\u001b[1;32m     12\u001b[0m \u001b[0;32mfor\u001b[0m \u001b[0mmodel\u001b[0m \u001b[0;32min\u001b[0m \u001b[0mmodel_list\u001b[0m\u001b[0;34m:\u001b[0m\u001b[0;34m\u001b[0m\u001b[0;34m\u001b[0m\u001b[0m\n\u001b[0;32m---> 13\u001b[0;31m     \u001b[0mtemp\u001b[0m\u001b[0;34m=\u001b[0m\u001b[0mnp\u001b[0m\u001b[0;34m,\u001b[0m\u001b[0marray\u001b[0m\u001b[0;34m(\u001b[0m\u001b[0;34m[\u001b[0m\u001b[0;34m]\u001b[0m\u001b[0;34m)\u001b[0m\u001b[0;34m\u001b[0m\u001b[0;34m\u001b[0m\u001b[0m\n\u001b[0m\u001b[1;32m     14\u001b[0m     \u001b[0;32mfor\u001b[0m \u001b[0mtr_X\u001b[0m\u001b[0;34m,\u001b[0m \u001b[0mtr_y\u001b[0m \u001b[0;32min\u001b[0m \u001b[0mzip\u001b[0m\u001b[0;34m(\u001b[0m\u001b[0mtrain_Xl\u001b[0m\u001b[0;34m,\u001b[0m\u001b[0mtrain_yl\u001b[0m\u001b[0;34m)\u001b[0m\u001b[0;34m:\u001b[0m\u001b[0;34m\u001b[0m\u001b[0;34m\u001b[0m\u001b[0m\n\u001b[1;32m     15\u001b[0m         \u001b[0mmodel\u001b[0m\u001b[0;34m.\u001b[0m\u001b[0mfit\u001b[0m\u001b[0;34m(\u001b[0m\u001b[0mtr_X\u001b[0m\u001b[0;34m,\u001b[0m\u001b[0mtr_y\u001b[0m\u001b[0;34m)\u001b[0m\u001b[0;34m\u001b[0m\u001b[0;34m\u001b[0m\u001b[0m\n",
      "\u001b[0;31mNameError\u001b[0m: name 'array' is not defined"
     ]
    }
   ],
   "source": [
    "#モデルのインスタンス作成\n",
    "model_1=LinearRegression(normalize=True)\n",
    "model_2=SVR(gamma=\"scale\", kernel=\"linear\")\n",
    "model_3=DecisionTreeRegressor(max_depth=5)\n",
    "\n",
    "#モデル配列\n",
    "model_list=[model_1,model_2,model_3]\n",
    "train_Xl=[train_X_1,train_X_2,train_X_3]\n",
    "train_yl=[train_y_1,train_y_2,train_y_3]\n",
    "\n",
    "pred_ley1=np.array([])\n",
    "for model in model_list:\n",
    "    temp=np,array([])\n",
    "    for tr_X, tr_y in zip(train_Xl,train_yl):\n",
    "        model.fit(tr_X,tr_y)\n",
    "        pred=model.predict(X_test)\n",
    "        temp=np.append(temp,pred)\n",
    "    pred_ley1=np.append(pred_ley1,temp)    "
   ]
  },
  {
   "cell_type": "code",
   "execution_count": 27,
   "metadata": {},
   "outputs": [
    {
     "ename": "IndexError",
     "evalue": "index 0 is out of bounds for axis 0 with size 0",
     "output_type": "error",
     "traceback": [
      "\u001b[0;31m---------------------------------------------------------------------------\u001b[0m",
      "\u001b[0;31mIndexError\u001b[0m                                Traceback (most recent call last)",
      "\u001b[0;32m<ipython-input-27-62381654feae>\u001b[0m in \u001b[0;36m<module>\u001b[0;34m\u001b[0m\n\u001b[0;32m----> 1\u001b[0;31m \u001b[0my_pred_ley1\u001b[0m\u001b[0;34m[\u001b[0m\u001b[0;36m0\u001b[0m\u001b[0;34m]\u001b[0m\u001b[0;34m\u001b[0m\u001b[0;34m\u001b[0m\u001b[0m\n\u001b[0m",
      "\u001b[0;31mIndexError\u001b[0m: index 0 is out of bounds for axis 0 with size 0"
     ]
    }
   ],
   "source": [
    "y_pred_ley1[0]"
   ]
  },
  {
   "cell_type": "code",
   "execution_count": null,
   "metadata": {},
   "outputs": [],
   "source": []
  }
 ],
 "metadata": {
  "kernelspec": {
   "display_name": "Python 3",
   "language": "python",
   "name": "python3"
  },
  "language_info": {
   "codemirror_mode": {
    "name": "ipython",
    "version": 3
   },
   "file_extension": ".py",
   "mimetype": "text/x-python",
   "name": "python",
   "nbconvert_exporter": "python",
   "pygments_lexer": "ipython3",
   "version": "3.7.3"
  }
 },
 "nbformat": 4,
 "nbformat_minor": 2
}
