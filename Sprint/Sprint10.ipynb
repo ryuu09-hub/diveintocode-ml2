{
 "cells": [
  {
   "cell_type": "markdown",
   "metadata": {},
   "source": [
    "# Sprint10\n",
    "## ディープニューラルネットワークスクラッチ"
   ]
  },
  {
   "cell_type": "markdown",
   "metadata": {},
   "source": [
    "データ取得と前処理"
   ]
  },
  {
   "cell_type": "code",
   "execution_count": 103,
   "metadata": {},
   "outputs": [],
   "source": [
    "import numpy as np\n",
    "import matplotlib.pyplot as plt\n",
    "%matplotlib inline\n",
    "from keras.datasets import mnist\n",
    "from sklearn.preprocessing import OneHotEncoder\n",
    "from sklearn.model_selection import train_test_split\n",
    "from sklearn.metrics import accuracy_score"
   ]
  },
  {
   "cell_type": "code",
   "execution_count": 104,
   "metadata": {},
   "outputs": [],
   "source": [
    "(X_train, y_train), (X_test, y_test) = mnist.load_data()"
   ]
  },
  {
   "cell_type": "code",
   "execution_count": 105,
   "metadata": {},
   "outputs": [],
   "source": [
    "X_train=X_train.reshape(-1,784)\n",
    "X_test=X_test.reshape(-1,784)\n",
    "X_train = X_train.astype(np.float)\n",
    "X_test = X_test.astype(np.float)\n",
    "X_train /= 255\n",
    "X_test /= 255"
   ]
  },
  {
   "cell_type": "code",
   "execution_count": 106,
   "metadata": {},
   "outputs": [],
   "source": [
    "enc=OneHotEncoder(handle_unknown='ignore',sparse=False)\n",
    "y_train_one_hot=enc.fit_transform(y_train[:,np.newaxis])\n",
    "y_test_one_hot=enc.transform(y_test[:,np.newaxis])"
   ]
  },
  {
   "cell_type": "code",
   "execution_count": 107,
   "metadata": {},
   "outputs": [],
   "source": [
    "X_train, X_val, y_train, y_val = train_test_split(X_train, y_train_one_hot, test_size=0.2)"
   ]
  },
  {
   "cell_type": "markdown",
   "metadata": {},
   "source": [
    "バッチクラス導入"
   ]
  },
  {
   "cell_type": "code",
   "execution_count": 108,
   "metadata": {},
   "outputs": [],
   "source": [
    "class GetMiniBatch:\n",
    "    \"\"\"\n",
    "    ミニバッチを取得するイテレータ\n",
    "\n",
    "    Parameters\n",
    "    ----------\n",
    "    X : 次の形のndarray, shape (n_samples, n_features)\n",
    "      訓練用データ\n",
    "    y : 次の形のndarray, shape (n_samples, 1)\n",
    "      正解値\n",
    "    batch_size : int\n",
    "      バッチサイズ\n",
    "    seed : int\n",
    "      NumPyの乱数のシード\n",
    "    \"\"\"\n",
    "    def __init__(self, X, y, batch_size = 20, seed=0):\n",
    "        self.batch_size = batch_size\n",
    "        np.random.seed(seed)\n",
    "        shuffle_index = np.random.permutation(np.arange(X.shape[0]))\n",
    "        self._X = X[shuffle_index]\n",
    "        self._y = y[shuffle_index]\n",
    "        self._stop = np.ceil(X.shape[0]/self.batch_size).astype(np.int)\n",
    "\n",
    "    def __len__(self):\n",
    "        return self._stop\n",
    "    \n",
    "    def __getitem__(self,item):\n",
    "        p0 = item*self.batch_size\n",
    "        p1 = item*self.batch_size + self.batch_size\n",
    "        return self._X[p0:p1], self._y[p0:p1]        \n",
    "\n",
    "    def __iter__(self):\n",
    "        self._counter = 0\n",
    "        return self\n",
    "\n",
    "    def __next__(self):\n",
    "        if self._counter >= self._stop:\n",
    "            raise StopIteration()\n",
    "        p0 = self._counter*self.batch_size\n",
    "        p1 = self._counter*self.batch_size + self.batch_size\n",
    "        self._counter += 1\n",
    "        return self._X[p0:p1], self._y[p0:p1]\n",
    "    "
   ]
  },
  {
   "cell_type": "markdown",
   "metadata": {},
   "source": [
    "## 【問題1】全結合層のクラス化"
   ]
  },
  {
   "cell_type": "code",
   "execution_count": 134,
   "metadata": {},
   "outputs": [],
   "source": [
    "class FC:\n",
    "    def __init__(self, n_nodes1, n_nodes2, initializer, optimizer):\n",
    "        self.optimizer = optimizer\n",
    "        # 初期化\n",
    "        # initializerのメソッドを使い、self.Wとself.Bを初期化する\n",
    "        init = initializer\n",
    "        self.n_nodes1 = n_nodes1\n",
    "        self.W = init.W(n_nodes1, n_nodes2)\n",
    "        self.B = init.B(n_nodes2) \n",
    "\n",
    "    def forward(self, X):\n",
    "        self.z = X\n",
    "        self.a = X@self.W + self.B\n",
    "        return self.a\n",
    "    \n",
    "    def backward(self, dA):\n",
    "        dZ = dA @ self.W.T\n",
    "        self.L_W = self.z.T @ dA\n",
    "        self.L_B = np.sum(dA, axis=0)\n",
    "        # 更新\n",
    "        self = self.optimizer.update(self)\n",
    "        return dZ"
   ]
  },
  {
   "cell_type": "markdown",
   "metadata": {},
   "source": [
    "## 【問題2】初期化方法のクラス化"
   ]
  },
  {
   "cell_type": "code",
   "execution_count": 135,
   "metadata": {},
   "outputs": [],
   "source": [
    "class SimpleInitializer:\n",
    "    def __init__(self, sigma):\n",
    "        self.sigma = sigma\n",
    "    def W(self, n_nodes1, n_nodes2):\n",
    "        W = self.sigma * np.random.randn(n_nodes1, n_nodes2)\n",
    "        \n",
    "        return W\n",
    "    \n",
    "    def B(self, n_nodes2):\n",
    "        B  = self.sigma * np.random.randn(n_nodes2)\n",
    "        return B\n"
   ]
  },
  {
   "cell_type": "markdown",
   "metadata": {},
   "source": [
    "## 【問題3】最適化手法のクラス化"
   ]
  },
  {
   "cell_type": "code",
   "execution_count": 136,
   "metadata": {},
   "outputs": [],
   "source": [
    "class SGD:\n",
    "    def __init__(self, lr):\n",
    "        self.lr = lr\n",
    "        \n",
    "    def update(self, layer):\n",
    "        layer.W = layer.W -  self.lr * layer.L_W\n",
    "        layer.B = layer.B - self.lr*layer.L_B\n",
    "        return layer"
   ]
  },
  {
   "cell_type": "markdown",
   "metadata": {},
   "source": [
    "## 【問題4】活性化関数のクラス化"
   ]
  },
  {
   "cell_type": "code",
   "execution_count": 137,
   "metadata": {},
   "outputs": [],
   "source": [
    "class Tanh:\n",
    "    \n",
    "    def forward(self, X):\n",
    "        self.A = X\n",
    "        \n",
    "        return (np.exp(X) - np.exp(-X)) / (np.exp(X) + np.exp(-X))\n",
    "    \n",
    "    def backward(self, Z):\n",
    "        \n",
    "        tanh = Tanh()\n",
    "        a = tanh.forward(self.A)\n",
    "        a = a**2\n",
    "        a = 1- a\n",
    "        L_A = Z * a\n",
    "    \n",
    "        \n",
    "        return L_A"
   ]
  },
  {
   "cell_type": "code",
   "execution_count": 138,
   "metadata": {},
   "outputs": [],
   "source": [
    "class Softmax:\n",
    "    def forward(self, A):\n",
    "        softmax = np.empty((A.shape[0], A.shape[1]))\n",
    "        exp_a = np.exp(A)\n",
    "        exp_sum = np.sum(exp_a, axis=1)\n",
    "        for i in range(A.shape[0]):\n",
    "            softmax[i] = exp_a[i] / exp_sum[i]\n",
    "            \n",
    "        return softmax\n",
    "    \n",
    "    def backward(self, Z, Y):\n",
    "        L_A = Z - Y\n",
    "        self.cross_entropy = -np.average(np.sum(Y*np.log(Z), axis=1))\n",
    "        \n",
    "        return L_A"
   ]
  },
  {
   "cell_type": "code",
   "execution_count": 116,
   "metadata": {},
   "outputs": [],
   "source": [
    "class Sigmoid:\n",
    "    def __init__(self):\n",
    "        pass\n",
    "    \n",
    "    def forward(self, X):\n",
    "        self.A = sigmoid(X)\n",
    "        return self.A\n",
    "    \n",
    "    def backward(self, dZ):\n",
    "        return dZ * (1 - self.A) * self.A"
   ]
  },
  {
   "cell_type": "markdown",
   "metadata": {},
   "source": [
    "## 【問題5】ReLUクラスの作成"
   ]
  },
  {
   "cell_type": "code",
   "execution_count": 117,
   "metadata": {},
   "outputs": [],
   "source": [
    "class Relu:\n",
    "    def forward(self, X):\n",
    "        self.A = X\n",
    "        return np.maximum(0, X)\n",
    "    \n",
    "    def backward(self, Z):\n",
    "        \n",
    "        return Z * np.maximum(np.sign(self.A), 0)"
   ]
  },
  {
   "cell_type": "markdown",
   "metadata": {},
   "source": [
    "## 【問題6】重みの初期値"
   ]
  },
  {
   "cell_type": "code",
   "execution_count": 118,
   "metadata": {},
   "outputs": [],
   "source": [
    "class Xaver_Initilizer:\n",
    "    \n",
    "    def __init__(self, n_node1):\n",
    "        self.sigma =  1 / np.sqrt(n_node1)\n",
    "        \n",
    "    def W(self, n_nodes1, n_nodes2):\n",
    "        W = self.sigma * np.random.randn(n_nodes1, n_nodes2)\n",
    "        return W\n",
    "    \n",
    "    def B(self, n_nodes2):\n",
    "        B  = self.sigma * np.random.randn(n_nodes2)\n",
    "        return B"
   ]
  },
  {
   "cell_type": "code",
   "execution_count": 120,
   "metadata": {},
   "outputs": [],
   "source": [
    "class He_Initilizer:\n",
    "    \n",
    "    def __init__(self, n_node1):\n",
    "        self.sigma = np.sqrt(2/n_node1)\n",
    "        \n",
    "    def W(self, n_nodes1, n_nodes2):\n",
    "        W = self.sigma * np.random.randn(n_nodes1, n_nodes2)\n",
    "        return W\n",
    "    \n",
    "    def B(self, n_nodes2):\n",
    "        B  = self.sigma * np.random.randn(n_nodes2)\n",
    "        return B"
   ]
  },
  {
   "cell_type": "markdown",
   "metadata": {},
   "source": [
    "## 【問題7】最適化手法"
   ]
  },
  {
   "cell_type": "code",
   "execution_count": 139,
   "metadata": {},
   "outputs": [],
   "source": [
    "class AdaGrad:\n",
    "    \n",
    "    def __init__(self, lr):\n",
    "        self.lr = lr\n",
    "        self.H_W = 1\n",
    "        self.H_B = 1\n",
    "\n",
    "    def update(self, layer):\n",
    "        self.H_W = self.H_W + (layer.L_W**2)\n",
    "        self.H_B = self.H_B + (layer.L_B**2)\n",
    "        layer.W = layer.W -  self.lr * 1 / np.sqrt(self.H_W) * layer.L_W\n",
    "        layer.B = layer.B - self.lr * 1 / np.sqrt(self.H_B) * layer.L_B     \n",
    "        return layer"
   ]
  },
  {
   "cell_type": "markdown",
   "metadata": {},
   "source": [
    "## 【問題8】クラスの完成"
   ]
  },
  {
   "cell_type": "code",
   "execution_count": 140,
   "metadata": {},
   "outputs": [],
   "source": [
    "class ScratchDeepNeuralNetrowkClassifier:\n",
    "    \"\"\"\n",
    "    スクラッチで実装したディープニューラルネットワーク\n",
    "    \"\"\"\n",
    "    def __init__(self,epochs, optimizer, lr=0.01, sigma=0.01):\n",
    "        \n",
    "        self.epochs = epochs\n",
    "        self.lr = lr\n",
    "        self.sigma = sigma\n",
    "        self.loss = []\n",
    "        self.optimizer = optimizer\n",
    "        \n",
    "    def fit(self, X, Y, node_list, act_list, initializer):\n",
    "        \"\"\"\n",
    "        学習を行うメソッド\n",
    "        Params\n",
    "        -----------------\n",
    "        X:訓練データ　                                           array\n",
    "        Y:訓練データの正解ラベル(one_hot)     　array\n",
    "        node_list:入力層から出力層までのノード数を格納したリスト\n",
    "        act_list:活性化関数を格納したリスト\n",
    "        initializer:重みの初期値を決定するクラス\n",
    "        optimizer:最適化手法のクラス\n",
    "        \n",
    "        \"\"\"\n",
    "        #全結合層を保存するリスト\n",
    "        self.FC_list = []\n",
    "        if initializer == SimpleInitializer:\n",
    "            initializer = SimpleInitializer(self.lr)\n",
    "            for i in range(len(node_list) - 1):\n",
    "                self.FC_list.append(FC(node_list[i], node_list[i+1], initializer, self.optimizer(self.lr)))\n",
    "        else:\n",
    "            for i in range(len(node_list) - 1):\n",
    "                self.FC_list.append(FC(node_list[i], node_list[i+1], initializer(node_list[i]), self.optimizer(self.lr)))\n",
    "            \n",
    "                \n",
    "                \n",
    "        #活性化関数を保存するリスト\n",
    "        self.activation_list = []\n",
    "        for i in range(len(act_list)):\n",
    "            self.activation_list.append(act_list[i])\n",
    "            \n",
    "        #エポック回数分学習    \n",
    "        for i in range(self.epochs):\n",
    "            get_mini_batch = GetMiniBatch(X  , Y , batch_size=20)\n",
    "            for X_train_min, t_train_min in get_mini_batch:\n",
    "                #forward処理\n",
    "                Z = X_train_min\n",
    "                for i in range(len(self.activation_list)):\n",
    "                    A = self.FC_list[i].forward(Z)\n",
    "                    Z =  self.activation_list[i].forward(A)\n",
    "                    \n",
    "                #backward処理\n",
    "                dA = self.activation_list[-1].backward(Z, t_train_min)\n",
    "                dZ = self.FC_list[-1].backward(dA)\n",
    "                for i in range(len(self.activation_list)-1):\n",
    "                    dA = self.activation_list[-i-2].backward(dZ)\n",
    "                    dZ = self.FC_list[-i-2].backward(dA)\n",
    "                    \n",
    "            #lossを保存する処理    \n",
    "            Z = X\n",
    "            for i in range(len(self.activation_list)):\n",
    "                A = self.FC_list[i].forward(Z)\n",
    "                Z =  self.activation_list[i].forward(A)\n",
    "            self.activation_list[-1].backward(Z, Y)\n",
    "            self.loss.append(self.activation_list[-1].cross_entropy)\n",
    "            \n",
    "            \n",
    "    def predict(self, X):\n",
    "        Z = X\n",
    "        for i in range(len(self.activation_list)):\n",
    "            A = self.FC_list[i].forward(Z)\n",
    "            Z =  self.activation_list[i].forward(A)\n",
    "            \n",
    "        y = np.argmax(Z, axis=1)\n",
    "        return y"
   ]
  },
  {
   "cell_type": "markdown",
   "metadata": {},
   "source": [
    "## 【問題9】学習と推定"
   ]
  },
  {
   "cell_type": "code",
   "execution_count": 141,
   "metadata": {},
   "outputs": [],
   "source": [
    "node_list = [784, 400, 200, 10]\n",
    "act_list = [Tanh(), Tanh(), Softmax()]\n",
    "dnn = ScratchDeepNeuralNetrowkClassifier(epochs=3, optimizer = SGD)\n",
    "dnn.fit(X_train, y_train, node_list, act_list, SimpleInitializer)"
   ]
  },
  {
   "cell_type": "code",
   "execution_count": 143,
   "metadata": {},
   "outputs": [
    {
     "name": "stdout",
     "output_type": "stream",
     "text": [
      "0.9601\n"
     ]
    }
   ],
   "source": [
    "y_pred = dnn.predict(X_test)\n",
    "print(accuracy_score(y_test, y_pred))"
   ]
  },
  {
   "cell_type": "code",
   "execution_count": 144,
   "metadata": {},
   "outputs": [
    {
     "data": {
      "text/plain": [
       "[<matplotlib.lines.Line2D at 0x1a2b4650b8>]"
      ]
     },
     "execution_count": 144,
     "metadata": {},
     "output_type": "execute_result"
    },
    {
     "data": {
      "image/png": "[encoded data removed]",
      "text/plain": [
       "<Figure size 432x288 with 1 Axes>"
      ]
     },
     "metadata": {
      "needs_background": "light"
     },
     "output_type": "display_data"
    }
   ],
   "source": [
    "plt.plot(dnn.loss)"
   ]
  },
  {
   "cell_type": "code",
   "execution_count": null,
   "metadata": {},
   "outputs": [],
   "source": []
  }
 ],
 "metadata": {
  "kernelspec": {
   "display_name": "Python 3",
   "language": "python",
   "name": "python3"
  },
  "language_info": {
   "codemirror_mode": {
    "name": "ipython",
    "version": 3
   },
   "file_extension": ".py",
   "mimetype": "text/x-python",
   "name": "python",
   "nbconvert_exporter": "python",
   "pygments_lexer": "ipython3",
   "version": "3.7.3"
  },
  "toc-autonumbering": true,
  "toc-showcode": false,
  "toc-showmarkdowntxt": false
 },
 "nbformat": 4,
 "nbformat_minor": 2
}
