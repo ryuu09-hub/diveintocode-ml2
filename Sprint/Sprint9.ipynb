{
 "cells": [
  {
   "cell_type": "markdown",
   "metadata": {},
   "source": [
    "# Sprint9\n",
    "## ニューラルネットワークスクラッチ"
   ]
  },
  {
   "cell_type": "code",
   "execution_count": 1,
   "metadata": {},
   "outputs": [],
   "source": [
    "import numpy as np\n",
    "import matplotlib.pyplot as plt\n",
    "%matplotlib inline\n",
    "from keras.datasets import mnist\n",
    "from sklearn.preprocessing import OneHotEncoder\n",
    "from sklearn.model_selection import train_test_split\n",
    "from sklearn.metrics import accuracy_score"
   ]
  },
  {
   "cell_type": "markdown",
   "metadata": {},
   "source": [
    "**データ読み込み**"
   ]
  },
  {
   "cell_type": "code",
   "execution_count": 2,
   "metadata": {},
   "outputs": [],
   "source": [
    "(X_train, y_train), (X_test, y_test) = mnist.load_data()"
   ]
  },
  {
   "cell_type": "markdown",
   "metadata": {},
   "source": [
    "**前処理**"
   ]
  },
  {
   "cell_type": "code",
   "execution_count": 3,
   "metadata": {},
   "outputs": [],
   "source": [
    "#reshape\n",
    "X_train=X_train.reshape(-1,784)\n",
    "X_test=X_test.reshape(-1,784)"
   ]
  },
  {
   "cell_type": "code",
   "execution_count": 4,
   "metadata": {},
   "outputs": [
    {
     "data": {
      "image/png": "[encoded data removed]",
      "text/plain": [
       "<Figure size 432x288 with 1 Axes>"
      ]
     },
     "metadata": {
      "needs_background": "light"
     },
     "output_type": "display_data"
    }
   ],
   "source": [
    "#データ可視化\n",
    "index = 0\n",
    "image = X_train[index].reshape(28,28)\n",
    "image = image.astype(np.float) # float型に変換\n",
    "image -= 105.35 # 意図的に負の小数値を作り出してみる\n",
    "plt.imshow(image,'gray',vmin=0, vmax=255)\n",
    "plt.title('label : {}'.format(y_train[index]))\n",
    "plt.show()\n",
    "#print(image) # 値を確認"
   ]
  },
  {
   "cell_type": "code",
   "execution_count": 5,
   "metadata": {},
   "outputs": [],
   "source": [
    "#グレースケールの標準化\n",
    "X_train=X_train.astype(np.float)\n",
    "X_test=X_test.astype(np.float)\n",
    "X_train /= 255\n",
    "X_test /= 255"
   ]
  },
  {
   "cell_type": "code",
   "execution_count": 6,
   "metadata": {},
   "outputs": [],
   "source": [
    "#データ分割\n",
    "X_train, X_val, y_train, y_val = train_test_split(X_train,y_train, test_size=0.2)"
   ]
  },
  {
   "cell_type": "code",
   "execution_count": 7,
   "metadata": {},
   "outputs": [],
   "source": [
    "#ニューラルネットワークで多クラス分類を行う際には one-hot表現 に変換\n",
    "enc=OneHotEncoder(handle_unknown='ignore',sparse=False)\n",
    "y_train_one_hot=enc.fit_transform(y_train[:,np.newaxis])\n",
    "y_test_one_hot=enc.transform(y_test[:,np.newaxis])"
   ]
  },
  {
   "cell_type": "markdown",
   "metadata": {},
   "source": [
    "## ニューラルネットワークスクラッチ"
   ]
  },
  {
   "cell_type": "markdown",
   "metadata": {},
   "source": [
    "## ミニバッチ処理"
   ]
  },
  {
   "cell_type": "code",
   "execution_count": 8,
   "metadata": {},
   "outputs": [],
   "source": [
    "class GetMiniBatch:\n",
    "    \"\"\"\n",
    "    ミニバッチを取得するイテレータ\n",
    "\n",
    "    Parameters\n",
    "    ----------\n",
    "    X : 次の形のndarray, shape (n_samples, n_features)\n",
    "      訓練用データ\n",
    "    y : 次の形のndarray, shape (n_samples, 1)\n",
    "      正解値\n",
    "    batch_size : int\n",
    "      バッチサイズ\n",
    "    seed : int\n",
    "      NumPyの乱数のシード\n",
    "    \"\"\"\n",
    "    def __init__(self, X, y, batch_size = 20, seed=0):\n",
    "        self.batch_size = batch_size\n",
    "        np.random.seed(seed)\n",
    "        shuffle_index = np.random.permutation(np.arange(X.shape[0]))\n",
    "        self._X = X[shuffle_index]\n",
    "        self._y = y[shuffle_index]\n",
    "        self._stop = np.ceil(X.shape[0]/self.batch_size).astype(np.int)\n",
    "\n",
    "    def __len__(self):\n",
    "        return self._stop\n",
    "    \n",
    "    def __getitem__(self,item):\n",
    "        p0 = item*self.batch_size\n",
    "        p1 = item*self.batch_size + self.batch_size\n",
    "        return self._X[p0:p1], self._y[p0:p1]        \n",
    "\n",
    "    def __iter__(self):\n",
    "        self._counter = 0\n",
    "        return self\n",
    "\n",
    "    def __next__(self):\n",
    "        if self._counter >= self._stop:\n",
    "            raise StopIteration()\n",
    "        p0 = self._counter*self.batch_size\n",
    "        p1 = self._counter*self.batch_size + self.batch_size\n",
    "        self._counter += 1\n",
    "        return self._X[p0:p1], self._y[p0:p1]\n",
    "    "
   ]
  },
  {
   "cell_type": "code",
   "execution_count": 32,
   "metadata": {},
   "outputs": [],
   "source": [
    "class ScratchSimpleNeuralNetrowkClassifier():\n",
    "    \"\"\"\n",
    "    シンプルな三層ニューラルネットワーク分類器\n",
    "\n",
    "    Parameters\n",
    "    ----------\n",
    "    alpha : flort\n",
    "      学習率\n",
    "    sigma : flort\n",
    "      標準偏差\n",
    "    epochs : int\n",
    "      エポック数\n",
    "    verbose : bool\n",
    "      学習過程を出力する場合はTrue\n",
    "    seed : int\n",
    "      シードの指定値\n",
    "      \n",
    "    Attributes\n",
    "    ----------\n",
    "    \"\"\"\n",
    "\n",
    "    def __init__(self,alpha=0.01,sigma=0.01,epochs=50,verbose=True,seed=9):\n",
    "        self.verbose = verbose\n",
    "        n_features = X.shape[1] # 特徴量の数\n",
    "        n_nodes1 = 400 # 1層目のノード数\n",
    "        n_nodes2 = 200 # 2層目のノード数\n",
    "        n_output = y.shape[1] # 出力のクラス数（3層目のノード数）\n",
    "        np.random.seed(seed)\n",
    "        self.a=alpha\n",
    "        self.epochs=epochs\n",
    "        self.sigma=sigma # ガウス分布の標準偏差\n",
    "        self.W1=sigma*np.random.randn(n_features, n_nodes1)\n",
    "        self.W2=sigma*np.random.randn(n_nodes1, n_nodes2) \n",
    "        self.W3=sigma*np.random.randn(n_nodes2, n_output) \n",
    "        self.B1=sigma*np.random.randn(n_nodes1)\n",
    "        self.B2=sigma*np.random.randn(n_nodes2)\n",
    "        self.B3=sigma*np.random.randn(n_output)\n",
    "        self.loss=[]\n",
    "\n",
    "    def fit(self, X, y, X_val=None, y_val=None):\n",
    "        \"\"\"\n",
    "        ニューラルネットワーク分類器を学習する。\n",
    "\n",
    "        Parameters\n",
    "        ----------\n",
    "        X : 次の形のndarray, shape (n_samples, n_features)\n",
    "            訓練用データの特徴量\n",
    "        y : 次の形のndarray, shape (n_samples, )\n",
    "            訓練用データの正解値\n",
    "        X_val : 次の形のndarray, shape (n_samples, n_features)\n",
    "            検証用データの特徴量\n",
    "        y_val : 次の形のndarray, shape (n_samples, )\n",
    "            検証用データの正解値\n",
    "        \"\"\"\n",
    "\n",
    "        self.get_mini_batch = GetMiniBatch(X, y, batch_size=20)\n",
    "        for i in range(self.epochs):\n",
    "            for mini_X_train, mini_y_train in self.get_mini_batch:\n",
    "                #フォワードプロパゲーション\n",
    "                self._forward(mini_X_train)\n",
    "                #バックプロパゲーション\n",
    "                self._back(mini_X_train,mini_y_train)\n",
    "        \n",
    "            if self.verbose:\n",
    "                #verboseをTrueにした際は学習過程などを出力する\n",
    "                self.loss.append(self._cross(X,y))\n",
    "                print(\"{}epoch:{}\".format(i+1,self.loss[-1]))\n",
    "\n",
    "    def predict(self, X):\n",
    "        \"\"\"\n",
    "        ニューラルネットワーク分類器を使い推定する。\n",
    "\n",
    "        Parameters\n",
    "        ----------\n",
    "        X : 次の形のndarray, shape (n_samples, n_features)\n",
    "            サンプル\n",
    "\n",
    "        Returns\n",
    "        -------\n",
    "            次の形のndarray, shape (n_samples, 1)\n",
    "            推定結果\n",
    "        \"\"\"\n",
    "\n",
    "        y_pred=np.argmax(self._forward(X),axis=1)\n",
    "        return y_pred    \n",
    "    \n",
    "    def _tanh(self,X):\n",
    "        tanh=(np.exp(X)-np.exp(-X))/(np.exp(X)+np.exp(-X))\n",
    "        return tanh\n",
    "    \n",
    "    def _softmax(self,X):\n",
    "        z3=np.zeros((X.shape[0], X.shape[1]))\n",
    "        C=np.max(X)\n",
    "        exp=np.exp(X/C)\n",
    "        exp_sum=np.sum(exp,axis=1)\n",
    "        \n",
    "        for i in range(X.shape[0]):\n",
    "            z3[i]=exp[i]/exp_sum[i]\n",
    "        return z3\n",
    "    \n",
    "    def _forward(self,X):\n",
    "        self.a1 = np.dot(X,self.W1) + self.B1\n",
    "        self.z1 = tanh(self.a1)\n",
    "        self.a2 = np.dot(self.z1,self.W2) + self.B2\n",
    "        self.z2 = tanh(self.a2)\n",
    "        self.a3 = np.dot(self.z2,self.W3) +self.B3\n",
    "        self.z3 = softmax(self.a3)\n",
    "        \n",
    "        return self.z3\n",
    "        \n",
    "    def _back(self,X,y):\n",
    "        #３層目\n",
    "        dL_dA3=self.z3-y #A3に関する損失Lの勾配(batch_size, n_output)\n",
    "        dL_dB3=dL_dA3.sum(axis=0) #j番目のサンプルのA3に関する損失Lの勾配 (n_nodes2,)\n",
    "        dL_dW3=np.dot(self.z2.T,dL_dA3) #B3に関する損失Lの勾配(batch_size, n_output)\n",
    "        dL_dZ2=np.dot(dL_dA3,self.W3.T) #W3に関する損失Lの勾配(n_nodes2, n_output)\n",
    "\n",
    "        #2層目\n",
    "        dL_dA2=dL_dZ2*(1-tanh(self.a2)**2)\n",
    "        dL_dB2=dL_dA2.sum(axis=0)\n",
    "        dL_dW2=np.dot(self.z1.T,dL_dA2)\n",
    "        dL_dZ1=np.dot(dL_dA2,self.W2.T)\n",
    "\n",
    "        #1層目\n",
    "        dL_dA1=dL_dZ1*(1-tanh(self.a1)**2)\n",
    "        dL_dB1=dL_dA1.sum(axis=0)\n",
    "        dL_dW1=np.dot(X.T,dL_dA1)\n",
    "\n",
    "        #重みとバイアスの更新\n",
    "        self.W1=self.W1-self.a*dL_dW1\n",
    "        self.W2=self.W2-self.a*dL_dW2\n",
    "        self.W3=self.W3-self.a*dL_dW3\n",
    "\n",
    "        self.B1=self.B1-self.a*dL_dB1\n",
    "        self.B2=self.B2-self.a*dL_dB2\n",
    "        self.B3=self.B3-self.a*dL_dB3\n",
    "        \n",
    "            \n",
    "    def _cross(self,X,y):\n",
    "        #l=-(1/self.get_mini_batch.batch_size)*np.sum(y*np.log(self._forward(X)))\n",
    "        l=-(1/X.shape[0])*np.sum(y*np.log(self._forward(X)))\n",
    "        \n",
    "        return l \n",
    "    "
   ]
  },
  {
   "cell_type": "markdown",
   "metadata": {},
   "source": [
    "## 【問題1】重みの初期値を決めるコードの作成"
   ]
  },
  {
   "cell_type": "code",
   "execution_count": 20,
   "metadata": {},
   "outputs": [],
   "source": [
    "n_features = 784 # 特徴量の数\n",
    "n_nodes1 = 400 # 1層目のノード数\n",
    "n_nodes2 = 200 # 2層目のノード数\n",
    "n_output = 10 # 出力のクラス数（3層目のノード数）\n",
    "sigma = 0.01 # ガウス分布の標準偏差\n",
    "W1=sigma*np.random.randn(n_features, n_nodes1)\n",
    "W2=sigma*np.random.randn(n_nodes1, n_nodes2) \n",
    "W3=sigma*np.random.randn(n_nodes2, n_output) \n",
    "        \n",
    "B1=sigma*np.random.randn(n_nodes1)\n",
    "B2=sigma*np.random.randn(n_nodes2)\n",
    "B3=sigma*np.random.randn(n_output)"
   ]
  },
  {
   "cell_type": "markdown",
   "metadata": {},
   "source": [
    "## 【問題2】フォワードプロパゲーション"
   ]
  },
  {
   "cell_type": "code",
   "execution_count": 21,
   "metadata": {},
   "outputs": [],
   "source": [
    "def tanh(X):\n",
    "        tanh=(np.exp(X)-np.exp(-X))/(np.exp(X)+np.exp(-X))\n",
    "        return tanh\n",
    "    \n",
    "def softmax(X):\n",
    "        softmax=np.zeros((X.shape[0], X.shape[1]))\n",
    "        exp=np.exp(X)\n",
    "        exp_sum=np.sum(exp,axis=1)\n",
    "        for i in range(X.shape[0]):\n",
    "            softmax[i]=exp[i]/exp_sum[i]\n",
    "            \n",
    "        return softmax"
   ]
  },
  {
   "cell_type": "code",
   "execution_count": 22,
   "metadata": {},
   "outputs": [],
   "source": [
    "def forward(X,W1,W2,W3,B1,B2,B3):\n",
    "    a1 = np.dot(X,W1) + B1\n",
    "    z1 = tanh(a1)\n",
    "    a2 = np.dot(z1,W2) + B2\n",
    "    z2 = tanh(a2)\n",
    "    a3 = np.dot(z2,W3) +B3\n",
    "    z3 = softmax(a3)\n",
    "\n",
    "    return z3"
   ]
  },
  {
   "cell_type": "code",
   "execution_count": 23,
   "metadata": {},
   "outputs": [],
   "source": [
    "batch_size = 20 # バッチサイズ\n",
    "#X_trainのインデックスをランダムにbatch_size数分取り出し\n",
    "idx=np.random.choice(len(X_train), size=batch_size, replace=False)  \n",
    "#Xに(batch_size, n_features)となるように格納\n",
    "X=X_train[idx,:]\n",
    "\n",
    "a1 = np.dot(X,W1) + B1\n",
    "z1 = tanh(a1)\n",
    "a2 = np.dot(z1,W2) + B2\n",
    "z2 = tanh(a2)\n",
    "a3 = np.dot(z2,W3) +B3\n",
    "z3 = softmax(a3)\n"
   ]
  },
  {
   "cell_type": "markdown",
   "metadata": {},
   "source": [
    "## 【問題3】交差エントロピー誤差の実装"
   ]
  },
  {
   "cell_type": "code",
   "execution_count": 24,
   "metadata": {},
   "outputs": [],
   "source": [
    "y=y_train_one_hot[idx]\n",
    "l=-(1/batch_size)*np.sum(y*np.log(z3))"
   ]
  },
  {
   "cell_type": "markdown",
   "metadata": {},
   "source": [
    "## 【問題4】バックプロパゲーションの実装"
   ]
  },
  {
   "cell_type": "code",
   "execution_count": 25,
   "metadata": {},
   "outputs": [],
   "source": [
    "#３層目\n",
    "dL_dA3=z3-y #A3に関する損失Lの勾配(batch_size, n_output)\n",
    "dL_dB3=dL_dA3.sum(axis=0) #j番目のサンプルのA3に関する損失Lの勾配 (n_nodes2,)\n",
    "dL_dW3=np.dot(z2.T,dL_dA3) #B3に関する損失Lの勾配(batch_size, n_output)\n",
    "dL_dZ2=np.dot(dL_dA3,W3.T) #W3に関する損失Lの勾配(n_nodes2, n_output)\n",
    "\n",
    "#2層目\n",
    "dL_dA2=dL_dZ2*(1-tanh(a2)**2)\n",
    "dL_dB2=dL_dA2.sum(axis=0)\n",
    "dL_dW2=np.dot(z1.T,dL_dA2)\n",
    "dL_dZ1=np.dot(dL_dA2,W2.T)\n",
    "\n",
    "#1層目\n",
    "dL_dA1=dL_dZ1*(1-tanh(a1)**2)\n",
    "dL_dB1=dL_dA1.sum(axis=0)\n",
    "dL_dW1=np.dot(X.T,dL_dA1)\n",
    "\n",
    "a=0.000001\n",
    "#重みとバイアスの更新\n",
    "W1=W1-a*dL_dW1\n",
    "W2=W2-a*dL_dW2\n",
    "W3=W3-a*dL_dW3\n",
    "\n",
    "B1=B1-a*dL_dB1\n",
    "B2=B2-a*dL_dB2\n",
    "B3=B3-a*dL_dB3      "
   ]
  },
  {
   "cell_type": "markdown",
   "metadata": {},
   "source": [
    "## 【問題5】推定"
   ]
  },
  {
   "cell_type": "code",
   "execution_count": 26,
   "metadata": {},
   "outputs": [
    {
     "data": {
      "text/plain": [
       "array([4, 4, 4, 4, 4, 4, 4, 4, 4, 2, 4, 4, 4, 4, 4, 4, 4, 4, 4, 4])"
      ]
     },
     "execution_count": 26,
     "metadata": {},
     "output_type": "execute_result"
    }
   ],
   "source": [
    "pred=np.argmax(forward(X,W1,W2,W3,B1,B2,B3),axis=1)\n",
    "pred"
   ]
  },
  {
   "cell_type": "markdown",
   "metadata": {},
   "source": [
    "## 【問題6】学習と推定"
   ]
  },
  {
   "cell_type": "code",
   "execution_count": 27,
   "metadata": {},
   "outputs": [],
   "source": [
    "NN=ScratchSimpleNeuralNetrowkClassifier()"
   ]
  },
  {
   "cell_type": "code",
   "execution_count": 28,
   "metadata": {},
   "outputs": [
    {
     "name": "stdout",
     "output_type": "stream",
     "text": [
      "1epoch:0.19671049611251729\n",
      "2epoch:0.11674033350462731\n",
      "3epoch:0.08857014140627588\n",
      "4epoch:0.06298766765867907\n",
      "5epoch:0.05339826178572174\n",
      "6epoch:0.04039529777431581\n",
      "7epoch:0.030231064152110562\n",
      "8epoch:0.023746160532341826\n",
      "9epoch:0.023739135903998995\n",
      "10epoch:0.013773543017047548\n",
      "11epoch:0.009416633494103337\n",
      "12epoch:0.006237771786678753\n",
      "13epoch:0.004141670510648641\n",
      "14epoch:0.002342887452710668\n",
      "15epoch:0.0013286247115458\n",
      "16epoch:0.0008505041872643061\n",
      "17epoch:0.0006672833066955671\n",
      "18epoch:0.0005769008189897248\n",
      "19epoch:0.0005127003281437664\n",
      "20epoch:0.0004625840425115901\n",
      "21epoch:0.0004219989346492678\n",
      "22epoch:0.0003882991914693233\n",
      "23epoch:0.0003597847991381521\n",
      "24epoch:0.00033529640329503724\n",
      "25epoch:0.0003140082955268204\n",
      "26epoch:0.000295312526083511\n",
      "27epoch:0.0002787495912695382\n",
      "28epoch:0.00026396472405493856\n",
      "29epoch:0.0002506791277760358\n",
      "30epoch:0.0002386703783722769\n",
      "31epoch:0.0002277586894266699\n",
      "32epoch:0.00021779705615492074\n",
      "33epoch:0.00020866403964379948\n",
      "34epoch:0.00020025839181329059\n",
      "35epoch:0.00019249499039364706\n",
      "36epoch:0.00018530172310689375\n",
      "37epoch:0.00017861707059696678\n",
      "38epoch:0.0001723882110438277\n",
      "39epoch:0.00016656951922610938\n",
      "40epoch:0.00016112136725631273\n",
      "41epoch:0.00015600915843964528\n",
      "42epoch:0.0001512025429974055\n",
      "43epoch:0.0001466747769038918\n",
      "44epoch:0.00014240219424799542\n",
      "45epoch:0.0001383637703188666\n",
      "46epoch:0.00013454075769745477\n",
      "47epoch:0.00013091638147754933\n",
      "48epoch:0.0001274755826701592\n",
      "49epoch:0.00012420480109798205\n",
      "50epoch:0.0001210917908323586\n"
     ]
    }
   ],
   "source": [
    "NN.fit(X_train,y_train_one_hot)"
   ]
  },
  {
   "cell_type": "code",
   "execution_count": 29,
   "metadata": {},
   "outputs": [
    {
     "data": {
      "text/plain": [
       "array([2, 6, 3, ..., 8, 1, 9])"
      ]
     },
     "execution_count": 29,
     "metadata": {},
     "output_type": "execute_result"
    }
   ],
   "source": [
    "y_pred=NN.predict(X_val)\n",
    "y_pred"
   ]
  },
  {
   "cell_type": "markdown",
   "metadata": {},
   "source": [
    "## 【問題7】学習曲線のプロット"
   ]
  },
  {
   "cell_type": "code",
   "execution_count": 30,
   "metadata": {},
   "outputs": [
    {
     "data": {
      "image/png": "[encoded data removed]",
      "text/plain": [
       "<Figure size 432x288 with 1 Axes>"
      ]
     },
     "metadata": {
      "needs_background": "light"
     },
     "output_type": "display_data"
    }
   ],
   "source": [
    "plt.plot(NN.loss)\n",
    "plt.title(\"NN\")\n",
    "plt.xlabel(\"epochs\")\n",
    "plt.ylabel(\"loss\")\n",
    "plt.show()"
   ]
  },
  {
   "cell_type": "code",
   "execution_count": 31,
   "metadata": {},
   "outputs": [
    {
     "name": "stdout",
     "output_type": "stream",
     "text": [
      "0.97925\n"
     ]
    }
   ],
   "source": [
    "print(accuracy_score(y_val,y_pred))"
   ]
  },
  {
   "cell_type": "code",
   "execution_count": 8,
   "metadata": {},
   "outputs": [
    {
     "data": {
      "text/plain": [
       "array([[0., 0., 0., ..., 0., 0., 1.],\n",
       "       [0., 1., 0., ..., 0., 0., 0.],\n",
       "       [1., 0., 0., ..., 0., 0., 0.],\n",
       "       ...,\n",
       "       [0., 0., 0., ..., 0., 0., 0.],\n",
       "       [0., 0., 0., ..., 0., 0., 1.],\n",
       "       [0., 0., 0., ..., 0., 0., 1.]])"
      ]
     },
     "execution_count": 8,
     "metadata": {},
     "output_type": "execute_result"
    }
   ],
   "source": [
    "y_train_one_hot"
   ]
  },
  {
   "cell_type": "code",
   "execution_count": null,
   "metadata": {},
   "outputs": [],
   "source": []
  }
 ],
 "metadata": {
  "kernelspec": {
   "display_name": "Python 3",
   "language": "python",
   "name": "python3"
  },
  "language_info": {
   "codemirror_mode": {
    "name": "ipython",
    "version": 3
   },
   "file_extension": ".py",
   "mimetype": "text/x-python",
   "name": "python",
   "nbconvert_exporter": "python",
   "pygments_lexer": "ipython3",
   "version": "3.7.3"
  },
  "toc-autonumbering": true
 },
 "nbformat": 4,
 "nbformat_minor": 2
}
