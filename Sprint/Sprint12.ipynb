{
 "cells": [
  {
   "cell_type": "markdown",
   "metadata": {},
   "source": [
    "# Sprint12\n",
    "## 2次元の畳み込みニューラルネットワークスクラッチ"
   ]
  },
  {
   "cell_type": "code",
   "execution_count": 2,
   "metadata": {},
   "outputs": [],
   "source": [
    "import numpy as np\n",
    "import matplotlib.pyplot as plt\n",
    "%matplotlib inline\n",
    "from keras.datasets import mnist\n",
    "from sklearn.preprocessing import OneHotEncoder\n",
    "from sklearn.model_selection import train_test_split\n",
    "from sklearn.metrics import accuracy_score"
   ]
  },
  {
   "cell_type": "code",
   "execution_count": 3,
   "metadata": {},
   "outputs": [],
   "source": [
    "(X_train,y_train),(X_test,y_test)=mnist.load_data()\n",
    "X_train,X_test=X_train.reshape(-1,784),X_test.reshape(-1,784)\n",
    "X_train,X_test=X_train.astype(float)/255,X_test.astype(float)/255"
   ]
  },
  {
   "cell_type": "code",
   "execution_count": 4,
   "metadata": {},
   "outputs": [],
   "source": [
    "enc=OneHotEncoder(handle_unknown='ignore',sparse=False)\n",
    "y_train=enc.fit_transform(y_train[:,np.newaxis])\n",
    "y_test=enc.transform(y_test[:,np.newaxis])"
   ]
  },
  {
   "cell_type": "code",
   "execution_count": 5,
   "metadata": {},
   "outputs": [],
   "source": [
    "X_train,X_val,y_train,y_val=train_test_split(X_train,y_train,test_size=0.2)"
   ]
  },
  {
   "cell_type": "markdown",
   "metadata": {},
   "source": [
    "## 【問題1】2次元畳み込み層の作成"
   ]
  },
  {
   "cell_type": "markdown",
   "metadata": {},
   "source": [
    "## 【問題2】2次元畳み込み後の出力サイズ"
   ]
  },
  {
   "cell_type": "raw",
   "metadata": {},
   "source": [
    "1次元畳み込み層のクラスConv1dを発展させ、2次元畳み込み層のクラスConv2dを作成してください。"
   ]
  },
  {
   "cell_type": "code",
   "execution_count": 5,
   "metadata": {},
   "outputs": [],
   "source": [
    "class XavierInitializer:\n",
    "    \"\"\"\n",
    "    XavierInitializerクラス\n",
    "    ※シグモイド関数やハイパボリックタンジェント関数のとき\n",
    "    \"\"\"\n",
    "    def __init__(self,n_nodes1):\n",
    "        self.sigma=1/np.sqrt(n_nodes1)\n",
    "       \n",
    "    def W(self, filter_size):\n",
    "        self.W=self.sigma*np.random.randn(filter_size)\n",
    "        return W\n",
    "    \n",
    "    def B(self):\n",
    "        self.B=self.sigma*np.random.randn()\n",
    "        return B"
   ]
  },
  {
   "cell_type": "code",
   "execution_count": null,
   "metadata": {},
   "outputs": [],
   "source": [
    "#im2col,3次元データ（４次元データ）を２次元に変換する処理\n",
    "def im2col(input_data,fh,fw,stride=1,pad=0):\n",
    "    #input_dataは（バッチサイズ,チャネル数,画像高さ,画像幅）\n",
    "    N,C,H,W=input_data.shape\n",
    "    #出力サイズ計算\n",
    "    oh=(H+2*pad-fh)//stride+1\n",
    "    ow=(W+2*pad-fw)//stride+1\n",
    "    #パディング\n",
    "    img=np.pad(input_data,[(0,0),(0,0),(pad,pad),(pad,pad)])\n",
    "    col=np.zeros((N,C,fh,fw,oh,ow))\n",
    "    \n",
    "    for y in range(fh):\n",
    "        y_max=y+stride*oh\n",
    "        for x in range(fw):\n",
    "            x_max=x+stride*ow\n",
    "            col[:, :, y, x, :, :]=img[:, :, y:y_max:stride, x:x_max:stride]\n",
    "    \n",
    "    # col=(N,C,fh,fw,oh,ow)→（N,oh,ow,C,fh,fw）へtranspose\n",
    "    #（N,oh,ow,C,fh,fw）をreshapeで２次元化\n",
    "    col=col.transpose(0,4,5,1,2,3).reshape(N*oh*ow, -1)\n",
    "    \n",
    "    return col\n",
    "    "
   ]
  },
  {
   "cell_type": "markdown",
   "metadata": {},
   "source": [
    "[np.pad使い方](https://qiita.com/horitaku1124/items/6ae979b21ddc7256b872)"
   ]
  },
  {
   "cell_type": "code",
   "execution_count": null,
   "metadata": {},
   "outputs": [],
   "source": [
    "class Scratch2dCNNClassifier:\n",
    "    \"\"\"\n",
    "    2次元畳み込み層のクラスConv2dを作成\n",
    "    \"\"\"\n",
    "    \n",
    "    def __init__(self,w,b,kernel_size,lr=0.01,padding=0,straid=1):\n",
    "        #weight(fh,fw,C,N)\n",
    "        self.W=w\n",
    "        self.B=b\n",
    "        self.fh=kernel_size[0]\n",
    "        self.fw=kernel_size[1]\n",
    "        self.lr=lr\n",
    "        self.pad=padding\n",
    "        self.straid=straid\n",
    "        \n",
    "    def _forward(self,X):\n",
    "        col=im2col(X)\n",
    "        a=np.dot(col,self.W)+self.B\n",
    "        \n",
    "        return a\n",
    "        \n",
    "    def _backward(self):\n",
    "        \n",
    "        \n",
    "        \n",
    "    def _im2col(self,X):\n",
    "        #input_dataは（バッチサイズ,チャネル数,画像高さ,画像幅）\n",
    "        N,C,H,W=X.shape\n",
    "        #出力サイズ計算\n",
    "        oh=(H+2*self.pad-self.fh)//self.stride+1\n",
    "        ow=(W+2*self.pad-self.fw)//self.stride+1\n",
    "        #パディング\n",
    "        img=np.pad(input_data,[(0,0),(0,0),(self.pad,self.pad),(self.pad,self.pad)])\n",
    "        col=np.zeros((N,C,self.fh,self.fw,oh,ow))\n",
    "    \n",
    "        for y in range(self.fh):\n",
    "            y_max=y+self.stride*oh\n",
    "            for x in range(self.fw):\n",
    "                x_max=x+self.stride*ow\n",
    "                col[:, :, y, x, :, :]=img[:, :, y:y_max:self.stride, x:x_max:self.stride]\n",
    "    \n",
    "        # col=(N,C,fh,fw,oh,ow)→（N,oh,ow,C,fh,fw）へtranspose\n",
    "        #（N,oh,ow,C,fh,fw）をreshapeで２次元化\n",
    "        col=col.transpose(0,4,5,1,2,3).reshape(N*oh*ow, -1)\n",
    "    \n",
    "        return col\n",
    "        "
   ]
  },
  {
   "cell_type": "code",
   "execution_count": null,
   "metadata": {},
   "outputs": [],
   "source": [
    "weight = np.random.random_sample((3,3,8,16))"
   ]
  },
  {
   "cell_type": "markdown",
   "metadata": {},
   "source": [
    "## 【問題3】最大プーリング層の作成"
   ]
  },
  {
   "cell_type": "code",
   "execution_count": null,
   "metadata": {},
   "outputs": [],
   "source": []
  },
  {
   "cell_type": "markdown",
   "metadata": {},
   "source": [
    "## 【問題5】平滑化"
   ]
  },
  {
   "cell_type": "code",
   "execution_count": null,
   "metadata": {},
   "outputs": [],
   "source": []
  },
  {
   "cell_type": "markdown",
   "metadata": {},
   "source": [
    "## 【問題6】学習と推定"
   ]
  },
  {
   "cell_type": "code",
   "execution_count": null,
   "metadata": {},
   "outputs": [],
   "source": []
  }
 ],
 "metadata": {
  "kernelspec": {
   "display_name": "Python 3",
   "language": "python",
   "name": "python3"
  },
  "language_info": {
   "codemirror_mode": {
    "name": "ipython",
    "version": 3
   },
   "file_extension": ".py",
   "mimetype": "text/x-python",
   "name": "python",
   "nbconvert_exporter": "python",
   "pygments_lexer": "ipython3",
   "version": "3.7.3"
  },
  "toc-autonumbering": true,
  "toc-showcode": false,
  "toc-showmarkdowntxt": true
 },
 "nbformat": 4,
 "nbformat_minor": 2
}
