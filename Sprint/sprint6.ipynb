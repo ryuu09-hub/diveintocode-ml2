{
 "cells": [
  {
   "cell_type": "markdown",
   "metadata": {
    "toc-hr-collapsed": false
   },
   "source": [
    "# Sprint6\n",
    "## 決定木のスクラッチ"
   ]
  },
  {
   "cell_type": "markdown",
   "metadata": {},
   "source": [
    "## 【問題1】ジニ不純度を求める関数"
   ]
  },
  {
   "cell_type": "code",
   "execution_count": 2,
   "metadata": {},
   "outputs": [],
   "source": [
    "import numpy as np\n",
    "import pandas as pd\n",
    "import scipy.stats as stats\n",
    "import matplotlib.pyplot as plt\n",
    "%matplotlib inline\n",
    "import seaborn as sns\n",
    "from numpy.random import *\n",
    "from sklearn.datasets import load_iris"
   ]
  },
  {
   "cell_type": "markdown",
   "metadata": {},
   "source": [
    "## アヤメデータ取得"
   ]
  },
  {
   "cell_type": "code",
   "execution_count": 113,
   "metadata": {},
   "outputs": [],
   "source": [
    "iris=load_iris()"
   ]
  },
  {
   "cell_type": "code",
   "execution_count": 195,
   "metadata": {},
   "outputs": [],
   "source": [
    "X=iris.data[50:,2:]\n",
    "y=iris.target[50:]"
   ]
  },
  {
   "cell_type": "code",
   "execution_count": 115,
   "metadata": {},
   "outputs": [],
   "source": [
    "def gini(y):\n",
    "    class_=np.unique(y)#ターゲット変数の固有値\n",
    "    n_all=len(y)#サンプル数\n",
    "    sigma=0\n",
    "    for i in class_:\n",
    "        p=np.sum(i==y)\n",
    "        sigma+=(np.sum(i==y)/n_all)**2\n",
    "    return 1-sigma"
   ]
  },
  {
   "cell_type": "code",
   "execution_count": 116,
   "metadata": {},
   "outputs": [
    {
     "name": "stdout",
     "output_type": "stream",
     "text": [
      "テスト１： 0.5\n",
      "テスト２： 0.6666666666666667\n",
      "テスト３： 0.48\n",
      "テスト４： 0.0\n"
     ]
    }
   ],
   "source": [
    "#テスト1\n",
    "y1=np.array([1]*15 + [2]*15)\n",
    "print(\"テスト１：\",gini(y1))\n",
    "\n",
    "#テスト２\n",
    "y2=np.array([1]*15 + [2]*15 + [3]*15)\n",
    "print(\"テスト２：\",gini(y2))\n",
    "\n",
    "#テスト３\n",
    "y３=np.array([1]*18 + [2]*12)\n",
    "print(\"テスト３：\",gini(y3))\n",
    "\n",
    "#テスト4\n",
    "y4=np.array([1]*30 + [2]*0)\n",
    "print(\"テスト４：\",gini(y4))"
   ]
  },
  {
   "cell_type": "markdown",
   "metadata": {},
   "source": [
    "## 【問題2】情報利得を求める関数"
   ]
  },
  {
   "cell_type": "code",
   "execution_count": 200,
   "metadata": {},
   "outputs": [],
   "source": [
    "def info_gain(y_left,y_right):\n",
    "    y=np.concatenate([y_left,y_right])\n",
    "    left=len(y_left)/len(y)*gini(y_left)\n",
    "    right=len(y_right)/len(y)*gini(y_right)\n",
    "    return gini(y) - left - right"
   ]
  },
  {
   "cell_type": "code",
   "execution_count": 201,
   "metadata": {},
   "outputs": [
    {
     "data": {
      "text/plain": [
       "0.14319526627218937"
      ]
     },
     "execution_count": 201,
     "metadata": {},
     "output_type": "execute_result"
    }
   ],
   "source": [
    "#テスト\n",
    "left=np.array([1]*10 + [2]*30)\n",
    "right=np.array([1]*20 + [2]*5)\n",
    "info_gain(left,right)"
   ]
  },
  {
   "cell_type": "markdown",
   "metadata": {},
   "source": [
    "## 【問題3】深さ1の決定木分類器クラスの作成"
   ]
  },
  {
   "cell_type": "code",
   "execution_count": 206,
   "metadata": {},
   "outputs": [],
   "source": [
    "class ScratchDecesionTreeClassifier():\n",
    "    \"\"\"\n",
    "    深さが1の決定機分類器のクラスを作成\n",
    "    \"\"\"\n",
    "    def __init__(self, depth=1):\n",
    "        self.depth=depth\n",
    "        \n",
    "    def fit(self,X,y):\n",
    "        self.Threshold=0 #閾値定義\n",
    "        self.max_ig=0 #情報利得の最大値探索\n",
    "        \n",
    "        for i in range(len(X)):\n",
    "            for j in range(X.shape[1]):\n",
    "                y_left, y_right = y[X[:,j]>=X[i,j]], y[X[:,j]<X[i,j]]\n",
    "                \n",
    "                #情報利得の最大値探索\n",
    "                new_ig=self._ig(y_left,y_right)\n",
    "                if self.max_ig<=new_ig:\n",
    "                    self.max_ig=new_ig#情報利得更新\n",
    "                    self.Threshold=X[i,j]#閾値更新\n",
    "                    self.left_label=stats.mode(y_left)[0][0]\n",
    "                    self.right_label=stats.mode(y_right)[0][0]\n",
    "                    self.feature=j\n",
    "                    \n",
    "    def predict(self,X):\n",
    "        y_pred=np.zeros(X.shape[0])\n",
    "        for i in range(X.shape[0]):\n",
    "            if X[i,self.feature] >= self.Threshold:\n",
    "                y_pred[i]=self.left_label\n",
    "            else:\n",
    "                y_pred[i]=self.right_label   \n",
    "        return y_pred\n",
    "             \n",
    "    #ジニ不純度を求める関数\n",
    "    def _gini(self,y):\n",
    "        class_=np.unique(y)#ターゲット変数の固有値\n",
    "        n_all=len(y)#サンプル数\n",
    "        sigma=0\n",
    "        for i in class_:\n",
    "            p=np.sum(i==y)\n",
    "            sigma+=(p/n_all)**2\n",
    "        return 1-sigma\n",
    "\n",
    "    #情報利得を求める関数\n",
    "    def _ig(self,y_left,y_right):\n",
    "        y=np.concatenate([y_left,y_right])\n",
    "        left=len(y_left)/len(y)*gini(y_left)\n",
    "        left=len(y_left)/len(y)*gini(y_left)\n",
    "        right=len(y_right)/len(y)*gini(y_right)\n",
    "        return gini(y) - left - right\n"
   ]
  },
  {
   "cell_type": "markdown",
   "metadata": {},
   "source": [
    "## 【問題6】指標値の算出"
   ]
  },
  {
   "cell_type": "code",
   "execution_count": 207,
   "metadata": {},
   "outputs": [],
   "source": [
    "model=ScratchDecesionTreeClassifier()"
   ]
  },
  {
   "cell_type": "code",
   "execution_count": 208,
   "metadata": {},
   "outputs": [],
   "source": [
    "from sklearn.model_selection import train_test_split\n",
    "X_train, X_test, y_train, y_test=train_test_split(X, y, test_size=0.25,random_state=99)"
   ]
  },
  {
   "cell_type": "code",
   "execution_count": 209,
   "metadata": {},
   "outputs": [],
   "source": [
    "model.fit(X_train, y_train)"
   ]
  },
  {
   "cell_type": "code",
   "execution_count": 210,
   "metadata": {},
   "outputs": [
    {
     "data": {
      "text/plain": [
       "array([1., 1., 1., 2., 1., 1., 2., 1., 1., 2., 1., 2., 1., 1., 1., 1., 2.,\n",
       "       2., 1., 2., 2., 1., 1., 2., 1.])"
      ]
     },
     "execution_count": 210,
     "metadata": {},
     "output_type": "execute_result"
    }
   ],
   "source": [
    "model.predict(X_test)"
   ]
  },
  {
   "cell_type": "code",
   "execution_count": 211,
   "metadata": {},
   "outputs": [
    {
     "name": "stdout",
     "output_type": "stream",
     "text": [
      "accuracy:  0.96\n",
      "precision:  0.9375\n",
      "recall:  1.0\n",
      "f1_score:  0.967741935483871\n",
      "confusion matrix:\n",
      " [[15  0]\n",
      " [ 1  9]]\n"
     ]
    }
   ],
   "source": [
    "from sklearn.metrics import accuracy_score, precision_score, recall_score, f1_score, confusion_matrix\n",
    "y_pred=model.predict(X_test)\n",
    "accuracy=accuracy_score(y_test, y_pred)\n",
    "precision=precision_score(y_test, y_pred)\n",
    "recall=recall_score(y_test, y_pred)\n",
    "f1=f1_score(y_test, y_pred)\n",
    "con_mat=confusion_matrix(y_test, y_pred)\n",
    "\n",
    "print('accuracy: ', accuracy)\n",
    "print('precision: ', precision)\n",
    "print('recall: ', recall)\n",
    "print('f1_score: ', f1)\n",
    "print('confusion matrix:\\n', con_mat)"
   ]
  },
  {
   "cell_type": "markdown",
   "metadata": {},
   "source": [
    "## 【問題7】決定領域の可視化"
   ]
  },
  {
   "cell_type": "code",
   "execution_count": 212,
   "metadata": {},
   "outputs": [],
   "source": [
    "from matplotlib.colors import ListedColormap\n",
    "import matplotlib.patches as mpatches\n",
    "\n",
    "def DecesionTreeClassifier(X, y, model, step=0.01, title='logistic region', xlabel='petal_length', ylabel='petal_width', target_names=['versicolor', 'virginica']):\n",
    "    \"\"\"\n",
    "    2値分類を2次元の特徴量で学習したモデルの決定領域を描く。\n",
    "    背景の色が学習したモデルによる推定値から描画される。\n",
    "    散布図の点は訓練データまたは検証データである。\n",
    "\n",
    "    Parameters\n",
    "    ----------------\n",
    "    X : ndarray, shape(n_samples, 2)\n",
    "        特徴量\n",
    "    y : ndarray, shape(n_samples,)\n",
    "        ラベル\n",
    "    model : object\n",
    "        学習したモデルのインスンタスを入れる\n",
    "    step : float, (default : 0.1)\n",
    "        推定値を計算する間隔を設定する\n",
    "    title : str\n",
    "        グラフのタイトルの文章を与える\n",
    "    xlabel, ylabel : str\n",
    "        軸ラベルの文章を与える\n",
    "    target_names= : list of str\n",
    "        凡例の一覧を与える\n",
    "    \"\"\"\n",
    "    # setting\n",
    "    scatter_color = ['red', 'blue']\n",
    "    contourf_color = ['pink', 'skyblue']\n",
    "    n_class = 2\n",
    "\n",
    "    # pred\n",
    "    mesh_f0, mesh_f1  = np.meshgrid(np.arange(np.min(X[:,0])-0.5, np.max(X[:,0])+0.5, step), np.arange(np.min(X[:,1])-0.5, np.max(X[:,1])+0.5, step))\n",
    "    mesh = np.c_[np.ravel(mesh_f0),np.ravel(mesh_f1)]\n",
    "    y_pred = model.predict(mesh).reshape(mesh_f0.shape)\n",
    "\n",
    "    # plot\n",
    "    plt.title(title)\n",
    "    plt.xlabel(xlabel)\n",
    "    plt.ylabel(ylabel)\n",
    "    plt.contourf(mesh_f0, mesh_f1, y_pred, n_class-1, cmap=ListedColormap(contourf_color))\n",
    "    plt.contour(mesh_f0, mesh_f1, y_pred, n_class-1, colors='y', linewidths=3, alpha=0.5)\n",
    "    for i, target in enumerate(set(y)):\n",
    "        plt.scatter(X[y==target][:, 0], X[y==target][:, 1], s=80, color=scatter_color[i], label=target_names[i], marker='o')\n",
    "    patches = [mpatches.Patch(color=scatter_color[i], label=target_names[i]) for i in range(n_class)]\n",
    "    plt.legend(handles=patches)\n",
    "    plt.legend()\n",
    "    plt.show()"
   ]
  },
  {
   "cell_type": "code",
   "execution_count": 213,
   "metadata": {},
   "outputs": [
    {
     "data": {
      "image/png": "[encoded data removed]",
      "text/plain": [
       "<Figure size 432x288 with 1 Axes>"
      ]
     },
     "metadata": {
      "needs_background": "light"
     },
     "output_type": "display_data"
    }
   ],
   "source": [
    "DecesionTreeClassifier(X_train,y_train,model)"
   ]
  },
  {
   "cell_type": "markdown",
   "metadata": {},
   "source": [
    "## 【問題8】決定木の利用場面"
   ]
  },
  {
   "cell_type": "markdown",
   "metadata": {
    "slideshow": {
     "slide_type": "-"
    }
   },
   "source": [
    "参考：[決定木分析（ディシジョン・ツリー）](https://www.macromill.com/service/data_analysis/decision-tree.html)"
   ]
  },
  {
   "cell_type": "markdown",
   "metadata": {
    "toc-hr-collapsed": false
   },
   "source": [
    "## 【問題4】（アドバンス課題）深さ2の決定木分類器クラスの作成\n",
    "## 【問題5】（アドバンス課題）任意の深さに対応できる決定木分類器クラスの作成"
   ]
  },
  {
   "cell_type": "code",
   "execution_count": 263,
   "metadata": {},
   "outputs": [
    {
     "ename": "SyntaxError",
     "evalue": "invalid syntax (<ipython-input-263-00ffea190fc7>, line 39)",
     "output_type": "error",
     "traceback": [
      "\u001b[0;36m  File \u001b[0;32m\"<ipython-input-263-00ffea190fc7>\"\u001b[0;36m, line \u001b[0;32m39\u001b[0m\n\u001b[0;31m    if\u001b[0m\n\u001b[0m       ^\u001b[0m\n\u001b[0;31mSyntaxError\u001b[0m\u001b[0;31m:\u001b[0m invalid syntax\n"
     ]
    }
   ],
   "source": [
    "class ScratchDecesionTreeClassifier2():\n",
    "    \"\"\"\n",
    "    深さがnの決定機分類器のクラスを作成\n",
    "    \"\"\"\n",
    "    def __init__(self, depth=2):\n",
    "        self.depth=depth\n",
    "        \n",
    "    def fit(self,X,y):\n",
    "        judg_array = np.ones(self.depth)#各層による判断回数配列を用意\n",
    "        for i in range(self.depth-1):#2層目から配列格納\n",
    "            judg_array[i+1]=judg_array[i]*2\n",
    "        judg_num=int(judg_array.sum())\n",
    "        \n",
    "        #判断回数分の閾値を探しに行く\n",
    "        for i in range(judg_num):\n",
    "            if i==0:\n",
    "                self._threshold_search(X,y)\n",
    "            else:\n",
    "                self._threshold_search(self.L_X,self.L_y)\n",
    "                self._threshold_search(self.R_X,self.R_y)\n",
    "        \n",
    "    def _threshold_search(self,X,y):\n",
    "        self.Threshold=0 #閾値定義\n",
    "        self.max_ig=0 #情報利得の最大値探索\n",
    "        \n",
    "        for i in range(len(X)):\n",
    "            for j in range(X.shape[1]):\n",
    "                y_left, y_right = y[X[:,j]>=X[i,j]], y[X[:,j]<X[i,j]]\n",
    "                X_left, X_right = X[X[:,j]>=x[i,j]], X[X[:,j]<X[i,j]]\n",
    "                \n",
    "                #情報利得の最大値探索\n",
    "                new_ig=self._ig(y_left,y_right)\n",
    "                if self.max_ig<=new_ig:\n",
    "                    self.max_ig=new_ig#情報利得更新\n",
    "                    self.Threshold=X[i,j]#閾値更新\n",
    "                    self.left_label=stats.mode(y_left)[0][0]\n",
    "                    self.right_label=stats.mode(y_right)[0][0]\n",
    "                    self.feature=j\n",
    "                    self.L_X,self.L_y=X_left, y_left\n",
    "                    self.R_X,self.R_y=X_right, y_right\n",
    "                    \n",
    "    def predict(self,X):\n",
    "        y_pred=np.zeros(X.shape[0])\n",
    "        for i in range(X.shape[0]):\n",
    "            if X[i,self.feature] >= self.Threshold:\n",
    "                y_pred[i]=self.left_label\n",
    "            else:\n",
    "                y_pred[i]=self.right_label   \n",
    "        return y_pred\n",
    "             \n",
    "    #ジニ不純度を求める関数\n",
    "    def _gini(self,y):\n",
    "        class_=np.unique(y)#ターゲット変数の固有値\n",
    "        n_all=len(y)#サンプル数\n",
    "        sigma=0\n",
    "        for i in class_:\n",
    "            p=np.sum(i==y)\n",
    "            sigma+=(p/n_all)**2\n",
    "        return 1-sigma\n",
    "\n",
    "    #情報利得を求める関数\n",
    "    def _ig(self,y_left,y_right):\n",
    "        y=np.concatenate([y_left,y_right])\n",
    "        left=len(y_left)/len(y)*gini(y_left)\n",
    "        left=len(y_left)/len(y)*gini(y_left)\n",
    "        right=len(y_right)/len(y)*gini(y_right)\n",
    "        return gini(y) - left - right\n"
   ]
  },
  {
   "cell_type": "code",
   "execution_count": 264,
   "metadata": {},
   "outputs": [],
   "source": [
    "model2=ScratchDecesionTreeClassifier2(2)"
   ]
  },
  {
   "cell_type": "code",
   "execution_count": 265,
   "metadata": {},
   "outputs": [
    {
     "ename": "NameError",
     "evalue": "name 'x' is not defined",
     "output_type": "error",
     "traceback": [
      "\u001b[0;31m---------------------------------------------------------------------------\u001b[0m",
      "\u001b[0;31mNameError\u001b[0m                                 Traceback (most recent call last)",
      "\u001b[0;32m<ipython-input-265-a0f42c500d02>\u001b[0m in \u001b[0;36m<module>\u001b[0;34m\u001b[0m\n\u001b[0;32m----> 1\u001b[0;31m \u001b[0mmodel2\u001b[0m\u001b[0;34m.\u001b[0m\u001b[0mfit\u001b[0m\u001b[0;34m(\u001b[0m\u001b[0mX_train\u001b[0m\u001b[0;34m,\u001b[0m \u001b[0my_train\u001b[0m\u001b[0;34m)\u001b[0m\u001b[0;34m\u001b[0m\u001b[0;34m\u001b[0m\u001b[0m\n\u001b[0m",
      "\u001b[0;32m<ipython-input-260-e7955789b299>\u001b[0m in \u001b[0;36mfit\u001b[0;34m(self, X, y)\u001b[0m\n\u001b[1;32m     15\u001b[0m         \u001b[0;32mfor\u001b[0m \u001b[0mi\u001b[0m \u001b[0;32min\u001b[0m \u001b[0mrange\u001b[0m\u001b[0;34m(\u001b[0m\u001b[0mjudg_num\u001b[0m\u001b[0;34m)\u001b[0m\u001b[0;34m:\u001b[0m\u001b[0;34m\u001b[0m\u001b[0;34m\u001b[0m\u001b[0m\n\u001b[1;32m     16\u001b[0m             \u001b[0;32mif\u001b[0m \u001b[0mi\u001b[0m\u001b[0;34m==\u001b[0m\u001b[0;36m0\u001b[0m\u001b[0;34m:\u001b[0m\u001b[0;34m\u001b[0m\u001b[0;34m\u001b[0m\u001b[0m\n\u001b[0;32m---> 17\u001b[0;31m                 \u001b[0mself\u001b[0m\u001b[0;34m.\u001b[0m\u001b[0m_threshold_search\u001b[0m\u001b[0;34m(\u001b[0m\u001b[0mX\u001b[0m\u001b[0;34m,\u001b[0m\u001b[0my\u001b[0m\u001b[0;34m)\u001b[0m\u001b[0;34m\u001b[0m\u001b[0;34m\u001b[0m\u001b[0m\n\u001b[0m\u001b[1;32m     18\u001b[0m             \u001b[0;32melse\u001b[0m\u001b[0;34m:\u001b[0m\u001b[0;34m\u001b[0m\u001b[0;34m\u001b[0m\u001b[0m\n\u001b[1;32m     19\u001b[0m                 \u001b[0mself\u001b[0m\u001b[0;34m.\u001b[0m\u001b[0m_threshold_search\u001b[0m\u001b[0;34m(\u001b[0m\u001b[0mself\u001b[0m\u001b[0;34m.\u001b[0m\u001b[0mL_X\u001b[0m\u001b[0;34m,\u001b[0m\u001b[0mself\u001b[0m\u001b[0;34m.\u001b[0m\u001b[0mL_y\u001b[0m\u001b[0;34m)\u001b[0m\u001b[0;34m\u001b[0m\u001b[0;34m\u001b[0m\u001b[0m\n",
      "\u001b[0;32m<ipython-input-260-e7955789b299>\u001b[0m in \u001b[0;36m_threshold_search\u001b[0;34m(self, X, y)\u001b[0m\n\u001b[1;32m     27\u001b[0m             \u001b[0;32mfor\u001b[0m \u001b[0mj\u001b[0m \u001b[0;32min\u001b[0m \u001b[0mrange\u001b[0m\u001b[0;34m(\u001b[0m\u001b[0mX\u001b[0m\u001b[0;34m.\u001b[0m\u001b[0mshape\u001b[0m\u001b[0;34m[\u001b[0m\u001b[0;36m1\u001b[0m\u001b[0;34m]\u001b[0m\u001b[0;34m)\u001b[0m\u001b[0;34m:\u001b[0m\u001b[0;34m\u001b[0m\u001b[0;34m\u001b[0m\u001b[0m\n\u001b[1;32m     28\u001b[0m                 \u001b[0my_left\u001b[0m\u001b[0;34m,\u001b[0m \u001b[0my_right\u001b[0m \u001b[0;34m=\u001b[0m \u001b[0my\u001b[0m\u001b[0;34m[\u001b[0m\u001b[0mX\u001b[0m\u001b[0;34m[\u001b[0m\u001b[0;34m:\u001b[0m\u001b[0;34m,\u001b[0m\u001b[0mj\u001b[0m\u001b[0;34m]\u001b[0m\u001b[0;34m>=\u001b[0m\u001b[0mX\u001b[0m\u001b[0;34m[\u001b[0m\u001b[0mi\u001b[0m\u001b[0;34m,\u001b[0m\u001b[0mj\u001b[0m\u001b[0;34m]\u001b[0m\u001b[0;34m]\u001b[0m\u001b[0;34m,\u001b[0m \u001b[0my\u001b[0m\u001b[0;34m[\u001b[0m\u001b[0mX\u001b[0m\u001b[0;34m[\u001b[0m\u001b[0;34m:\u001b[0m\u001b[0;34m,\u001b[0m\u001b[0mj\u001b[0m\u001b[0;34m]\u001b[0m\u001b[0;34m<\u001b[0m\u001b[0mX\u001b[0m\u001b[0;34m[\u001b[0m\u001b[0mi\u001b[0m\u001b[0;34m,\u001b[0m\u001b[0mj\u001b[0m\u001b[0;34m]\u001b[0m\u001b[0;34m]\u001b[0m\u001b[0;34m\u001b[0m\u001b[0;34m\u001b[0m\u001b[0m\n\u001b[0;32m---> 29\u001b[0;31m                 \u001b[0mX_left\u001b[0m\u001b[0;34m,\u001b[0m \u001b[0mX_right\u001b[0m \u001b[0;34m=\u001b[0m \u001b[0mX\u001b[0m\u001b[0;34m[\u001b[0m\u001b[0mX\u001b[0m\u001b[0;34m[\u001b[0m\u001b[0;34m:\u001b[0m\u001b[0;34m,\u001b[0m\u001b[0mj\u001b[0m\u001b[0;34m]\u001b[0m\u001b[0;34m>=\u001b[0m\u001b[0mx\u001b[0m\u001b[0;34m[\u001b[0m\u001b[0mi\u001b[0m\u001b[0;34m,\u001b[0m\u001b[0mj\u001b[0m\u001b[0;34m]\u001b[0m\u001b[0;34m]\u001b[0m\u001b[0;34m,\u001b[0m \u001b[0mX\u001b[0m\u001b[0;34m[\u001b[0m\u001b[0mX\u001b[0m\u001b[0;34m[\u001b[0m\u001b[0;34m:\u001b[0m\u001b[0;34m,\u001b[0m\u001b[0mj\u001b[0m\u001b[0;34m]\u001b[0m\u001b[0;34m<\u001b[0m\u001b[0mX\u001b[0m\u001b[0;34m[\u001b[0m\u001b[0mi\u001b[0m\u001b[0;34m,\u001b[0m\u001b[0mj\u001b[0m\u001b[0;34m]\u001b[0m\u001b[0;34m]\u001b[0m\u001b[0;34m\u001b[0m\u001b[0;34m\u001b[0m\u001b[0m\n\u001b[0m\u001b[1;32m     30\u001b[0m \u001b[0;34m\u001b[0m\u001b[0m\n\u001b[1;32m     31\u001b[0m                 \u001b[0;31m#情報利得の最大値探索\u001b[0m\u001b[0;34m\u001b[0m\u001b[0;34m\u001b[0m\u001b[0;34m\u001b[0m\u001b[0m\n",
      "\u001b[0;31mNameError\u001b[0m: name 'x' is not defined"
     ]
    }
   ],
   "source": [
    "model2.fit(X_train, y_train)"
   ]
  }
 ],
 "metadata": {
  "kernelspec": {
   "display_name": "Python 3",
   "language": "python",
   "name": "python3"
  },
  "language_info": {
   "codemirror_mode": {
    "name": "ipython",
    "version": 3
   },
   "file_extension": ".py",
   "mimetype": "text/x-python",
   "name": "python",
   "nbconvert_exporter": "python",
   "pygments_lexer": "ipython3",
   "version": "3.7.3"
  },
  "toc-autonumbering": true,
  "toc-showcode": false,
  "toc-showmarkdowntxt": false
 },
 "nbformat": 4,
 "nbformat_minor": 2
}
