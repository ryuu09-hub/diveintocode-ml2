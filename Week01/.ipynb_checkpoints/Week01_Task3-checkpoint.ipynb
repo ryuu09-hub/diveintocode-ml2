{
 "cells": [
  {
   "cell_type": "markdown",
   "metadata": {},
   "source": [
    "# 何回折ったら富士山を超えるか問題\n",
    "Pythonを使ってみよう」の問題では「1枚の紙を43回折り曲げた時の厚さを計算するプログラム」を作成し、43回折ることで月に届くことが確認できました。\n",
    "\n",
    "ここで「何回折ったらある厚さになるのか」という疑問が生まれます。こういったことを計算するプログラムを作成していきましょう。"
   ]
  },
  {
   "cell_type": "markdown",
   "metadata": {},
   "source": [
    "紙を折った時の厚さの数式\n",
    "授業前課題と同様ですが確認しておきます。\n",
    "\n",
    "n回折った紙の厚さ $t_n$は以下のように表せます。\n",
    "$$\n",
    "t_n=t_0×2^n\n",
    "$$\n",
    "折る前の紙の厚さ $t_0$は0.00008mとします。一般的なコピー用紙の厚さです。"
   ]
  },
  {
   "cell_type": "markdown",
   "metadata": {},
   "source": [
    "### 富士山の高さ = 3,776 m"
   ]
  },
  {
   "cell_type": "markdown",
   "metadata": {},
   "source": [
    "## 【問題1】富士山を超える最小の折る回数\n",
    "厚さが「富士山(3776m)」を超えるのは何回紙を折った時か計算するプログラムを作成してください。"
   ]
  },
  {
   "cell_type": "code",
   "execution_count": 3,
   "metadata": {},
   "outputs": [
    {
     "name": "stdout",
     "output_type": "stream",
     "text": [
      "紙を26回折ると富士山を超えます\n"
     ]
    }
   ],
   "source": [
    "\"\"\"\n",
    "富士山を超える最小の折る回数\n",
    "\"\"\"\n",
    "#紙の厚さ定義\n",
    "THICKNESS = 0.00008\n",
    "folded_thickness = THICKNESS\n",
    "folder_num = 0\n",
    "\n",
    "#折った紙の厚さが富士山の高さ（３７７６m）より小さい間繰り返す\n",
    "while folded_thickness < 3776:\n",
    "    folded_thickness *= 2\n",
    "    folder_num += 1 #折る回数\n",
    "\n",
    "print(\"紙を{}回折ると富士山を超えます\".format(folder_num))"
   ]
  },
  {
   "cell_type": "markdown",
   "metadata": {},
   "source": [
    "##  【問題2】任意の厚さに対応した関数を作成\n",
    "距離を入力すると、何回折った時に超えるかを出力する関数を作成してください。引数として、折る前の厚さ \n",
    "$t_0$\n",
    " も設定できるようにしましょう。\n",
    "\n",
    "この関数を利用して、「最も近い太陽以外の恒星」に到達するには紙を何回折る必要があるか計算してください。「最も近い太陽以外の恒星」の距離は調査してください。"
   ]
  },
  {
   "cell_type": "markdown",
   "metadata": {},
   "source": [
    "### プロキシマケンタウリまでの距離=4.243光年=4.01419e+16m"
   ]
  },
  {
   "cell_type": "code",
   "execution_count": 11,
   "metadata": {},
   "outputs": [
    {
     "name": "stdout",
     "output_type": "stream",
     "text": [
      "紙を69回折るとプロキシマケンタウリを超えます\n"
     ]
    }
   ],
   "source": [
    "\"\"\"\n",
    "距離を入力すると、何回折った時に超えるかを出力する関数を作成\n",
    "\"\"\"\n",
    "def compute_folded_thickness(t_0, distance = 100):\n",
    "    folder_num = 0\n",
    "    folded_thickness = t_0\n",
    "    while folded_thickness < distance:\n",
    "        folded_thickness *=2\n",
    "        folder_num += 1\n",
    "    return folder_num\n",
    "\n",
    "print(\"紙を{}回折るとプロキシマケンタウリを超えます\".format(compute_folded_thickness(0.0001, 4.01419e+16)))\n"
   ]
  },
  {
   "cell_type": "markdown",
   "metadata": {},
   "source": [
    "## 【問題3】必要な紙の長さ"
   ]
  },
  {
   "cell_type": "markdown",
   "metadata": {},
   "source": [
    "実際のところ身近にある紙は43回はおろか10回も折れません。しかし、大きな紙ほどたくさん折ることができ、トイレットペーパーのような長い紙を一方向に折ることを考えた時の折れる回数を求める公式が存在します。\n",
    "\n",
    "厚さ $t_0$の紙をn回折るために必要な紙の長さLは以下の公式で求まります。\n",
    "$$\n",
    "L=\\frac{πt_0}{6}(2^n+4)(2^n-1)\n",
    "$$\n",
    "この公式を利用して、実際に紙を折り任意の厚さに到達するために必要な紙の長さを求める関数を作成してください。\n",
    "\n",
    "そしてこれを使って「月」「富士山」「最も近い太陽以外の恒星」に届くために必要な紙の長さを求めてください。"
   ]
  },
  {
   "cell_type": "code",
   "execution_count": 34,
   "metadata": {},
   "outputs": [],
   "source": [
    "import numpy as np\n",
    "\n",
    "def compute_paper_length(t_0, object):\n",
    "    #紙の長さを割り出す公式\n",
    "    paper_length = ((np.pi * t_0)/ 6) *(((2**object + 4)*(2**object - 1)))\n",
    "    return paper_length\n"
   ]
  },
  {
   "cell_type": "code",
   "execution_count": 36,
   "metadata": {},
   "outputs": [
    {
     "name": "stdout",
     "output_type": "stream",
     "text": [
      "月を越えるのに必要な紙の長さは3.240919444170781e+21mです\n",
      "富士山を越えるのに必要な紙の長さは188646348487.24017mです\n",
      "プロキシマケンタウリを越えるのに必要な紙の長さは1.4595803601100348e+37mです\n"
     ]
    }
   ],
   "source": [
    "#紙を折る必要回数\n",
    "moon = 43 #月\n",
    "m_huzi = 26 #富士山\n",
    "prokishima = 69 #プロキシマケンタウリ\n",
    "\n",
    "# 月\n",
    "print(\"月を越えるのに必要な紙の長さは{}mです\".format(compute_paper_length(0.00008, moon)))\n",
    "\n",
    "#富士山\n",
    "print(\"富士山を越えるのに必要な紙の長さは{}mです\".format(compute_paper_length(0.00008, m_huzi)))\n",
    "\n",
    "#プロキシマケンタウリ\n",
    "print(\"プロキシマケンタウリを越えるのに必要な紙の長さは{}mです\".format(compute_paper_length(0.00008, prokishima)))\n"
   ]
  }
 ],
 "metadata": {
  "kernelspec": {
   "display_name": "Python 3",
   "language": "python",
   "name": "python3"
  },
  "language_info": {
   "codemirror_mode": {
    "name": "ipython",
    "version": 3
   },
   "file_extension": ".py",
   "mimetype": "text/x-python",
   "name": "python",
   "nbconvert_exporter": "python",
   "pygments_lexer": "ipython3",
   "version": "3.7.3"
  }
 },
 "nbformat": 4,
 "nbformat_minor": 2
}
