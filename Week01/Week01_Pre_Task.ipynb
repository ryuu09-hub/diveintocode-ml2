{
 "cells": [
  {
   "cell_type": "markdown",
   "metadata": {},
   "source": [
    "# 課題1:Pythonを使ってみよう\n",
    "\n",
    "テキストの目的\n",
    "- 基礎的なプログラミング力を確認する\n",
    "- プログラミングを何かしらの問題に対して適用してみる\n",
    "- 随時調査しながら進められるようにする\n",
    "\n",
    "## 【コーディング課題】紙を折る\n",
    "\n",
    "紙を折り続けると厚さが増していき、43回で月に届くという話があります。しかし、実際には10回も折ることができません。また、手計算も大変です。\n",
    "\n",
    "そこで今回の課題では 1枚の紙を43回折り曲げた時の厚さを計算するプログラム を作成します。\n"
   ]
  },
  {
   "cell_type": "markdown",
   "metadata": {},
   "source": [
    "43回折った紙の厚さ $t_{43}$は、折る前の紙の厚さ $t_0$を使い以下の数式で求まります。\n",
    "$$\n",
    "t_{43}=t_0×2^{43}\n",
    "$$\n",
    "\n",
    "折る前の紙の厚さ $t_0$は0.00008mとします。一般的なコピー用紙の厚さです。"
   ]
  },
  {
   "cell_type": "markdown",
   "metadata": {},
   "source": [
    "## 【問題1】べき乗の算術演算子を使用して作成"
   ]
  },
  {
   "cell_type": "code",
   "execution_count": 1,
   "metadata": {},
   "outputs": [
    {
     "name": "stdout",
     "output_type": "stream",
     "text": [
      "厚さ： 703687441.77664メートル\n"
     ]
    }
   ],
   "source": [
    "\"\"\"\n",
    "紙を1回折った時の厚さを計算するコード\n",
    "\"\"\"\n",
    "\n",
    "THICKNESS = 0.00008\n",
    "\n",
    "folded_thickness = THICKNESS*2**43\n",
    "\n",
    "print(\"厚さ： {}メートル\".format(folded_thickness))"
   ]
  },
  {
   "cell_type": "markdown",
   "metadata": {},
   "source": [
    "## 【問題2】単位の変換\n"
   ]
  },
  {
   "cell_type": "code",
   "execution_count": 2,
   "metadata": {},
   "outputs": [
    {
     "name": "stdout",
     "output_type": "stream",
     "text": [
      "厚さ： 70.37万キロメートル\n"
     ]
    }
   ],
   "source": [
    "# メートルをキロメートルに変換して小数点以下2桁で表示する\n",
    "print(\"厚さ： {:.2f}万キロメートル\".format(folded_thickness/10000000))"
   ]
  },
  {
   "cell_type": "markdown",
   "metadata": {},
   "source": [
    "## 【問題3】for文を使用して作成\n"
   ]
  },
  {
   "cell_type": "code",
   "execution_count": 7,
   "metadata": {},
   "outputs": [
    {
     "name": "stdout",
     "output_type": "stream",
     "text": [
      "厚さ70.37万キロメートル\n"
     ]
    }
   ],
   "source": [
    "folded_thickness_2 = THICKNESS #for文用変数結果の定義\n",
    "\n",
    "for i in range(43): #43回２をかける\n",
    "    folded_thickness_2 *= 2\n",
    "\n",
    "print(\"厚さ{:.2f}万キロメートル\".format(folded_thickness_2/10000000))\n"
   ]
  },
  {
   "cell_type": "markdown",
   "metadata": {},
   "source": [
    "**→【結果】月までの距離=38.44万km、到達可能**"
   ]
  },
  {
   "cell_type": "markdown",
   "metadata": {},
   "source": [
    "## 【問題4】計算時間の比較\n"
   ]
  },
  {
   "cell_type": "code",
   "execution_count": 8,
   "metadata": {},
   "outputs": [
    {
     "name": "stdout",
     "output_type": "stream",
     "text": [
      "厚さ： 70.37万キロメートル\n",
      "time : 0.0002579689025878906[s]\n"
     ]
    }
   ],
   "source": [
    "##べき乗計算時間\n",
    "import time\n",
    "start = time.time()\n",
    "\n",
    "folded_thickness = THICKNESS*2**43\n",
    "print(\"厚さ： {:.2f}万キロメートル\".format(folded_thickness/10000000))\n",
    "\n",
    "elapsed_time = time.time() - start\n",
    "print(\"time : {}[s]\".format(elapsed_time))"
   ]
  },
  {
   "cell_type": "code",
   "execution_count": 11,
   "metadata": {},
   "outputs": [
    {
     "name": "stdout",
     "output_type": "stream",
     "text": [
      "厚さ70.37万キロメートル\n",
      "time : 0.00039696693420410156[s]\n"
     ]
    }
   ],
   "source": [
    "##for文処理時間\n",
    "import time\n",
    "start = time.time()\n",
    "\n",
    "folded_thickness_2 = THICKNESS \n",
    "\n",
    "for i in range(43): \n",
    "    folded_thickness_2 *= 2\n",
    "\n",
    "print(\"厚さ{:.2f}万キロメートル\".format(folded_thickness_2/10000000))\n",
    "\n",
    "elapsed_time = time.time() - start\n",
    "print(\"time : {}[s]\".format(elapsed_time))"
   ]
  },
  {
   "cell_type": "markdown",
   "metadata": {},
   "source": [
    "**→【結果】べき乗計算の方が早い**"
   ]
  },
  {
   "cell_type": "markdown",
   "metadata": {},
   "source": [
    "## 【問題5】リストへの保存"
   ]
  },
  {
   "cell_type": "code",
   "execution_count": 4,
   "metadata": {},
   "outputs": [
    {
     "name": "stdout",
     "output_type": "stream",
     "text": [
      "格納データ数: 44 個\n",
      "[8e-05, 0.00016, 0.00032, 0.00064, 0.00128, 0.00256, 0.00512, 0.01024, 0.02048, 0.04096, 0.08192, 0.16384, 0.32768, 0.65536, 1.31072, 2.62144, 5.24288, 10.48576, 20.97152, 41.94304, 83.88608, 167.77216, 335.54432, 671.08864, 1342.17728, 2684.35456, 5368.70912, 10737.41824, 21474.83648, 42949.67296, 85899.34592, 171798.69184, 343597.38368, 687194.76736, 1374389.53472, 2748779.06944, 5497558.13888, 10995116.27776, 21990232.55552, 43980465.11104, 87960930.22208, 175921860.44416, 351843720.88832, 703687441.77664]\n"
     ]
    }
   ],
   "source": [
    "THICKNESS = 0.00008\n",
    "folded_thickness_2 = THICKNESS \n",
    "progress_thickness_2 =[THICKNESS]#紙の厚さの軌跡リスト作成\n",
    "\n",
    "for i in range(43): #折る毎の紙の厚さのデータ格納＊４３回\n",
    "    folded_thickness_2 *= 2\n",
    "    progress_thickness_2.append(folded_thickness_2)\n",
    "    \n",
    "print(\"格納データ数:\",len(progress_thickness_2),\"個\")\n",
    "print(progress_thickness_2)\n"
   ]
  },
  {
   "cell_type": "markdown",
   "metadata": {},
   "source": [
    "## 問題6】折れ線グラフの表示"
   ]
  },
  {
   "cell_type": "code",
   "execution_count": 6,
   "metadata": {},
   "outputs": [
    {
     "data": {
      "image/png": "[encoded data removed]",
      "text/plain": [
       "<Figure size 432x288 with 1 Axes>"
      ]
     },
     "metadata": {
      "needs_background": "light"
     },
     "output_type": "display_data"
    }
   ],
   "source": [
    "\"\"\"\n",
    "グラフを表示する。タイトルと軸ラベル名付き。\n",
    "\"\"\"\n",
    "import matplotlib.pyplot as plt\n",
    "%matplotlib inline\n",
    "\n",
    "plt.title(\"thickness of folded paper\")\n",
    "plt.xlabel(\"number of folds[回]\")\n",
    "plt.ylabel(\"hundred thousand thickness[km]\")\n",
    "plt.plot(progress_thickness_2) \n",
    "plt.show()"
   ]
  },
  {
   "cell_type": "markdown",
   "metadata": {},
   "source": [
    "**【考察】**\n",
    "グラフの変化は、X軸の値が40回を超えたあたりからY軸の紙の厚さは急増した。\n",
    "因みに、格納データから宇宙までの距離は約100kmは32回で到達可能だと解った。"
   ]
  },
  {
   "cell_type": "markdown",
   "metadata": {},
   "source": [
    "## 【問題7】グラフのカスタマイズ"
   ]
  },
  {
   "cell_type": "markdown",
   "metadata": {},
   "source": [
    "## ⑴ 線の色を変えてみる"
   ]
  },
  {
   "cell_type": "code",
   "execution_count": 7,
   "metadata": {},
   "outputs": [
    {
     "data": {
      "image/png": "[encoded data removed]",
      "text/plain": [
       "<Figure size 432x288 with 1 Axes>"
      ]
     },
     "metadata": {
      "needs_background": "light"
     },
     "output_type": "display_data"
    }
   ],
   "source": [
    "import matplotlib.pyplot as plt\n",
    "%matplotlib inline\n",
    "plt.title(\"thickness of folded paper\")\n",
    "plt.xlabel(\"number of folds\")\n",
    "plt.ylabel(\"thickness[m]\")\n",
    "\n",
    "#線の色を緑色に変更\n",
    "plt.plot(progress_thickness_2,color=\"g\") \n",
    "plt.show()"
   ]
  },
  {
   "cell_type": "markdown",
   "metadata": {},
   "source": [
    "## ⑵ グリッドを表示してみる"
   ]
  },
  {
   "cell_type": "code",
   "execution_count": 10,
   "metadata": {},
   "outputs": [
    {
     "data": {
      "image/png": "[encoded data removed]",
      "text/plain": [
       "<Figure size 432x288 with 1 Axes>"
      ]
     },
     "metadata": {
      "needs_background": "light"
     },
     "output_type": "display_data"
    }
   ],
   "source": [
    "plt.title(\"thickness of folded paper\")\n",
    "plt.xlabel(\"number of folds\")\n",
    "plt.ylabel(\"thickness[m]\")\n",
    "\n",
    "plt.grid(True)#グリッド表示\n",
    "plt.plot(progress_thickness_2,color=\"g\") \n",
    "plt.show()"
   ]
  },
  {
   "cell_type": "markdown",
   "metadata": {},
   "source": [
    "## ⑶ スタイルを太い点線にしてみる"
   ]
  },
  {
   "cell_type": "code",
   "execution_count": 11,
   "metadata": {},
   "outputs": [
    {
     "data": {
      "image/png": "[encoded data removed]",
      "text/plain": [
       "<Figure size 432x288 with 1 Axes>"
      ]
     },
     "metadata": {
      "needs_background": "light"
     },
     "output_type": "display_data"
    }
   ],
   "source": [
    "plt.title(\"thickness of folded paper\",fontsize = 20)#サイズ変更\n",
    "plt.xlabel(\"number of folds\",size = 14)#サイズ変更\n",
    "plt.ylabel(\"thickness[m]\",size = 14)#サイズ変更\n",
    "\n",
    "plt.grid(True)#グリッド表示\n",
    "\n",
    "#線の色を緑色に、線幅を４に、スタイルを点線に変更\n",
    "plt.plot(progress_thickness_2,color=\"g\",linewidth=4,linestyle=\"dashed\") \n",
    "plt.show()"
   ]
  },
  {
   "cell_type": "code",
   "execution_count": null,
   "metadata": {},
   "outputs": [],
   "source": []
  }
 ],
 "metadata": {
  "kernelspec": {
   "display_name": "Python 3",
   "language": "python",
   "name": "python3"
  },
  "language_info": {
   "codemirror_mode": {
    "name": "ipython",
    "version": 3
   },
   "file_extension": ".py",
   "mimetype": "text/x-python",
   "name": "python",
   "nbconvert_exporter": "python",
   "pygments_lexer": "ipython3",
   "version": "3.7.3"
  }
 },
 "nbformat": 4,
 "nbformat_minor": 2
}
