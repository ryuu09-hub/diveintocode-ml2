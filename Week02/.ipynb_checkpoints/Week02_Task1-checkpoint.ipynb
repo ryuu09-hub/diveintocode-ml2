{
 "cells": [
  {
   "cell_type": "markdown",
   "metadata": {},
   "source": [
    "# 二次元配列と勾配問題\n",
    "機械学習においては関数の最小値を見つけることが重要になってきます。そのために使われるのが勾配降下法です。\n",
    "\n",
    "この課題では勾配降下法を理解する準備として、NumPyを用いて関数の勾配を考えていきます。"
   ]
  },
  {
   "cell_type": "code",
   "execution_count": 1,
   "metadata": {},
   "outputs": [],
   "source": [
    "import numpy as np\n",
    "import matplotlib.pyplot as plt\n",
    "%matplotlib inline"
   ]
  },
  {
   "cell_type": "markdown",
   "metadata": {},
   "source": [
    "## 【問題1】1次関数\n",
    "x\n",
    " が-50から50の範囲で次の式を考えます。\n",
    " \n",
    "y\n",
    "=\n",
    "1/\n",
    "2\n",
    "x\n",
    "+\n",
    "1-50から50まで0.1間隔のxを表すndarrayと、各要素に対するyを表すndarrayを作成してください。"
   ]
  },
  {
   "cell_type": "code",
   "execution_count": 2,
   "metadata": {},
   "outputs": [],
   "source": [
    "x=np.arange(-50, 50+0.1, 0.1)"
   ]
  },
  {
   "cell_type": "code",
   "execution_count": 3,
   "metadata": {},
   "outputs": [],
   "source": [
    "#func関数の作成\n",
    "def func(x):\n",
    "    y=(1/2)*x+1\n",
    "    return y"
   ]
  },
  {
   "cell_type": "code",
   "execution_count": 4,
   "metadata": {},
   "outputs": [
    {
     "data": {
      "text/plain": [
       "array([-24.  , -23.95, -23.9 , ...,  25.9 ,  25.95,  26.  ])"
      ]
     },
     "execution_count": 4,
     "metadata": {},
     "output_type": "execute_result"
    }
   ],
   "source": [
    "#テスト\n",
    "y=func(x)\n",
    "y"
   ]
  },
  {
   "cell_type": "markdown",
   "metadata": {},
   "source": [
    "## 【問題2】配列の結合\n",
    "問題1で作成したndarrayを結合し、(1001, 2)の形の配列にしてください。0列目にx、1列目にyが来るようにします。"
   ]
  },
  {
   "cell_type": "code",
   "execution_count": 5,
   "metadata": {},
   "outputs": [
    {
     "data": {
      "text/plain": [
       "(1001, 2)"
      ]
     },
     "execution_count": 5,
     "metadata": {},
     "output_type": "execute_result"
    }
   ],
   "source": [
    "xy = np.vstack((x, y)).T\n",
    "xy.shape #(1001, 2)に転置させる"
   ]
  },
  {
   "cell_type": "markdown",
   "metadata": {},
   "source": [
    "# 【問題3】勾配を求める\n",
    "各x座標における勾配を求めます。ここで勾配はyの変化量をxの変化量で割ることで計算します。\n",
    "\n",
    "$$\n",
    "勾配 = \\frac{dy}{dx}\n",
    "$$\n",
    "\n",
    "厳密に各点における勾配を求めるには極限（微分）を利用する必要があります\n",
    "勾配はx座標の間隔を使うので、xの要素数に対して一つ少なくなります"
   ]
  },
  {
   "cell_type": "code",
   "execution_count": 30,
   "metadata": {},
   "outputs": [],
   "source": [
    "dx=x[1:]-x[:-1] #インデックス1より後ろの配列　- 一番最後の要素の１つ前までの配列\n",
    "dy=y[1:]-y[:-1] #同上\n",
    "grad=dy/dx"
   ]
  },
  {
   "cell_type": "markdown",
   "metadata": {},
   "source": [
    "## 【問題4】グラフを描く\n",
    "1次関数のグラフをMatplotlibを用いて描いてください。また、それとは別に横軸をx、縦軸を勾配としたグラフも描いてください。\n",
    "\n",
    "[matplotlib.pyplot.plot — Matplotlib 3.1.0 documentation](https://matplotlib.org/3.1.0/api/_as_gen/matplotlib.pyplot.plot.html)"
   ]
  },
  {
   "cell_type": "code",
   "execution_count": 7,
   "metadata": {},
   "outputs": [
    {
     "data": {
      "image/png": "[encoded data removed]",
      "text/plain": [
       "<Figure size 432x288 with 1 Axes>"
      ]
     },
     "metadata": {
      "needs_background": "light"
     },
     "output_type": "display_data"
    }
   ],
   "source": [
    "#shapeを合わせる\n",
    "gradplus=np.append(grad, 0.5)\n",
    "#y=1/2x+1\n",
    "plt.plot(x,y,label=\"y=1/2x+1\")\n",
    "#grad\n",
    "plt.plot(x,gradplus, label=\"grad\")\n",
    "plt.legend()\n",
    "plt.title(\"y=1/2x+1\")\n",
    "plt.xlabel(\"x\")\n",
    "plt.ylabel(\"y\")\n",
    "plt.show()"
   ]
  },
  {
   "cell_type": "markdown",
   "metadata": {},
   "source": [
    "## 【問題5】Pythonの関数化"
   ]
  },
  {
   "cell_type": "code",
   "execution_count": 58,
   "metadata": {},
   "outputs": [],
   "source": [
    "def compute_gradient(f,x=np.arange(-50, 50.1, 0.1)):\n",
    "    y=f(x)\n",
    "   \n",
    "    dx=x[1:]-x[:-1]\n",
    "    dy=y[1:]-y[:-1]\n",
    "    grad=dy/dx\n",
    "    \n",
    "    xy=np.vstack((x,y)).T\n",
    "    \n",
    "    return y,grad,xy"
   ]
  },
  {
   "cell_type": "markdown",
   "metadata": {},
   "source": [
    "$y=x^2(-50=< x =<50)$"
   ]
  },
  {
   "cell_type": "code",
   "execution_count": 59,
   "metadata": {},
   "outputs": [],
   "source": [
    "def func_1(x):\n",
    "    y=x**2\n",
    "    return y"
   ]
  },
  {
   "cell_type": "markdown",
   "metadata": {},
   "source": [
    "$y=2x^2+2^x  (-50=< x =<50)$"
   ]
  },
  {
   "cell_type": "code",
   "execution_count": 60,
   "metadata": {},
   "outputs": [],
   "source": [
    "def func_2(x):\n",
    "    y=2*x**2+2**x\n",
    "    return y"
   ]
  },
  {
   "cell_type": "markdown",
   "metadata": {},
   "source": [
    "$y=sinx^{1/2}  (0=< x =<50)$"
   ]
  },
  {
   "cell_type": "code",
   "execution_count": 61,
   "metadata": {},
   "outputs": [],
   "source": [
    "def func_3(x):\n",
    "    y = np.sin(x**0.5)\n",
    "    return y"
   ]
  },
  {
   "cell_type": "code",
   "execution_count": 64,
   "metadata": {},
   "outputs": [
    {
     "data": {
      "image/png": "[encoded data removed]",
      "text/plain": [
       "<Figure size 432x288 with 1 Axes>"
      ]
     },
     "metadata": {
      "needs_background": "light"
     },
     "output_type": "display_data"
    }
   ],
   "source": [
    "y_1,grad_1,xy_1=compute_gradient(func_1)\n",
    "xy_1_del=np.delete(xy_1,-1,0)\n",
    "plt.plot(x,y_1,label=\"y=x^2\")\n",
    "plt.plot(xy_1_del[:,0],grad_1,label=\"grad\")\n",
    "plt.legend()\n",
    "plt.show()"
   ]
  },
  {
   "cell_type": "markdown",
   "metadata": {},
   "source": [
    "$y=2x^2+2^x  (-50=< x =<50)$"
   ]
  },
  {
   "cell_type": "code",
   "execution_count": 66,
   "metadata": {},
   "outputs": [
    {
     "data": {
      "image/png": "[encoded data removed]",
      "text/plain": [
       "<Figure size 432x288 with 1 Axes>"
      ]
     },
     "metadata": {
      "needs_background": "light"
     },
     "output_type": "display_data"
    }
   ],
   "source": [
    "y_2,grad_2,xy_2=compute_gradient(func_2)\n",
    "xy_2_del=np.delete(xy_2,-1,0)\n",
    "plt.plot(x,y_2,label=\"𝑦=2𝑥^2+2^𝑥\")\n",
    "plt.plot(xy_2_del[:,0],grad_2,label=\"grad\")\n",
    "plt.legend()\n",
    "plt.show()"
   ]
  },
  {
   "cell_type": "markdown",
   "metadata": {},
   "source": [
    "$y=sinx^{1/2}  (0=< x =<50)$"
   ]
  },
  {
   "cell_type": "code",
   "execution_count": 71,
   "metadata": {},
   "outputs": [
    {
     "data": {
      "image/png": "[encoded data removed]",
      "text/plain": [
       "<Figure size 432x288 with 1 Axes>"
      ]
     },
     "metadata": {
      "needs_background": "light"
     },
     "output_type": "display_data"
    }
   ],
   "source": [
    "x_3=np.arange(0,50.1,0.1)\n",
    "y_3,grad_3,xy_3=compute_gradient(func_3,x_3)\n",
    "xy_3_del=np.delete(xy_3,-1,0)\n",
    "plt.plot(x_3,y_3,label=\"sinx\")\n",
    "plt.plot(xy_3_del[:,0],grad_3,label=\"grad\")\n",
    "plt.legend()\n",
    "plt.show()"
   ]
  },
  {
   "cell_type": "markdown",
   "metadata": {},
   "source": [
    "## 【問題6】最小値を求める\n",
    "問題5で扱った関数のyの最小値を求めます。xの範囲も問題5と同様とします。\n",
    "\n",
    "今回は勾配降下法ではなく、ndarrayのminメソッド、argminメソッドを用いてください。minメソッドは最小値を、argminメソッドは最小値のインデックスを取得することができます。\n",
    "\n",
    "また、最小のyをとる前後の勾配を表示してください"
   ]
  },
  {
   "cell_type": "markdown",
   "metadata": {},
   "source": [
    "参考文献\n",
    "\n",
    "[Jupyter Notebook で数式を美しく書く](https://qiita.com/namoshika/items/63db972bfd1030f8264a)"
   ]
  },
  {
   "cell_type": "markdown",
   "metadata": {},
   "source": [
    "$y=x^2(-50=< x =<50)$"
   ]
  },
  {
   "cell_type": "code",
   "execution_count": 146,
   "metadata": {},
   "outputs": [
    {
     "name": "stdout",
     "output_type": "stream",
     "text": [
      "最小値をとるインデックスは500\n",
      "yの最小値は5.048709793414476e-25\n",
      "yの最小値直前の勾配は-0.09999999999858034\n",
      "yの最小値直後の勾配は0.1000000000014225\n"
     ]
    }
   ],
   "source": [
    "x = g_1[0][:,0]#compute_gradient(x**2)で取得したxy結合配列のx配列を代入\n",
    "y = g_1[0][:,1]#compute_gradient(x**2)で取得したxy結合配列のy配列を代入\n",
    "idx = y.argmin()#y最小値のインデックス取得\n",
    "y_min=y.min()# y最小値取得\n",
    "\n",
    "print(\"最小値をとるインデックスは{}\".format(idx))\n",
    "print(\"yの最小値は{}\".format(y_min))\n",
    "print(\"yの最小値直前の勾配は{}\".format(g_1[1][idx-1]))\n",
    "print(\"yの最小値直後の勾配は{}\".format(g_1[1][idx]))"
   ]
  },
  {
   "cell_type": "markdown",
   "metadata": {},
   "source": [
    "$y=2x^2+2^x  (-50=< x =<50)$"
   ]
  },
  {
   "cell_type": "code",
   "execution_count": 147,
   "metadata": {},
   "outputs": [
    {
     "name": "stdout",
     "output_type": "stream",
     "text": [
      "最小値をとるインデックスは498\n",
      "yの最小値は0.9505505632959851\n",
      "yの最小値直前の勾配は-0.4170183305979998\n",
      "yの最小値直後の勾配は0.024824282409972788\n"
     ]
    }
   ],
   "source": [
    "x2 = g_2[0][:,0]#compute_gradient(2*x**2 + 2**x)で取得したxy結合配列のx配列を代入\n",
    "y2 = g_2[0][:,1]#compute_gradient(2*x**2 + 2**x)で取得したxy結合配列のy配列を代入\n",
    "idx2 = y2.argmin()#y最小値のインデックス取得\n",
    "y2_min = y2.min()# y最小値取得\n",
    "\n",
    "print(\"最小値をとるインデックスは{}\".format(idx2))\n",
    "print(\"yの最小値は{}\".format(y2_min))\n",
    "print(\"yの最小値直前の勾配は{}\".format(g_2[1][idx2-1]))\n",
    "print(\"yの最小値直後の勾配は{}\".format(g_2[1][idx2]))"
   ]
  },
  {
   "cell_type": "markdown",
   "metadata": {},
   "source": [
    "$y=sinx^{1/2}  (0=< x =<50)$"
   ]
  },
  {
   "cell_type": "code",
   "execution_count": 148,
   "metadata": {},
   "outputs": [
    {
     "name": "stdout",
     "output_type": "stream",
     "text": [
      "最小値をとるインデックスは222\n",
      "yの最小値は-0.9999997540298113\n",
      "yの最小値直前の勾配は-0.0006388422559544435\n",
      "yの最小値直後の勾配は0.0004874477930660974\n"
     ]
    }
   ],
   "source": [
    "x3 = t_xy_merge[:,0]#function(x)を用いて、𝑦=𝑠𝑖𝑛𝑥1/2(0=<𝑥=<50)の取得したxy結合配列のx配列を代入\n",
    "y3 = t_xy_merge[:,1]#function(x)を用いて、𝑦=𝑠𝑖𝑛𝑥1/2(0=<𝑥=<50)の取得したxy結合配列のy配列を代入\n",
    "idx3 = y3.argmin()#y最小値のインデックス取得\n",
    "y3_min = y3.min()# y最小値取得\n",
    "\n",
    "print(\"最小値をとるインデックスは{}\".format(idx3))\n",
    "print(\"yの最小値は{}\".format(y3_min))\n",
    "print(\"yの最小値直前の勾配は{}\".format(gradient[idx3-1]))\n",
    "print(\"yの最小値直後の勾配は{}\".format(gradient[idx3]))"
   ]
  },
  {
   "cell_type": "markdown",
   "metadata": {},
   "source": [
    "考察：yの最小値をとる前後で勾配の正負がマイナスからプラスになることがわかる。"
   ]
  }
 ],
 "metadata": {
  "kernelspec": {
   "display_name": "Python 3",
   "language": "python",
   "name": "python3"
  },
  "language_info": {
   "codemirror_mode": {
    "name": "ipython",
    "version": 3
   },
   "file_extension": ".py",
   "mimetype": "text/x-python",
   "name": "python",
   "nbconvert_exporter": "python",
   "pygments_lexer": "ipython3",
   "version": "3.7.3"
  }
 },
 "nbformat": 4,
 "nbformat_minor": 2
}
