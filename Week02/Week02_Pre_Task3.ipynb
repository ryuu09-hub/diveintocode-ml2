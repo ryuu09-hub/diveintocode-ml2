{
 "cells": [
  {
   "cell_type": "markdown",
   "metadata": {},
   "source": [
    "# 行列積のスクラッチ"
   ]
  },
  {
   "cell_type": "markdown",
   "metadata": {},
   "source": [
    "# 【問題1】行列積を手計算する\n",
    "\n",
    "以下のような行列A、Bを考えます。\n",
    "$$\n",
    "  \\boldsymbol{A} =\n",
    "        % ベクトルや行列は\"left[\"と\"right]\"でベクトルや行列の括弧を作る\n",
    "        % 括弧内に\"array\"環境を展開する\n",
    "        % {ccc}の形で中央揃え、縦線、中央揃え*2の並びに出来る\n",
    "        \\left[\\begin{array}{ccc}\n",
    "            -1 &  2 &  3 \\\\\n",
    "             4 & -5 &  6 \\\\\n",
    "             7 &  8 & -9 \\\\\n",
    "        \\end{array}\\right] \\quad\n",
    "        ,\n",
    "    \\boldsymbol{B} =\n",
    "        \\left[\\begin{array}{ccc}\n",
    "             0 &  2 &  1 \\\\\n",
    "             0 &  2 & -8 \\\\\n",
    "             2 &  9 & -1 \\\\\n",
    "        \\end{array}\\right] \\quad\n",
    "$$\n",
    "\n",
    "NumPyで表すと次のようになります。\n",
    "```py\n",
    "import numpy as np\n",
    "a_ndarray = np.array([[-1, 2, 3], [4, -5, 6], [7, 8, -9]])\n",
    "b_ndarray = np.array([[0, 2, 1], [0, 2, -8], [2, 9, -1]])\n",
    "```\n",
    "AとBの行列積を手計算で解いてください。\n",
    "計算過程もマークダウンテキストを用いて説明してください。"
   ]
  },
  {
   "cell_type": "markdown",
   "metadata": {},
   "source": [
    "## 公式\n",
    "$$\n",
    "\\left[\\begin{array}{ccc}\n",
    "     a_1 & a_2 & a_3 \\\\\n",
    "     a_4 & a_5 & a_6 \\\\\n",
    "     a_7 & a_8 & a_9 \\\\\n",
    "\\end{array}\\right] \\quad\n",
    "*\n",
    "\\left[\\begin{array}{ccc}\n",
    "     b_1 & b_2 & b_3 \\\\\n",
    "     b_4 & b_5 & b_6 \\\\\n",
    "     b_7 & b_8 & b_9 \\\\\n",
    "\\end{array}\\right] \\quad \n",
    "$$\n",
    "$$\n",
    "= \n",
    "\\left[\\begin{array}{ccc}\n",
    "     a_1*b_1+a_2*b_4+a_3*b_7 & a_1+b_2+a_2*b_5+a_3*b_8 & a_1*b_3a+a_2*b_6+a_3*b_9 \\\\\n",
    "     a_4*b_1+a_5*b_4+a_6*b_7 & a_4+b_2+a_5*b_5+a_6*b_8 & a_4*b_3a+a_5*b_6+a_6*b_9 \\\\\n",
    "     a_7*b_1+a_8*b_4+a_9*b_7 & a_7+b_2+a_8*b_5+a_9*b_8 & a_7*b_3a+a_8*b_6+a_9*b_9 \\\\\n",
    "        \\end{array}\\right] \\quad       \n",
    "$$\n"
   ]
  },
  {
   "cell_type": "markdown",
   "metadata": {},
   "source": [
    "## 計算過程\n",
    "\n",
    "上記の公式にしたがって計算すると、、、、\n",
    "\n",
    "$$\n",
    "  \\left[\\begin{array}{ccc}\n",
    "            -1 &  2 &  3 \\\\\n",
    "             4 & -5 &  6 \\\\\n",
    "             7 &  8 & -9 \\\\\n",
    "        \\end{array}\\right] \\quad\n",
    " *\n",
    "        \\left[\\begin{array}{ccc}\n",
    "             0 &  2 &  1 \\\\\n",
    "             0 &  2 & -8 \\\\\n",
    "             2 &  9 & -1 \\\\\n",
    "        \\end{array}\\right] \\quad\n",
    "$$\n"
   ]
  },
  {
   "cell_type": "markdown",
   "metadata": {},
   "source": [
    "$$\n",
    "= \n",
    "\\left[\\begin{array}{ccc}\n",
    "     -1* 0+ 2* 0+ 3* 2 & -1* 2+ 2* 2+ 3* 9 & -1* 1+ 2*-8+ 3*-1 \\\\\n",
    "      4* 0+-5* 0+ 6* 2 &  4* 2+-5* 2+ 6* 9 &  4* 1+-5*-8+ 6*-1 \\\\\n",
    "      7* 0+ 8* 0+-9* 2 &  7+ 2+ 8* 2+-9* 9 &  7* 1+ 8*-8+-9*-1 \\\\\n",
    "        \\end{array}\\right] \\quad       \n",
    "$$\n"
   ]
  },
  {
   "cell_type": "markdown",
   "metadata": {},
   "source": [
    "$$\n",
    "= \n",
    "\\left[\\begin{array}{ccc}\n",
    "     0+0+6 & -2+4+27 & -1-16-3 \\\\\n",
    "     0+0+12 & 8-10+54 & 4+40-6 \\\\\n",
    "     0+0-18 & 14+16-81 & 7-64+9 \\\\\n",
    "        \\end{array}\\right] \\quad       \n",
    "$$\n",
    "\n",
    "となり、答えは下記の通り"
   ]
  },
  {
   "cell_type": "markdown",
   "metadata": {},
   "source": [
    "\n",
    "$$\n",
    "        \\boldsymbol{Ans} =\n",
    "        \\left[\\begin{array}{ccc}\n",
    "             6 &  29 & -20 \\\\\n",
    "            12 &  52 &  38 \\\\\n",
    "           -18 & -51 & -48 \\\\\n",
    "        \\end{array}\\right] \\quad\n",
    "$$"
   ]
  },
  {
   "cell_type": "markdown",
   "metadata": {},
   "source": [
    "## 【問題2】NumPyの関数による計算\n",
    "この行列積はNumPyのnp.matmul()やnp.dot()、または@演算子を使うことで簡単に計算できます。\n",
    "これらを使い行列積を計算してください。"
   ]
  },
  {
   "cell_type": "markdown",
   "metadata": {},
   "source": [
    "《3種類の違い》\n",
    "\n",
    "np.matmul()とnp.dot()は3次元以上の配列で挙動が変わります。@演算子はnp.matmul()と同じ働きをします。\n",
    "\n",
    "今回のような2次元配列の行列積ではnp.matmul()や@演算子が公式に推奨されています。以下はnp.dot()の説明からの引用です。"
   ]
  },
  {
   "cell_type": "markdown",
   "metadata": {},
   "source": [
    "## 行列積のスクラッチ実装\n",
    "np.matmul()やnp.dot()、または@演算子を使わずに、手計算で行った計算過程をNumPyによるスクラッチ実装で再現していきましょう。これにより、行列積の計算に対する理解を深めます。ここで考えるのは行列AとBのような次元が2の配列に限定します。"
   ]
  },
  {
   "cell_type": "code",
   "execution_count": 7,
   "metadata": {},
   "outputs": [
    {
     "name": "stdout",
     "output_type": "stream",
     "text": [
      "[[  6  29 -20]\n",
      " [ 12  52  38]\n",
      " [-18 -51 -48]]\n"
     ]
    }
   ],
   "source": [
    "#np.matmul()を使ってみる\n",
    "import numpy as np\n",
    "a_ndarray = np.array([[-1, 2, 3], [4, -5, 6], [7, 8, -9]])\n",
    "b_ndarray = np.array([[0, 2, 1], [0, 2, -8], [2, 9, -1]])\n",
    "\n",
    "q2_ans = np.matmul(a_ndarray,b_ndarray)\n",
    "print(q2_ans)\n"
   ]
  },
  {
   "cell_type": "code",
   "execution_count": 6,
   "metadata": {},
   "outputs": [
    {
     "name": "stdout",
     "output_type": "stream",
     "text": [
      "[[  6  29 -20]\n",
      " [ 12  52  38]\n",
      " [-18 -51 -48]]\n"
     ]
    }
   ],
   "source": [
    "#@も使ってみる\n",
    "q2_ans2 = a_ndarray @ b_ndarray\n",
    "print(q2_ans2)"
   ]
  },
  {
   "cell_type": "markdown",
   "metadata": {},
   "source": [
    "## 【問題3】ある要素の計算を実装\n",
    "手計算をする際はまず行列Aの0行目と行列Bの0列目に注目し、以下の計算を行ったかと思います。\n",
    "\n",
    "- 行列Aの(0,0)の要素 $a_{0,0}$ と行列Bの(0,0)の要素 $b_{0,0}$を掛け合わせる\n",
    "\n",
    "- 行列Aの(0,1)の要素 $a_{0,1}$ と行列Bの(1,0)の要素 $b_{1,0}$ を掛け合わせる\n",
    "\n",
    "- 行列Aの(0,2)の要素 $a_{0,2}$ と行列Bの(2,0)の要素 $b_{2,0}$ を掛け合わせる\n",
    "- それらの値を全て足し合わせる\n",
    "\n",
    "数式で表すと\n",
    "$$\n",
    "  \\sum_{k=0}^{2}a_{0,k}b_{k,0} \\quad\n",
    "$$\n",
    "です。\n",
    "\n",
    "この計算をnp.matmul()やnp.dot()、または@演算子を使わずに行うコードを書いてください。"
   ]
  },
  {
   "cell_type": "code",
   "execution_count": 60,
   "metadata": {},
   "outputs": [
    {
     "name": "stdout",
     "output_type": "stream",
     "text": [
      "[0, 0, 6]\n"
     ]
    }
   ],
   "source": [
    "q3_sigma_array = []\n",
    "for i in range(3):\n",
    "    q3_sigma_array.append(a_ndarray[0,i]*b_ndarray[i,0])\n",
    "print(q3_sigma_array)"
   ]
  },
  {
   "cell_type": "code",
   "execution_count": 45,
   "metadata": {},
   "outputs": [
    {
     "name": "stdout",
     "output_type": "stream",
     "text": [
      "行列A,Bにおける上記数式の計算結果は6です\n"
     ]
    }
   ],
   "source": [
    "q3_sigma_array = []\n",
    "for i in range(3):\n",
    "    q3_sigma_array.append(a_ndarray[0,i]*b_ndarray[i,0])\n",
    "print(\"行列A,Bにおける上記数式の計算結果は{}です\".format(sum(q3_sigma_array)))"
   ]
  },
  {
   "cell_type": "markdown",
   "metadata": {},
   "source": [
    "## 【問題4】行列積を行う関数の作成\n",
    "問題3のコードを拡張し、行列積のスクラッチ実装を完成させてください。行列AとBを引数に受け取り、行列積を返す関数としてください。\n",
    "\n",
    "行列積を計算する場合は、問題3の計算を異なる行や列に対して繰り返していくことになります。\n",
    "\n",
    "計算結果である 3×3 の行列Cの各要素 $c_{i,j}$は数式で表すと次のようになります。\n",
    "$$\n",
    "  c_{i,j} = \\sum_{k=0}^{2}a_{i,k}b_{k,j} \\quad\n",
    "$$\n",
    "for文を使い、ndarrayのインデックスを動かしていくことで、合計9つの要素が計算できます。インデックス \n",
    "$i$や $j$を1増やすと、次の行や列に移ることができます。"
   ]
  },
  {
   "cell_type": "code",
   "execution_count": 132,
   "metadata": {},
   "outputs": [
    {
     "name": "stdout",
     "output_type": "stream",
     "text": [
      "[[6, 29, -20], [12, 52, 38], [-18, -51, -48]]\n"
     ]
    }
   ],
   "source": [
    "def compute_gyouretuseki(gyouretu_a, gyouretu_b):\n",
    "    temp_calculation = [] #1要素計算リスト\n",
    "    line_elements = [] #n行における要素リスト\n",
    "    compute_gyouretuseki = [] #行列積リスト\n",
    "    \n",
    "    if gyouretu_a.shape[0] == gyouretu_b.shape[1]:\n",
    "        for i in range(gyouretu_a.shape[0]):\n",
    "            line_elements = [] #n行における要素リストの初期化\n",
    "            for j in range(gyouretu_a.shape[0]):\n",
    "                temp_calculation = [] #１要素計算リストの初期化\n",
    "                for k in range(gyouretu_a.shape[0]):\n",
    "                    temp_calculation.append(gyouretu_a[i,k]*gyouretu_b[k,j]) #1要素計算\n",
    "                line_elements.append(sum(temp_calculation)) #シグマ計算と結果格納\n",
    "            compute_gyouretuseki.append(line_elements) #2次元配列へ\n",
    "    else:\n",
    "        compute_gyouretuseki = \"エラー：gyouretu_aの列数とgyouretu_bの行数が異なるため計算できません\"\n",
    "    return compute_gyouretuseki\n",
    "\n",
    "print(compute_gyouretuseki(a_ndarray, b_ndarray))\n",
    "\n",
    "##問題５を含む"
   ]
  },
  {
   "cell_type": "markdown",
   "metadata": {},
   "source": [
    "### 模範解答"
   ]
  },
  {
   "cell_type": "code",
   "execution_count": 4,
   "metadata": {},
   "outputs": [
    {
     "name": "stdout",
     "output_type": "stream",
     "text": [
      "計算結果\n",
      "[[  6.  29. -20.]\n",
      " [ 12.  52.  38.]\n",
      " [-18. -51. -48.]]\n"
     ]
    }
   ],
   "source": [
    "import numpy as np\n",
    "def matrix_product_q4_1(a, b):\n",
    "    c = np.empty((a.shape[0], b.shape[1]))\n",
    "\n",
    "    for i in range(a.shape[0]):\n",
    "        for j in range(b.shape[1]):\n",
    "            c[i, j] = (a[i]*b[:, j]).sum()\n",
    "    return c\n",
    "\n",
    "a_ndarray = np.array([[-1, 2, 3], [4, -5, 6], [7, 8, -9]])\n",
    "b_ndarray = np.array([[0, 2, 1], [0, 2, -8], [2, 9, -1]])\n",
    "print(\"計算結果\\n{}\".format(matrix_product_q4_1(a_ndarray, b_ndarray)))"
   ]
  },
  {
   "cell_type": "markdown",
   "metadata": {},
   "source": [
    "## 【問題5】計算が定義されない入力を判定する\n",
    "問題4で作成した関数は、実装方法によってはこのDとEの配列を入力しても動いてしまう可能性があります。この場合、不適切な計算が行われることになります。また、途中でエラーになる場合でも、なぜエラーになったかが直接的には分かりづらいメッセージが表示されます。\n",
    "\n",
    "if文などによってこれを防ぎ、入力される形に問題があることをprint()を使い表示するコードを書き加えてください。"
   ]
  },
  {
   "cell_type": "markdown",
   "metadata": {},
   "source": [
    "## 行列積が定義されない組み合わせの行列\n",
    "\n",
    "$$\n",
    "  \\boldsymbol{D} =\n",
    "        % ベクトルや行列は\"left[\"と\"right]\"でベクトルや行列の括弧を作る\n",
    "        % 括弧内に\"array\"環境を展開する\n",
    "        % {ccc}の形で中央揃え、縦線、中央揃え*2の並びに出来る\n",
    "        \\left[\\begin{array}{ccc}\n",
    "            -1 &  2 &  3 \\\\\n",
    "             4 & -5 &  6 \\\\\n",
    "        \\end{array}\\right] \\quad\n",
    "        ,\n",
    "    \\boldsymbol{E-} =\n",
    "        \\left[\\begin{array}{ccc}\n",
    "            -9 &  8 &  7 \\\\\n",
    "             6 & -5 &  4 \\\\\n",
    "        \\end{array}\\right] \\quad\n",
    "$$\n",
    "```py\n",
    "d_ndarray_ = np.array([[-1, 2, 3], [4, -5, 6]])\n",
    "e_ndarray = np.array([[-9, 8, 7], [6, -5, 4]])\n",
    "```\n",
    "\n",
    "行列積DEはDの列数とEの行数が等しい場合に定義されていますから、この例では計算ができません。"
   ]
  },
  {
   "cell_type": "code",
   "execution_count": 134,
   "metadata": {},
   "outputs": [
    {
     "name": "stdout",
     "output_type": "stream",
     "text": [
      "エラー：gyouretu_aの列数とgyouretu_bの行数が異なるため計算できません\n"
     ]
    }
   ],
   "source": [
    "#上記の行列Aの列数と行列Bの行数が異なる行列を用意\n",
    "d_ndarray_ = np.array([[-1, 2, 3], [4, -5, 6]])\n",
    "e_ndarray = np.array([[-9, 8, 7], [6, -5, 4]])\n",
    "\n",
    "#上記の例でテスト\n",
    "print(compute_gyouretuseki(d_ndarray_,e_ndarray))"
   ]
  },
  {
   "cell_type": "markdown",
   "metadata": {},
   "source": [
    "## 【問題6】転置\n",
    "片方の行列を転置することで、行列積が計算できるようになります。\n",
    "\n",
    "np.transpose()や.Tアトリビュートを用いて転置し、行列積を計算してください。"
   ]
  },
  {
   "cell_type": "code",
   "execution_count": 131,
   "metadata": {},
   "outputs": [
    {
     "name": "stdout",
     "output_type": "stream",
     "text": [
      "行列積は [[25, -16], [-76, 49]] です。\n"
     ]
    }
   ],
   "source": [
    "t_e_ndarray = np.transpose(e_ndarray) #行列E-を転置\n",
    "\n",
    "print(\"行列積は\",compute_gyouretuseki(d_ndarray_,t_e_ndarray),\"です。\")"
   ]
  }
 ],
 "metadata": {
  "kernelspec": {
   "display_name": "Python 3",
   "language": "python",
   "name": "python3"
  },
  "language_info": {
   "codemirror_mode": {
    "name": "ipython",
    "version": 3
   },
   "file_extension": ".py",
   "mimetype": "text/x-python",
   "name": "python",
   "nbconvert_exporter": "python",
   "pygments_lexer": "ipython3",
   "version": "3.7.3"
  }
 },
 "nbformat": 4,
 "nbformat_minor": 2
}
