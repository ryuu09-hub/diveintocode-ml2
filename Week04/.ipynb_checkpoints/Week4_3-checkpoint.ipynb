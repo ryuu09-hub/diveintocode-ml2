{
 "cells": [
  {
   "cell_type": "markdown",
   "metadata": {},
   "source": [
    "# **Week4授業前課題3 オブジェクト指向の活用**"
   ]
  },
  {
   "cell_type": "markdown",
   "metadata": {},
   "source": [
    "### **scikit-learnの標準化クラス**"
   ]
  },
  {
   "cell_type": "code",
   "execution_count": 17,
   "metadata": {},
   "outputs": [
    {
     "name": "stdout",
     "output_type": "stream",
     "text": [
      "平均 : [4.86 3.31 1.45 0.22]\n",
      "分散 : [0.0764 0.0849 0.0105 0.0056]\n"
     ]
    },
    {
     "data": {
      "text/plain": [
       "array([[ 0.86828953,  0.65207831, -0.48795004, -0.26726124],\n",
       "       [ 0.14471492, -1.06391725, -0.48795004, -0.26726124],\n",
       "       [-0.57885968, -0.37751902, -1.46385011, -0.26726124],\n",
       "       [-0.94064699, -0.72071813,  0.48795004, -0.26726124],\n",
       "       [ 0.50650222,  0.99527742, -0.48795004, -0.26726124],\n",
       "       [ 1.95365143,  2.02487476,  2.43975018,  2.40535118],\n",
       "       [-0.94064699,  0.3088792 , -0.48795004,  1.06904497],\n",
       "       [ 0.50650222,  0.3088792 ,  0.48795004, -0.26726124],\n",
       "       [-1.66422159, -1.40711636, -0.48795004, -0.26726124],\n",
       "       [ 0.14471492, -0.72071813,  0.48795004, -1.60356745]])"
      ]
     },
     "execution_count": 17,
     "metadata": {},
     "output_type": "execute_result"
    }
   ],
   "source": [
    "import numpy as np\n",
    "from sklearn.preprocessing import StandardScaler\n",
    "from sklearn.datasets import load_iris\n",
    "\n",
    "data = load_iris()\n",
    "X = data.data[:10]\n",
    "\n",
    "scaler = StandardScaler()\n",
    "scaler.fit(X)\n",
    "print('平均 :', scaler.mean_)\n",
    "print('分散 :', scaler.var_)\n",
    "X_std = scaler.transform(X)\n",
    "X_std"
   ]
  },
  {
   "cell_type": "markdown",
   "metadata": {},
   "source": [
    "### **【問題1】これまで利用してきたクラスの列挙**"
   ]
  },
  {
   "cell_type": "markdown",
   "metadata": {},
   "source": [
    "**Pandas**\n",
    "\n",
    "DataFrameクラス: 2次元のデータ構造を持つクラス\n",
    "\n",
    "**matplotlib**\n",
    "\n",
    "patchesクラス: matplotlibの簡易的な図形描写モジュール\n",
    "\n",
    "colorsクラス: Matplotlibで色をコントロールするモジュール\n",
    "\n",
    "**scikit-learn**\n",
    "\n",
    "datasetsクラス: アヤメのデータセットなど様々なデータが収められているモジュール"
   ]
  },
  {
   "cell_type": "code",
   "execution_count": 5,
   "metadata": {},
   "outputs": [
    {
     "name": "stdout",
     "output_type": "stream",
     "text": [
      "平均 : [4.86 3.31 1.45 0.22]\n",
      "分散 : [0.0764 0.0849 0.0105 0.0056]\n"
     ]
    }
   ],
   "source": [
    "print('平均 : {}'.format(scaler.mean_))\n",
    "print('分散 : {}'.format(scaler.var_))"
   ]
  },
  {
   "cell_type": "markdown",
   "metadata": {},
   "source": [
    "### **【問題2】これまで利用してきたメソッドやインスタンス変数の列挙**"
   ]
  },
  {
   "cell_type": "markdown",
   "metadata": {},
   "source": [
    "**【メソッド】**\n",
    "\n",
    "*・数値計算系*\n",
    "\n",
    "sum(), max(), min(), abs(), round()\n",
    "\n",
    "*・型関連*\n",
    "\n",
    "dict(), int(), float(), set(), list(), str(), tuple(), type(), \n",
    "\n",
    "*・リスト、イテレーター処理系*\n",
    "\n",
    "all(), any(), enumerate(), len(), range(), zip()\n",
    "\n",
    "*・文字列系*\n",
    "\n",
    "format(), ascii()\n",
    "\n",
    "**【インスタンス変数】**\n",
    "\n",
    "shape, dtype, column, index, mean_, var_"
   ]
  },
  {
   "cell_type": "markdown",
   "metadata": {},
   "source": [
    "### **【問題3】標準化クラスをスクラッチで作成**"
   ]
  },
  {
   "cell_type": "code",
   "execution_count": 22,
   "metadata": {},
   "outputs": [],
   "source": [
    "class ScratchStandardScaler():\n",
    "    \"\"\"\n",
    "    標準化のためのクラス\n",
    "\n",
    "    Attributes\n",
    "    ----------\n",
    "    mean_ : 次の形のndarray, shape(n_features,)\n",
    "        平均\n",
    "    var_ : 次の形のndarray, shape(n_features,)\n",
    "        分散\n",
    "    \"\"\"\n",
    "    def __init__(self):\n",
    "        self.X = X\n",
    "\n",
    "    def fit(self, X):\n",
    "        self.mean_ = np.sum(self.X, axis=0) / self.X.shape[0]\n",
    "        self.var_ = np.sum((self.X - self.mean_)**2, axis=0) / self.X.shape[0]\n",
    "        \n",
    "        return self.mean_, self.var_\n",
    "    \n",
    "    def transform(self, X):\n",
    "        X_scaled = (self.X - self.mean_) / (self.var_)**0.5\n",
    "        \n",
    "        return X_scaled"
   ]
  },
  {
   "cell_type": "code",
   "execution_count": 23,
   "metadata": {},
   "outputs": [
    {
     "name": "stdout",
     "output_type": "stream",
     "text": [
      "平均 : [4.86 3.31 1.45 0.22]\n",
      "分散 : [0.0764 0.0849 0.0105 0.0056]\n",
      "[[ 0.86828953  0.65207831 -0.48795004 -0.26726124]\n",
      " [ 0.14471492 -1.06391725 -0.48795004 -0.26726124]\n",
      " [-0.57885968 -0.37751902 -1.46385011 -0.26726124]\n",
      " [-0.94064699 -0.72071813  0.48795004 -0.26726124]\n",
      " [ 0.50650222  0.99527742 -0.48795004 -0.26726124]\n",
      " [ 1.95365143  2.02487476  2.43975018  2.40535118]\n",
      " [-0.94064699  0.3088792  -0.48795004  1.06904497]\n",
      " [ 0.50650222  0.3088792   0.48795004 -0.26726124]\n",
      " [-1.66422159 -1.40711636 -0.48795004 -0.26726124]\n",
      " [ 0.14471492 -0.72071813  0.48795004 -1.60356745]]\n"
     ]
    }
   ],
   "source": [
    "import numpy as np\n",
    "from sklearn.datasets import load_iris\n",
    "\n",
    "data = load_iris()\n",
    "X = data.data[:10]\n",
    "\n",
    "scratch_scaler = ScratchStandardScaler()\n",
    "scratch_scaler.fit(X)\n",
    "print('平均 : {}'.format(scratch_scaler.mean_))\n",
    "print('分散 : {}'.format(scratch_scaler.var_))\n",
    "X_std = scratch_scaler.transform(X)\n",
    "print(X_std)"
   ]
  },
  {
   "cell_type": "code",
   "execution_count": 304,
   "metadata": {},
   "outputs": [
    {
     "name": "stdout",
     "output_type": "stream",
     "text": [
      "初期値5が設定されました\n",
      "value : 5\n",
      "value : 8\n"
     ]
    }
   ],
   "source": [
    "# サンプルコードを書いてみる\n",
    "\n",
    "class ExampleClass():\n",
    "    \"\"\"\n",
    "    説明用の簡単なクラス\n",
    "    \n",
    "    Parameters\n",
    "    ----------\n",
    "    value : float or int\n",
    "        計算結果\n",
    "    \"\"\"\n",
    "    def __init__(self, value):\n",
    "        self.value = value\n",
    "        print('初期値{}が設定されました'.format(self.value))\n",
    "    def add(self, value2):\n",
    "        \"\"\"\n",
    "        受け取った引数をself.valueに加える\n",
    "        \"\"\"\n",
    "        self.value += value2\n",
    "        \n",
    "example = ExampleClass(5)\n",
    "print('value : {}'.format(example.value))\n",
    "example.add(3)\n",
    "print('value : {}'.format(example.value))"
   ]
  },
  {
   "cell_type": "markdown",
   "metadata": {},
   "source": [
    "### **【問題4】四則演算を行うクラスの作成**"
   ]
  },
  {
   "cell_type": "code",
   "execution_count": 313,
   "metadata": {},
   "outputs": [],
   "source": [
    "# 四則演算を行うCalculationクラスを実装する\n",
    "class Calculation():\n",
    "    def __init__(self, value):\n",
    "        self.value = value\n",
    "\n",
    "    def add(self, value1):\n",
    "        if type(self.value) != int and type(self.value) != float:\n",
    "            self.value = 'Error'\n",
    "            return self.value\n",
    "        self.value += value1\n",
    "        \n",
    "    def sub(self, value2):\n",
    "        if type(self.value) != int and type(self.value) != float:\n",
    "            self.value = 'Error'\n",
    "            return self.value\n",
    "        self.value -= value2\n",
    "        \n",
    "    def mul(self, value3):\n",
    "        if type(self.value) != int and type(self.value) != float:\n",
    "            self.value = 'Error'\n",
    "            return self.value\n",
    "        self.value *= value3\n",
    "        \n",
    "    def div(self, value4):\n",
    "        if type(self.value) != int and type(self.value) != float:\n",
    "            self.value = 'Error'\n",
    "            return self.value\n",
    "        self.value /= value4"
   ]
  },
  {
   "cell_type": "code",
   "execution_count": 314,
   "metadata": {},
   "outputs": [
    {
     "data": {
      "text/plain": [
       "5.3"
      ]
     },
     "execution_count": 314,
     "metadata": {},
     "output_type": "execute_result"
    }
   ],
   "source": [
    "cal = Calculation(2.3)\n",
    "cal.value\n",
    "cal.add(3)\n",
    "cal.value"
   ]
  },
  {
   "cell_type": "code",
   "execution_count": 315,
   "metadata": {},
   "outputs": [
    {
     "data": {
      "text/plain": [
       "'Error'"
      ]
     },
     "execution_count": 315,
     "metadata": {},
     "output_type": "execute_result"
    }
   ],
   "source": [
    "cal1 = Calculation(np.array([1, 2, 3]))\n",
    "cal1.value\n",
    "cal1.mul(4)\n",
    "cal1.value"
   ]
  },
  {
   "cell_type": "code",
   "execution_count": null,
   "metadata": {},
   "outputs": [],
   "source": []
  }
 ],
 "metadata": {
  "kernelspec": {
   "display_name": "Python 3",
   "language": "python",
   "name": "python3"
  },
  "language_info": {
   "codemirror_mode": {
    "name": "ipython",
    "version": 3
   },
   "file_extension": ".py",
   "mimetype": "text/x-python",
   "name": "python",
   "nbconvert_exporter": "python",
   "pygments_lexer": "ipython3",
   "version": "3.7.3"
  }
 },
 "nbformat": 4,
 "nbformat_minor": 2
}
