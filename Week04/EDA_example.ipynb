{
 "cells": [
  {
   "cell_type": "code",
   "execution_count": 1,
   "metadata": {},
   "outputs": [],
   "source": [
    "import numpy as np\n",
    "import pandas as pd\n",
    "import matplotlib.pyplot as plt\n",
    "import matplotlib.cm as cm\n",
    "import os # ファイルの読み込み先のpath指定する時に必要\n",
    "%matplotlib inline"
   ]
  },
  {
   "cell_type": "code",
   "execution_count": 2,
   "metadata": {},
   "outputs": [],
   "source": [
    "data = pd.read_csv(\"../../dic_ml_ans/application_train.csv\")"
   ]
  },
  {
   "cell_type": "markdown",
   "metadata": {},
   "source": [
    "まずはデータを把握する"
   ]
  },
  {
   "cell_type": "code",
   "execution_count": 3,
   "metadata": {},
   "outputs": [
    {
     "name": "stdout",
     "output_type": "stream",
     "text": [
      "<class 'pandas.core.frame.DataFrame'>\n",
      "RangeIndex: 307511 entries, 0 to 307510\n",
      "Columns: 122 entries, SK_ID_CURR to AMT_REQ_CREDIT_BUREAU_YEAR\n",
      "dtypes: float64(65), int64(41), object(16)\n",
      "memory usage: 286.2+ MB\n"
     ]
    }
   ],
   "source": [
    "data.info()"
   ]
  },
  {
   "cell_type": "code",
   "execution_count": 4,
   "metadata": {},
   "outputs": [
    {
     "data": {
      "text/plain": [
       "(307511, 122)"
      ]
     },
     "execution_count": 4,
     "metadata": {},
     "output_type": "execute_result"
    }
   ],
   "source": [
    "data.shape"
   ]
  },
  {
   "cell_type": "code",
   "execution_count": 5,
   "metadata": {},
   "outputs": [
    {
     "data": {
      "text/html": [
       "<div>\n",
       "<style scoped>\n",
       "    .dataframe tbody tr th:only-of-type {\n",
       "        vertical-align: middle;\n",
       "    }\n",
       "\n",
       "    .dataframe tbody tr th {\n",
       "        vertical-align: top;\n",
       "    }\n",
       "\n",
       "    .dataframe thead th {\n",
       "        text-align: right;\n",
       "    }\n",
       "</style>\n",
       "<table border=\"1\" class=\"dataframe\">\n",
       "  <thead>\n",
       "    <tr style=\"text-align: right;\">\n",
       "      <th></th>\n",
       "      <th>SK_ID_CURR</th>\n",
       "      <th>TARGET</th>\n",
       "      <th>NAME_CONTRACT_TYPE</th>\n",
       "      <th>CODE_GENDER</th>\n",
       "      <th>FLAG_OWN_CAR</th>\n",
       "      <th>FLAG_OWN_REALTY</th>\n",
       "      <th>CNT_CHILDREN</th>\n",
       "      <th>AMT_INCOME_TOTAL</th>\n",
       "      <th>AMT_CREDIT</th>\n",
       "      <th>AMT_ANNUITY</th>\n",
       "      <th>...</th>\n",
       "      <th>FLAG_DOCUMENT_18</th>\n",
       "      <th>FLAG_DOCUMENT_19</th>\n",
       "      <th>FLAG_DOCUMENT_20</th>\n",
       "      <th>FLAG_DOCUMENT_21</th>\n",
       "      <th>AMT_REQ_CREDIT_BUREAU_HOUR</th>\n",
       "      <th>AMT_REQ_CREDIT_BUREAU_DAY</th>\n",
       "      <th>AMT_REQ_CREDIT_BUREAU_WEEK</th>\n",
       "      <th>AMT_REQ_CREDIT_BUREAU_MON</th>\n",
       "      <th>AMT_REQ_CREDIT_BUREAU_QRT</th>\n",
       "      <th>AMT_REQ_CREDIT_BUREAU_YEAR</th>\n",
       "    </tr>\n",
       "  </thead>\n",
       "  <tbody>\n",
       "    <tr>\n",
       "      <th>0</th>\n",
       "      <td>100002</td>\n",
       "      <td>1</td>\n",
       "      <td>Cash loans</td>\n",
       "      <td>M</td>\n",
       "      <td>N</td>\n",
       "      <td>Y</td>\n",
       "      <td>0</td>\n",
       "      <td>202500.0</td>\n",
       "      <td>406597.5</td>\n",
       "      <td>24700.5</td>\n",
       "      <td>...</td>\n",
       "      <td>0</td>\n",
       "      <td>0</td>\n",
       "      <td>0</td>\n",
       "      <td>0</td>\n",
       "      <td>0.0</td>\n",
       "      <td>0.0</td>\n",
       "      <td>0.0</td>\n",
       "      <td>0.0</td>\n",
       "      <td>0.0</td>\n",
       "      <td>1.0</td>\n",
       "    </tr>\n",
       "    <tr>\n",
       "      <th>1</th>\n",
       "      <td>100003</td>\n",
       "      <td>0</td>\n",
       "      <td>Cash loans</td>\n",
       "      <td>F</td>\n",
       "      <td>N</td>\n",
       "      <td>N</td>\n",
       "      <td>0</td>\n",
       "      <td>270000.0</td>\n",
       "      <td>1293502.5</td>\n",
       "      <td>35698.5</td>\n",
       "      <td>...</td>\n",
       "      <td>0</td>\n",
       "      <td>0</td>\n",
       "      <td>0</td>\n",
       "      <td>0</td>\n",
       "      <td>0.0</td>\n",
       "      <td>0.0</td>\n",
       "      <td>0.0</td>\n",
       "      <td>0.0</td>\n",
       "      <td>0.0</td>\n",
       "      <td>0.0</td>\n",
       "    </tr>\n",
       "    <tr>\n",
       "      <th>2</th>\n",
       "      <td>100004</td>\n",
       "      <td>0</td>\n",
       "      <td>Revolving loans</td>\n",
       "      <td>M</td>\n",
       "      <td>Y</td>\n",
       "      <td>Y</td>\n",
       "      <td>0</td>\n",
       "      <td>67500.0</td>\n",
       "      <td>135000.0</td>\n",
       "      <td>6750.0</td>\n",
       "      <td>...</td>\n",
       "      <td>0</td>\n",
       "      <td>0</td>\n",
       "      <td>0</td>\n",
       "      <td>0</td>\n",
       "      <td>0.0</td>\n",
       "      <td>0.0</td>\n",
       "      <td>0.0</td>\n",
       "      <td>0.0</td>\n",
       "      <td>0.0</td>\n",
       "      <td>0.0</td>\n",
       "    </tr>\n",
       "    <tr>\n",
       "      <th>3</th>\n",
       "      <td>100006</td>\n",
       "      <td>0</td>\n",
       "      <td>Cash loans</td>\n",
       "      <td>F</td>\n",
       "      <td>N</td>\n",
       "      <td>Y</td>\n",
       "      <td>0</td>\n",
       "      <td>135000.0</td>\n",
       "      <td>312682.5</td>\n",
       "      <td>29686.5</td>\n",
       "      <td>...</td>\n",
       "      <td>0</td>\n",
       "      <td>0</td>\n",
       "      <td>0</td>\n",
       "      <td>0</td>\n",
       "      <td>NaN</td>\n",
       "      <td>NaN</td>\n",
       "      <td>NaN</td>\n",
       "      <td>NaN</td>\n",
       "      <td>NaN</td>\n",
       "      <td>NaN</td>\n",
       "    </tr>\n",
       "    <tr>\n",
       "      <th>4</th>\n",
       "      <td>100007</td>\n",
       "      <td>0</td>\n",
       "      <td>Cash loans</td>\n",
       "      <td>M</td>\n",
       "      <td>N</td>\n",
       "      <td>Y</td>\n",
       "      <td>0</td>\n",
       "      <td>121500.0</td>\n",
       "      <td>513000.0</td>\n",
       "      <td>21865.5</td>\n",
       "      <td>...</td>\n",
       "      <td>0</td>\n",
       "      <td>0</td>\n",
       "      <td>0</td>\n",
       "      <td>0</td>\n",
       "      <td>0.0</td>\n",
       "      <td>0.0</td>\n",
       "      <td>0.0</td>\n",
       "      <td>0.0</td>\n",
       "      <td>0.0</td>\n",
       "      <td>0.0</td>\n",
       "    </tr>\n",
       "  </tbody>\n",
       "</table>\n",
       "<p>5 rows × 122 columns</p>\n",
       "</div>"
      ],
      "text/plain": [
       "   SK_ID_CURR  TARGET NAME_CONTRACT_TYPE CODE_GENDER FLAG_OWN_CAR  \\\n",
       "0      100002       1         Cash loans           M            N   \n",
       "1      100003       0         Cash loans           F            N   \n",
       "2      100004       0    Revolving loans           M            Y   \n",
       "3      100006       0         Cash loans           F            N   \n",
       "4      100007       0         Cash loans           M            N   \n",
       "\n",
       "  FLAG_OWN_REALTY  CNT_CHILDREN  AMT_INCOME_TOTAL  AMT_CREDIT  AMT_ANNUITY  \\\n",
       "0               Y             0          202500.0    406597.5      24700.5   \n",
       "1               N             0          270000.0   1293502.5      35698.5   \n",
       "2               Y             0           67500.0    135000.0       6750.0   \n",
       "3               Y             0          135000.0    312682.5      29686.5   \n",
       "4               Y             0          121500.0    513000.0      21865.5   \n",
       "\n",
       "   ...  FLAG_DOCUMENT_18 FLAG_DOCUMENT_19 FLAG_DOCUMENT_20 FLAG_DOCUMENT_21  \\\n",
       "0  ...                 0                0                0                0   \n",
       "1  ...                 0                0                0                0   \n",
       "2  ...                 0                0                0                0   \n",
       "3  ...                 0                0                0                0   \n",
       "4  ...                 0                0                0                0   \n",
       "\n",
       "  AMT_REQ_CREDIT_BUREAU_HOUR AMT_REQ_CREDIT_BUREAU_DAY  \\\n",
       "0                        0.0                       0.0   \n",
       "1                        0.0                       0.0   \n",
       "2                        0.0                       0.0   \n",
       "3                        NaN                       NaN   \n",
       "4                        0.0                       0.0   \n",
       "\n",
       "   AMT_REQ_CREDIT_BUREAU_WEEK  AMT_REQ_CREDIT_BUREAU_MON  \\\n",
       "0                         0.0                        0.0   \n",
       "1                         0.0                        0.0   \n",
       "2                         0.0                        0.0   \n",
       "3                         NaN                        NaN   \n",
       "4                         0.0                        0.0   \n",
       "\n",
       "   AMT_REQ_CREDIT_BUREAU_QRT  AMT_REQ_CREDIT_BUREAU_YEAR  \n",
       "0                        0.0                         1.0  \n",
       "1                        0.0                         0.0  \n",
       "2                        0.0                         0.0  \n",
       "3                        NaN                         NaN  \n",
       "4                        0.0                         0.0  \n",
       "\n",
       "[5 rows x 122 columns]"
      ]
     },
     "execution_count": 5,
     "metadata": {},
     "output_type": "execute_result"
    }
   ],
   "source": [
    "data.head()"
   ]
  },
  {
   "cell_type": "markdown",
   "metadata": {},
   "source": [
    "本来は何か検証したい目的がありそのための仮説という位置付けであるが、ここでは分析の練習のため仮説の根拠（なぜその仮説を立てるか\n",
    "）については論じない。"
   ]
  },
  {
   "cell_type": "markdown",
   "metadata": {},
   "source": [
    "## 仮説１\n",
    "年収が高い人の方が返済してそう。\n",
    "上の仮説を検証するために、返済している人と返済してない人で年収分布をみて見る。"
   ]
  },
  {
   "cell_type": "code",
   "execution_count": 6,
   "metadata": {},
   "outputs": [
    {
     "data": {
      "text/plain": [
       "<matplotlib.axes._subplots.AxesSubplot at 0x10b8da4e0>"
      ]
     },
     "execution_count": 6,
     "metadata": {},
     "output_type": "execute_result"
    },
    {
     "data": {
      "image/png": "[encoded data removed]",
      "text/plain": [
       "<matplotlib.figure.Figure at 0x1068402b0>"
      ]
     },
     "metadata": {},
     "output_type": "display_data"
    }
   ],
   "source": [
    "data[\"AMT_INCOME_TOTAL\"][data[\"TARGET\"]==0].plot.hist(bins=20, alpha = 0.3 ,color=\"b\" ,range=(1000,400000))\n",
    "data[\"AMT_INCOME_TOTAL\"][data[\"TARGET\"]==1].plot.hist(bins=20, alpha = 0.3, color=\"r\",range=(1000,400000))"
   ]
  },
  {
   "cell_type": "markdown",
   "metadata": {},
   "source": [
    "ターゲットの分布が不均衡（どれくらい不均衡なのかは後ほど確認）なので、ヒストグラムごとに正規化する。"
   ]
  },
  {
   "cell_type": "code",
   "execution_count": 7,
   "metadata": {},
   "outputs": [
    {
     "data": {
      "text/plain": [
       "<matplotlib.axes._subplots.AxesSubplot at 0x10ba89eb8>"
      ]
     },
     "execution_count": 7,
     "metadata": {},
     "output_type": "execute_result"
    },
    {
     "data": {
      "image/png": "[encoded data removed]",
      "text/plain": [
       "<matplotlib.figure.Figure at 0x10ba7f588>"
      ]
     },
     "metadata": {},
     "output_type": "display_data"
    }
   ],
   "source": [
    "data[\"AMT_INCOME_TOTAL\"][data[\"TARGET\"]==0].plot.hist(bins=20, alpha = 0.3 ,color=\"b\" ,normed=True,range=(1000,400000))\n",
    "data[\"AMT_INCOME_TOTAL\"][data[\"TARGET\"]==1].plot.hist(bins=20, alpha = 0.3, color=\"r\",normed=True,range=(1000,400000))"
   ]
  },
  {
   "cell_type": "markdown",
   "metadata": {},
   "source": [
    "ターゲットラベルの不均衡によるバイアス除去のため、正規化してみたが、分布は同じになった。\n",
    "ヒストグラムのビン幅が影響しているかもしれないので、ビン幅を変えていくつか試してみる"
   ]
  },
  {
   "cell_type": "code",
   "execution_count": 8,
   "metadata": {},
   "outputs": [
    {
     "data": {
      "text/plain": [
       "<matplotlib.axes._subplots.AxesSubplot at 0x10bb37908>"
      ]
     },
     "execution_count": 8,
     "metadata": {},
     "output_type": "execute_result"
    },
    {
     "data": {
      "image/png": "[encoded data removed]",
      "text/plain": [
       "<matplotlib.figure.Figure at 0x10676cda0>"
      ]
     },
     "metadata": {},
     "output_type": "display_data"
    }
   ],
   "source": [
    "data[\"AMT_INCOME_TOTAL\"][data[\"TARGET\"]==0].plot.hist(bins=50, alpha = 0.3 ,color=\"b\" ,normed=True,range=(1000,400000))\n",
    "data[\"AMT_INCOME_TOTAL\"][data[\"TARGET\"]==1].plot.hist(bins=50, alpha = 0.3, color=\"r\",normed=True,range=(1000,400000))"
   ]
  },
  {
   "cell_type": "markdown",
   "metadata": {},
   "source": [
    "それほど変わらず。以上の結果から年収と返済能力の（0,1）にはそれほど相関がないと考える。\n",
    "ヒストグラムのビン幅は今回は決め打ち。スコットの公式を用いてビン幅を理論的に決めることも可能。Rではスコットの公式により\n",
    "ビン幅を決めるためのパッケージが用意されている。\n"
   ]
  },
  {
   "cell_type": "markdown",
   "metadata": {},
   "source": [
    "先ほどの検証で、ターゲットデータが不均衡であることを確認した。どの程度不均衡なのかを確認するために、円グラフで描画する。"
   ]
  },
  {
   "cell_type": "code",
   "execution_count": 9,
   "metadata": {},
   "outputs": [
    {
     "data": {
      "text/plain": [
       "([<matplotlib.patches.Wedge at 0x115d671d0>,\n",
       "  <matplotlib.patches.Wedge at 0x115d67940>],\n",
       " [Text(0.275998,-1.06481,''), Text(-0.275998,1.06481,'')],\n",
       " [Text(0.150544,-0.580807,'91.9%'), Text(-0.150544,0.580807,'8.1%')])"
      ]
     },
     "execution_count": 9,
     "metadata": {},
     "output_type": "execute_result"
    },
    {
     "data": {
      "image/png": "[encoded data removed]",
      "text/plain": [
       "<matplotlib.figure.Figure at 0x115c312b0>"
      ]
     },
     "metadata": {},
     "output_type": "display_data"
    }
   ],
   "source": [
    "###データ###\n",
    "data2 = data[\"TARGET\"].value_counts().values\n",
    "label = [\"0\", \"1\"]\n",
    "###綺麗に書くためのおまじない###\n",
    "plt.style.use('ggplot')\n",
    "plt.rcParams.update({'font.size':15})\n",
    "###各種パラメータ###\n",
    "size=(5,4.5)\n",
    "col=cm.cool(np.arange(len(data2))/float(len(data2)))\n",
    "###pie###\n",
    "plt.figure(figsize=size,dpi=100)\n",
    "plt.subplots_adjust(left=0,right=0.7)\n",
    "plt.pie(data2,colors=col,counterclock=False,startangle=90,autopct=lambda p:'{:.1f}%'.format(p) if p>=5 else '')"
   ]
  },
  {
   "cell_type": "markdown",
   "metadata": {},
   "source": [
    "かなり不均衡であることが確認できるが、そもそもこの目的変数（ターゲットラベル）がどのような定義に基づいてラベルづけされているかを確認する。　　　　\n",
    "\n",
    "columns_description.csv内には　「Target variable (1 - client with payment difficulties: he/she had late payment more than X days on at least one of the first Y installments of the loan in our sample, 0 - all other cases)\n",
    "」と記載されており、分割払いのうち一回でもx日、遅れていたら「返済能力が怪しい」として１のラベルがつくことになる。  \n",
    "\n",
    "ここで「10回分割払い、同じ返済額」のあるユーザーA,Bを考える。　　\n",
    "- Aは10回中9回とも期日に遅れることなくローンを返済しているが、最後の返済だけx+1日遅れて返済してしまった人  \n",
    "\n",
    "→このコンペの目的変数の定義によるとこれはターゲットラベル「１（返済能力が危うい）」に属する人になる　　\n",
    "　　\n",
    "- Bは10回中10回とも期日に遅れているが、遅れている日数がx-1日である.  \n",
    "\n",
    "→毎回微妙に締め切りが過ぎているが、今回の定義であるx日は過ぎていないのでターゲットラベルは「0」となり、返済能力が高い人となる。　\n",
    " \n",
    "他にも今回の定義が故に、直感と反するラベルづけになっているケースが存在することに注意する。\n",
    "\n",
    "例えば、Cというだらしないユーザーを想定する\n",
    "- Cは10回中10回ともx+10日遅れてローンを返済している。　\n",
    "\n",
    "→今回の定義ではターゲットラベルが「1」となる。この場合、ターゲットラベルの情報からはAとCは同じように扱われてしまうが、返済能力では異なるはずであり、Cの返済能力の方が低いと考えられる（Aの遅延日数は1日であり、遅延回数も1回）。今回のデータでは返済遅延日数のデータはないので、それに変わるようなデータを探し、そのデータを元に特徴量エンジニアリングを行うのが良いと考えられる。"
   ]
  },
  {
   "cell_type": "markdown",
   "metadata": {},
   "source": [
    "> X日が何日で設定されているのかは今回使用するデータだけではわからないので、ここについては論じない。実務分析では\n",
    "ここの閾値をどう設定するか、はたまた閾値を数パターンで検証したものを報告するか、クライアントへの期待値調整も込みで考える。\n",
    "（返済期限xについては本課題で使用しない他のファイルに記載されている。）"
   ]
  },
  {
   "cell_type": "markdown",
   "metadata": {},
   "source": [
    "## 仮説2\n",
    "返済が滞る人はローンを頻繁に組んでいそう。\n",
    "この仮説を検証するため、ターゲットラベルごとに、OBS_30_CNT_SOCIAL_CIRCLEとDEF_30_CNT_SOCIAL_CIRCLEの統計量を確認する。"
   ]
  },
  {
   "cell_type": "code",
   "execution_count": 10,
   "metadata": {},
   "outputs": [
    {
     "data": {
      "text/plain": [
       "count    281701.000000\n",
       "mean          1.415742\n",
       "std           2.402858\n",
       "min           0.000000\n",
       "25%           0.000000\n",
       "50%           0.000000\n",
       "75%           2.000000\n",
       "max         348.000000\n",
       "Name: OBS_30_CNT_SOCIAL_CIRCLE, dtype: float64"
      ]
     },
     "execution_count": 10,
     "metadata": {},
     "output_type": "execute_result"
    }
   ],
   "source": [
    "data[\"OBS_30_CNT_SOCIAL_CIRCLE\"][data[\"TARGET\"]==0].describe()"
   ]
  },
  {
   "cell_type": "code",
   "execution_count": 11,
   "metadata": {},
   "outputs": [
    {
     "data": {
      "text/plain": [
       "count    24789.000000\n",
       "mean         1.496147\n",
       "std          2.378438\n",
       "min          0.000000\n",
       "25%          0.000000\n",
       "50%          0.000000\n",
       "75%          2.000000\n",
       "max         30.000000\n",
       "Name: OBS_30_CNT_SOCIAL_CIRCLE, dtype: float64"
      ]
     },
     "execution_count": 11,
     "metadata": {},
     "output_type": "execute_result"
    }
   ],
   "source": [
    "data[\"OBS_30_CNT_SOCIAL_CIRCLE\"][data[\"TARGET\"]==1].describe()"
   ]
  },
  {
   "cell_type": "markdown",
   "metadata": {},
   "source": [
    "ターゲットラベルが0と１で1ヶ月間のユーザーの最大貸し出し（ローン）回数は変わるが、平均値、標準偏差に大差がないことからも\n",
    "分布がロングテールであることが予想される。念のため、分布を確認する。"
   ]
  },
  {
   "cell_type": "code",
   "execution_count": 12,
   "metadata": {},
   "outputs": [
    {
     "data": {
      "text/plain": [
       "<matplotlib.axes._subplots.AxesSubplot at 0x11516b240>"
      ]
     },
     "execution_count": 12,
     "metadata": {},
     "output_type": "execute_result"
    },
    {
     "data": {
      "image/png": "[encoded data removed]",
      "text/plain": [
       "<matplotlib.figure.Figure at 0x115bb3ef0>"
      ]
     },
     "metadata": {},
     "output_type": "display_data"
    }
   ],
   "source": [
    "data[\"OBS_30_CNT_SOCIAL_CIRCLE\"][data[\"TARGET\"]==0].plot.hist(bins=20, alpha = 0.3 \n",
    "                                                              ,color=\"b\" ,normed=True,range=(0,20))\n",
    "data[\"OBS_30_CNT_SOCIAL_CIRCLE\"][data[\"TARGET\"]==1].plot.hist(bins=20, alpha = 0.3, \n",
    "                                                              color=\"r\",normed=True,range=(0,20))"
   ]
  },
  {
   "cell_type": "code",
   "execution_count": 13,
   "metadata": {},
   "outputs": [
    {
     "data": {
      "text/plain": [
       "<matplotlib.axes._subplots.AxesSubplot at 0x116630470>"
      ]
     },
     "execution_count": 13,
     "metadata": {},
     "output_type": "execute_result"
    },
    {
     "data": {
      "image/png": "[encoded data removed]",
      "text/plain": [
       "<matplotlib.figure.Figure at 0x1166020b8>"
      ]
     },
     "metadata": {},
     "output_type": "display_data"
    }
   ],
   "source": [
    "data[\"DEF_30_CNT_SOCIAL_CIRCLE\"][data[\"TARGET\"]==0].plot.hist(bins=10, alpha = 0.3 \n",
    "                                                              ,color=\"b\" ,normed=True,range=(0,10))\n",
    "data[\"DEF_30_CNT_SOCIAL_CIRCLE\"][data[\"TARGET\"]==1].plot.hist(bins=10, alpha = 0.3, \n",
    "                                                              color=\"r\",normed=True,range=(0,10))"
   ]
  },
  {
   "cell_type": "markdown",
   "metadata": {},
   "source": [
    "正規化しているが、ユーザーのacitivate回数の分布に大差がないので、ターゲットラベルが1の人（返済能力が怪しい人）は\n",
    "ローン（貸し出し）回数が多くなる（もしくは、ローン回数が多くなり結果的に返済できなくなる）という仮説は間違っている。\n",
    "仮説が間違っている以外に考えられるのは、自分がこのカラムの意味を履き違えていること。その可能性を踏まえて、このカラム（DEF_30_CNT_SOCIAL_CIRCLE）と\n",
    "相関の高いカラムを確認し、その特徴量をEDAする。"
   ]
  },
  {
   "cell_type": "code",
   "execution_count": 14,
   "metadata": {
    "scrolled": true
   },
   "outputs": [
    {
     "data": {
      "text/plain": [
       "DEF_30_CNT_SOCIAL_CIRCLE       1.000000\n",
       "DEF_60_CNT_SOCIAL_CIRCLE       0.860517\n",
       "OBS_60_CNT_SOCIAL_CIRCLE       0.331571\n",
       "OBS_30_CNT_SOCIAL_CIRCLE       0.329338\n",
       "TARGET                         0.032248\n",
       "AMT_REQ_CREDIT_BUREAU_YEAR     0.018590\n",
       "DAYS_EMPLOYED                  0.016717\n",
       "REGION_RATING_CLIENT           0.015394\n",
       "REGION_RATING_CLIENT_W_CITY    0.013935\n",
       "FLAG_DOCUMENT_3                0.012654\n",
       "OWN_CAR_AGE                    0.008868\n",
       "FLAG_DOCUMENT_6                0.007707\n",
       "REG_CITY_NOT_LIVE_CITY         0.007167\n",
       "REGION_POPULATION_RELATIVE     0.006329\n",
       "NONLIVINGAPARTMENTS_MODE       0.005434\n",
       "FLAG_CONT_MOBILE               0.004814\n",
       "NONLIVINGAPARTMENTS_MEDI       0.004370\n",
       "NONLIVINGAPARTMENTS_AVG        0.003857\n",
       "DAYS_REGISTRATION              0.003361\n",
       "DAYS_ID_PUBLISH                0.002738\n",
       "FLAG_DOCUMENT_2                0.002395\n",
       "FLAG_MOBIL                     0.000580\n",
       "REG_CITY_NOT_WORK_CITY         0.000493\n",
       "DAYS_LAST_PHONE_CHANGE         0.000423\n",
       "AMT_REQ_CREDIT_BUREAU_MON      0.000331\n",
       "DAYS_BIRTH                     0.000206\n",
       "FLAG_DOCUMENT_20               0.000203\n",
       "SK_ID_CURR                    -0.000082\n",
       "AMT_REQ_CREDIT_BUREAU_HOUR    -0.000177\n",
       "FLAG_DOCUMENT_21              -0.000652\n",
       "                                 ...   \n",
       "AMT_INCOME_TOTAL              -0.013244\n",
       "APARTMENTS_MEDI               -0.013501\n",
       "APARTMENTS_AVG                -0.013608\n",
       "LIVINGAPARTMENTS_AVG          -0.014427\n",
       "LIVINGAPARTMENTS_MEDI         -0.014474\n",
       "LIVINGAPARTMENTS_MODE         -0.014732\n",
       "LIVINGAREA_MODE               -0.014851\n",
       "LIVINGAREA_MEDI               -0.015895\n",
       "LIVINGAREA_AVG                -0.016163\n",
       "FLAG_EMP_PHONE                -0.016557\n",
       "TOTALAREA_MODE                -0.016702\n",
       "LIVE_REGION_NOT_WORK_REGION   -0.016967\n",
       "REG_REGION_NOT_WORK_REGION    -0.017480\n",
       "FLAG_DOCUMENT_8               -0.018844\n",
       "ELEVATORS_MODE                -0.020207\n",
       "FLOORSMIN_MODE                -0.020536\n",
       "ELEVATORS_MEDI                -0.021033\n",
       "AMT_CREDIT                    -0.021229\n",
       "FLOORSMIN_AVG                 -0.021310\n",
       "ELEVATORS_AVG                 -0.021361\n",
       "FLOORSMIN_MEDI                -0.021385\n",
       "AMT_GOODS_PRICE               -0.022244\n",
       "AMT_ANNUITY                   -0.022833\n",
       "FLOORSMAX_MODE                -0.026919\n",
       "FLOORSMAX_MEDI                -0.027371\n",
       "FLOORSMAX_AVG                 -0.027420\n",
       "EXT_SOURCE_1                  -0.028751\n",
       "FLAG_PHONE                    -0.029758\n",
       "EXT_SOURCE_2                  -0.030406\n",
       "EXT_SOURCE_3                  -0.036253\n",
       "Name: DEF_30_CNT_SOCIAL_CIRCLE, Length: 106, dtype: float64"
      ]
     },
     "execution_count": 14,
     "metadata": {},
     "output_type": "execute_result"
    }
   ],
   "source": [
    "data.corr()[\"DEF_30_CNT_SOCIAL_CIRCLE\"].sort_values(ascending =False)"
   ]
  },
  {
   "cell_type": "markdown",
   "metadata": {},
   "source": [
    "top4と目的変数を除けば、AMT_REQ_CREDIT_BUREAU_YEAR (一年間にクレジットビューローを何回利用しているか\n",
    "                                         http://casyingfinance1.seesaa.net/article/62578746.html)\n",
    "が最も相関が高いので、その特徴量を深掘りしていく。"
   ]
  },
  {
   "cell_type": "code",
   "execution_count": 15,
   "metadata": {},
   "outputs": [
    {
     "data": {
      "text/plain": [
       "count    245459.000000\n",
       "mean          1.889199\n",
       "std           1.863376\n",
       "min           0.000000\n",
       "25%           0.000000\n",
       "50%           1.000000\n",
       "75%           3.000000\n",
       "max          25.000000\n",
       "Name: AMT_REQ_CREDIT_BUREAU_YEAR, dtype: float64"
      ]
     },
     "execution_count": 15,
     "metadata": {},
     "output_type": "execute_result"
    }
   ],
   "source": [
    "data[\"AMT_REQ_CREDIT_BUREAU_YEAR\"][data[\"TARGET\"]==0].describe()"
   ]
  },
  {
   "cell_type": "code",
   "execution_count": 16,
   "metadata": {},
   "outputs": [
    {
     "data": {
      "text/plain": [
       "count    20533.000000\n",
       "mean         2.028783\n",
       "std          1.934063\n",
       "min          0.000000\n",
       "25%          1.000000\n",
       "50%          2.000000\n",
       "75%          3.000000\n",
       "max         22.000000\n",
       "Name: AMT_REQ_CREDIT_BUREAU_YEAR, dtype: float64"
      ]
     },
     "execution_count": 16,
     "metadata": {},
     "output_type": "execute_result"
    }
   ],
   "source": [
    "data[\"AMT_REQ_CREDIT_BUREAU_YEAR\"][data[\"TARGET\"]==1].describe()"
   ]
  },
  {
   "cell_type": "code",
   "execution_count": 17,
   "metadata": {},
   "outputs": [
    {
     "data": {
      "text/plain": [
       "<matplotlib.axes._subplots.AxesSubplot at 0x116153dd8>"
      ]
     },
     "execution_count": 17,
     "metadata": {},
     "output_type": "execute_result"
    },
    {
     "data": {
      "image/png": "[encoded data removed]",
      "text/plain": [
       "<matplotlib.figure.Figure at 0x1151e2630>"
      ]
     },
     "metadata": {},
     "output_type": "display_data"
    }
   ],
   "source": [
    "data[\"AMT_REQ_CREDIT_BUREAU_YEAR\"][data[\"TARGET\"]==0].plot.hist(bins=20, alpha = 0.3 \n",
    "                                                              ,color=\"b\" ,normed=True,range=(0,20))\n",
    "data[\"AMT_REQ_CREDIT_BUREAU_YEAR\"][data[\"TARGET\"]==1].plot.hist(bins=20, alpha = 0.3, \n",
    "                                                              color=\"r\",normed=True,range=(0,20))"
   ]
  },
  {
   "cell_type": "markdown",
   "metadata": {},
   "source": [
    "## 仮説3\n",
    "ローン返済額が多い人は家計が圧迫され、返済が滞ると考えられる。　\n",
    "この仮説を検証するため、ターゲットラベルごとに、バイオリンプロットで分布を確認する。"
   ]
  },
  {
   "cell_type": "code",
   "execution_count": 18,
   "metadata": {},
   "outputs": [
    {
     "data": {
      "text/plain": [
       "<matplotlib.axes._subplots.AxesSubplot at 0x11616d8d0>"
      ]
     },
     "execution_count": 18,
     "metadata": {},
     "output_type": "execute_result"
    },
    {
     "data": {
      "image/png": "[encoded data removed]",
      "text/plain": [
       "<matplotlib.figure.Figure at 0x11616def0>"
      ]
     },
     "metadata": {},
     "output_type": "display_data"
    }
   ],
   "source": [
    "import seaborn as sns\n",
    "\n",
    "size=(3,5)\n",
    "plt.figure(figsize=size,dpi=100)\n",
    "sns.violinplot(\"TARGET\",\"AMT_ANNUITY\" , data = data)"
   ]
  },
  {
   "cell_type": "markdown",
   "metadata": {},
   "source": [
    "上の図から仮説は間違っていたことが確認できる。ラベルごとでローン返済額の分布は変わらず。ターゲットラベル「0」の人の方がローン返済額の最大値が多く、ローン額150000ドル以上はターゲットラベル「１」の中にはいない。 "
   ]
  },
  {
   "cell_type": "markdown",
   "metadata": {},
   "source": [
    "## 仮説4\n",
    "ローン返済額とローン返済額の総計には相関がある。月々の支払いが高額な人は借りている合計金額も高額であるかもしれない。"
   ]
  },
  {
   "cell_type": "code",
   "execution_count": 19,
   "metadata": {},
   "outputs": [
    {
     "data": {
      "text/plain": [
       "<matplotlib.axes._subplots.AxesSubplot at 0x1180c1f60>"
      ]
     },
     "execution_count": 19,
     "metadata": {},
     "output_type": "execute_result"
    },
    {
     "data": {
      "image/png": "[encoded data removed]",
      "text/plain": [
       "<matplotlib.figure.Figure at 0x1165c8710>"
      ]
     },
     "metadata": {},
     "output_type": "display_data"
    }
   ],
   "source": [
    "sns.violinplot(\"TARGET\",\"AMT_CREDIT\" , data = data)"
   ]
  },
  {
   "cell_type": "markdown",
   "metadata": {},
   "source": [
    "分布を確認する限り、仮説4は間違っていそうだが、,\"AMT_ANNUITY\" と\"AMT_CREDIT\" はどちらも連続量であるため、相関の有無を\n",
    "確認する。"
   ]
  },
  {
   "cell_type": "code",
   "execution_count": 20,
   "metadata": {},
   "outputs": [
    {
     "data": {
      "text/html": [
       "<div>\n",
       "<style scoped>\n",
       "    .dataframe tbody tr th:only-of-type {\n",
       "        vertical-align: middle;\n",
       "    }\n",
       "\n",
       "    .dataframe tbody tr th {\n",
       "        vertical-align: top;\n",
       "    }\n",
       "\n",
       "    .dataframe thead th {\n",
       "        text-align: right;\n",
       "    }\n",
       "</style>\n",
       "<table border=\"1\" class=\"dataframe\">\n",
       "  <thead>\n",
       "    <tr style=\"text-align: right;\">\n",
       "      <th></th>\n",
       "      <th>AMT_ANNUITY</th>\n",
       "      <th>AMT_CREDIT</th>\n",
       "    </tr>\n",
       "  </thead>\n",
       "  <tbody>\n",
       "    <tr>\n",
       "      <th>AMT_ANNUITY</th>\n",
       "      <td>1.000000</td>\n",
       "      <td>0.770138</td>\n",
       "    </tr>\n",
       "    <tr>\n",
       "      <th>AMT_CREDIT</th>\n",
       "      <td>0.770138</td>\n",
       "      <td>1.000000</td>\n",
       "    </tr>\n",
       "  </tbody>\n",
       "</table>\n",
       "</div>"
      ],
      "text/plain": [
       "             AMT_ANNUITY  AMT_CREDIT\n",
       "AMT_ANNUITY     1.000000    0.770138\n",
       "AMT_CREDIT      0.770138    1.000000"
      ]
     },
     "execution_count": 20,
     "metadata": {},
     "output_type": "execute_result"
    }
   ],
   "source": [
    "data[[\"AMT_ANNUITY\",\"AMT_CREDIT\"]].corr()"
   ]
  },
  {
   "cell_type": "markdown",
   "metadata": {},
   "source": [
    "全データに対して算出した相関係数は0.77である。データの性質上相関係数の値のみでは相関の有無は判断できないので、散布図でも確認してみる。"
   ]
  },
  {
   "cell_type": "code",
   "execution_count": 21,
   "metadata": {},
   "outputs": [
    {
     "data": {
      "text/plain": [
       "Text(0,0.5,'AMT_ANNUITY')"
      ]
     },
     "execution_count": 21,
     "metadata": {},
     "output_type": "execute_result"
    },
    {
     "data": {
      "image/png": "[encoded data removed]",
      "text/plain": [
       "<matplotlib.figure.Figure at 0x115605da0>"
      ]
     },
     "metadata": {},
     "output_type": "display_data"
    }
   ],
   "source": [
    "plt.scatter(data[\"AMT_CREDIT\"], data[\"AMT_ANNUITY\"])\n",
    "plt.xlabel('AMT_CREDIT')\n",
    "plt.ylabel('AMT_ANNUITY')"
   ]
  },
  {
   "cell_type": "markdown",
   "metadata": {},
   "source": [
    "上の散布図から、ある金額（AMT_CREDIT）を借りている場合にそれに対応する月額返済額(AMT_ANNUITY)の\n",
    "上限と下限が決まっていることが確認できる。　\n",
    "\n",
    "その制約条件範囲外ではデータは存在しないことになり、現状の2次元空間で相関係数を算出することは厳密ではない。\n",
    "まとめると、上で算出した相関係数0.77という値から相関の有無を判断することはできないと考える。"
   ]
  },
  {
   "cell_type": "markdown",
   "metadata": {},
   "source": [
    "もし相関係数を確認するなら、AMT_CREDITとAMT_ANNUITYにアフィン変換を施すなどしてから算出する必要がある。"
   ]
  },
  {
   "cell_type": "markdown",
   "metadata": {},
   "source": [
    "## 外れ値の確認\n",
    "ここでは、外れ値がデータ分析において外れ値がよく混在している年齢についてみていく。"
   ]
  },
  {
   "cell_type": "code",
   "execution_count": 22,
   "metadata": {},
   "outputs": [],
   "source": [
    "data[\"age\"] = abs(data[\"DAYS_BIRTH\"]/365).round().astype(int)"
   ]
  },
  {
   "cell_type": "code",
   "execution_count": 23,
   "metadata": {},
   "outputs": [
    {
     "data": {
      "text/plain": [
       "<matplotlib.axes._subplots.AxesSubplot at 0x106832a58>"
      ]
     },
     "execution_count": 23,
     "metadata": {},
     "output_type": "execute_result"
    },
    {
     "data": {
      "image/png": "[encoded data removed]",
      "text/plain": [
       "<matplotlib.figure.Figure at 0x105a6d0b8>"
      ]
     },
     "metadata": {},
     "output_type": "display_data"
    }
   ],
   "source": [
    "data[\"age\"].hist(bins = data[\"age\"].nunique())"
   ]
  },
  {
   "cell_type": "markdown",
   "metadata": {},
   "source": [
    "特に年齢における外れ値は存在しない。次に、登録日をみてみる。"
   ]
  },
  {
   "cell_type": "code",
   "execution_count": 24,
   "metadata": {},
   "outputs": [],
   "source": [
    "data[\"regist_year\"]= abs(data[\"DAYS_REGISTRATION\"]/365).round().astype(int)"
   ]
  },
  {
   "cell_type": "code",
   "execution_count": 25,
   "metadata": {},
   "outputs": [
    {
     "data": {
      "text/plain": [
       "<matplotlib.axes._subplots.AxesSubplot at 0x119cffd68>"
      ]
     },
     "execution_count": 25,
     "metadata": {},
     "output_type": "execute_result"
    },
    {
     "data": {
      "image/png": "[encoded data removed]",
      "text/plain": [
       "<matplotlib.figure.Figure at 0x1178919e8>"
      ]
     },
     "metadata": {},
     "output_type": "display_data"
    }
   ],
   "source": [
    "data[\"regist_year\"].hist(bins=data[\"regist_year\"].nunique())"
   ]
  },
  {
   "cell_type": "code",
   "execution_count": 26,
   "metadata": {},
   "outputs": [
    {
     "data": {
      "text/plain": [
       "2"
      ]
     },
     "execution_count": 26,
     "metadata": {},
     "output_type": "execute_result"
    }
   ],
   "source": [
    "len(data[data[\"regist_year\"]==60])"
   ]
  },
  {
   "cell_type": "markdown",
   "metadata": {},
   "source": [
    "loan（貸し出し）の登録してから60年経過しているユーザーが2人いる。公式サイトの情報ではHome Credit社は1997年設立と記載されており、\n",
    "20年以上のデータは全て異常データとなるが、データの分布からこれほど多くのデータが異常データと考え難い。\n",
    "おそらく、\"DAYS_REGISTRATION\"カラムは、home credit社のローン登録日ではなく、すでに他社のローンを組んでおり、\n",
    "home credit社のローンへ切り替えたユーザーのデータなどが入り混じっていると考えられる。　\n",
    "しかし、いくらローンの開始日と言っても、68年前（1950年）から開始しているローンがあるので、\n",
    "大昔に登録されたデータに対しては削除するなどの措置を取ることも考えられる。"
   ]
  },
  {
   "cell_type": "code",
   "execution_count": 27,
   "metadata": {},
   "outputs": [
    {
     "data": {
      "text/plain": [
       "68"
      ]
     },
     "execution_count": 27,
     "metadata": {},
     "output_type": "execute_result"
    }
   ],
   "source": [
    "data[\"regist_year\"].max()"
   ]
  },
  {
   "cell_type": "markdown",
   "metadata": {},
   "source": [
    "## 欠損値の確認"
   ]
  },
  {
   "cell_type": "markdown",
   "metadata": {},
   "source": [
    "全ユーザーのうち、50%以上が欠損であるカラムをカウントする。"
   ]
  },
  {
   "cell_type": "code",
   "execution_count": 28,
   "metadata": {
    "scrolled": true
   },
   "outputs": [
    {
     "data": {
      "text/plain": [
       "(41, 1)"
      ]
     },
     "execution_count": 28,
     "metadata": {},
     "output_type": "execute_result"
    }
   ],
   "source": [
    "missing_data = pd.DataFrame(data.isnull().sum()/len(data))\n",
    "missing_50 = missing_data[missing_data.iloc[:,0]>=0.5]\n",
    "missing_50.shape"
   ]
  },
  {
   "cell_type": "markdown",
   "metadata": {},
   "source": [
    "※41個の特徴量が50%以上nanなので、一つずつ精査する必要がある。\n",
    "実際にこのようなデータに直面した時はそもそもなぜNaNになっているか、そしてそれを踏まえた上で、\n",
    "除去するしないを考える。注意点としてはNanだからといって必ずしも除外するとは限らないことである。\n",
    "例えば、ユーザーが手打ちで適当に入力するデータの場合（記入が必須でない記入欄のデータは当然Nanになる）、\n",
    "それを除外し集計、モデリングを実施してしまうと、実際の想定ユーザーと異なるデータでモデリングすることになる。\n",
    "そういった場合を考え、NanをNanのまま扱えるモデルを選定したり、Nanには別のラベルを付与するなどする。"
   ]
  },
  {
   "cell_type": "code",
   "execution_count": null,
   "metadata": {},
   "outputs": [],
   "source": []
  },
  {
   "cell_type": "code",
   "execution_count": null,
   "metadata": {},
   "outputs": [],
   "source": []
  }
 ],
 "metadata": {
  "kernelspec": {
   "display_name": "Python 3",
   "language": "python",
   "name": "python3"
  },
  "language_info": {
   "codemirror_mode": {
    "name": "ipython",
    "version": 3
   },
   "file_extension": ".py",
   "mimetype": "text/x-python",
   "name": "python",
   "nbconvert_exporter": "python",
   "pygments_lexer": "ipython3",
   "version": "3.6.4"
  }
 },
 "nbformat": 4,
 "nbformat_minor": 4
}
